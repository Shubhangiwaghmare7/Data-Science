{
 "cells": [
  {
   "cell_type": "markdown",
   "id": "fcdb62e7",
   "metadata": {},
   "source": [
    "# Reading dataframe\n",
    "### Reading the dataset\n",
    "### Checking the Datatypes of the columns(schema)\n",
    "### Selecting columns and indexing\n",
    "### Check describe option similar to pandas\n",
    "### adding columns\n",
    "###  dropping columns\n",
    "### renaming column"
   ]
  },
  {
   "cell_type": "code",
   "execution_count": 1,
   "id": "3e999661",
   "metadata": {},
   "outputs": [],
   "source": [
    "from pyspark.sql import SparkSession"
   ]
  },
  {
   "cell_type": "code",
   "execution_count": 2,
   "id": "2afb847f",
   "metadata": {},
   "outputs": [],
   "source": [
    "spark=SparkSession.builder.appName('Dataframe').getOrCreate()"
   ]
  },
  {
   "cell_type": "code",
   "execution_count": 4,
   "id": "32c9848f",
   "metadata": {},
   "outputs": [
    {
     "data": {
      "text/html": [
       "\n",
       "            <div>\n",
       "                <p><b>SparkSession - in-memory</b></p>\n",
       "                \n",
       "        <div>\n",
       "            <p><b>SparkContext</b></p>\n",
       "\n",
       "            <p><a href=\"http://LAPTOP-DJFRDGBG:4041\">Spark UI</a></p>\n",
       "\n",
       "            <dl>\n",
       "              <dt>Version</dt>\n",
       "                <dd><code>v3.1.1</code></dd>\n",
       "              <dt>Master</dt>\n",
       "                <dd><code>local[*]</code></dd>\n",
       "              <dt>AppName</dt>\n",
       "                <dd><code>Dataframe</code></dd>\n",
       "            </dl>\n",
       "        </div>\n",
       "        \n",
       "            </div>\n",
       "        "
      ],
      "text/plain": [
       "<pyspark.sql.session.SparkSession at 0x186abbb9220>"
      ]
     },
     "execution_count": 4,
     "metadata": {},
     "output_type": "execute_result"
    }
   ],
   "source": [
    "spark"
   ]
  },
  {
   "cell_type": "code",
   "execution_count": 9,
   "id": "20ad19d5",
   "metadata": {},
   "outputs": [
    {
     "name": "stdout",
     "output_type": "stream",
     "text": [
      "+----------+---+----------+\n",
      "|      Name|Age|Experience|\n",
      "+----------+---+----------+\n",
      "|Shubhangi | 26|       4.4|\n",
      "|   Ashwini| 28|       5.5|\n",
      "|   Saritha| 26|         4|\n",
      "|      Amar| 24|         3|\n",
      "|     Chimu|  1|         0|\n",
      "|      Namo| 25|         3|\n",
      "+----------+---+----------+\n",
      "\n"
     ]
    }
   ],
   "source": [
    "#read the dataset\n",
    "df_pyspark=spark.read.option('header','true').csv('test.csv').show()\n",
    "df_pyspark=spark.read.option('header','true').csv('test.csv')"
   ]
  },
  {
   "cell_type": "code",
   "execution_count": 17,
   "id": "6a72f8bb",
   "metadata": {},
   "outputs": [
    {
     "name": "stdout",
     "output_type": "stream",
     "text": [
      "root\n",
      " |-- Name: string (nullable = true)\n",
      " |-- Age: integer (nullable = true)\n",
      " |-- Experience: double (nullable = true)\n",
      "\n",
      "None\n",
      "root\n",
      " |-- Name: string (nullable = true)\n",
      " |-- Age: integer (nullable = true)\n",
      " |-- Experience: double (nullable = true)\n",
      "\n",
      "None\n"
     ]
    }
   ],
   "source": [
    "#check the schema different types\n",
    "#Type 1\n",
    "print(df_pyspark.printSchema())\n",
    "# to get exact data types as interger,float and string we need to at inferschema=true in .csv file\n",
    "df_pyspark1=spark.read.option('header','true').csv('test.csv',inferSchema=True)\n",
    "print(df_pyspark1.printSchema())"
   ]
  },
  {
   "cell_type": "code",
   "execution_count": 18,
   "id": "4ad0f1b4",
   "metadata": {},
   "outputs": [
    {
     "name": "stdout",
     "output_type": "stream",
     "text": [
      "+----------+---+----------+\n",
      "|      Name|Age|Experience|\n",
      "+----------+---+----------+\n",
      "|Shubhangi | 26|       4.4|\n",
      "|   Ashwini| 28|       5.5|\n",
      "|   Saritha| 26|       4.0|\n",
      "|      Amar| 24|       3.0|\n",
      "|     Chimu|  1|       0.0|\n",
      "|      Namo| 25|       3.0|\n",
      "+----------+---+----------+\n",
      "\n"
     ]
    }
   ],
   "source": [
    "# Type2 of reading dataframe\n",
    "df_pyspark=spark.read.csv('test.csv',header=True,inferSchema=True)\n",
    "df_pyspark.show()"
   ]
  },
  {
   "cell_type": "code",
   "execution_count": 19,
   "id": "477e28e6",
   "metadata": {},
   "outputs": [
    {
     "data": {
      "text/plain": [
       "pyspark.sql.dataframe.DataFrame"
      ]
     },
     "execution_count": 19,
     "metadata": {},
     "output_type": "execute_result"
    }
   ],
   "source": [
    "type(df_pyspark)"
   ]
  },
  {
   "cell_type": "code",
   "execution_count": 23,
   "id": "e9fb1711",
   "metadata": {},
   "outputs": [
    {
     "data": {
      "text/plain": [
       "[Row(Name='Shubhangi ', Age=26, Experience=4.4),\n",
       " Row(Name='Ashwini', Age=28, Experience=5.5),\n",
       " Row(Name='Saritha', Age=26, Experience=4.0),\n",
       " Row(Name='Amar', Age=24, Experience=3.0),\n",
       " Row(Name='Chimu', Age=1, Experience=0.0),\n",
       " Row(Name='Namo', Age=25, Experience=3.0)]"
      ]
     },
     "execution_count": 23,
     "metadata": {},
     "output_type": "execute_result"
    }
   ],
   "source": [
    "df_pyspark.head(6)"
   ]
  },
  {
   "cell_type": "code",
   "execution_count": 24,
   "id": "640f5387",
   "metadata": {},
   "outputs": [
    {
     "name": "stdout",
     "output_type": "stream",
     "text": [
      "+----------+---+----------+\n",
      "|      Name|Age|Experience|\n",
      "+----------+---+----------+\n",
      "|Shubhangi | 26|       4.4|\n",
      "|   Ashwini| 28|       5.5|\n",
      "|   Saritha| 26|       4.0|\n",
      "|      Amar| 24|       3.0|\n",
      "|     Chimu|  1|       0.0|\n",
      "|      Namo| 25|       3.0|\n",
      "+----------+---+----------+\n",
      "\n"
     ]
    }
   ],
   "source": [
    "df_pyspark.show()"
   ]
  },
  {
   "cell_type": "code",
   "execution_count": 27,
   "id": "d21d94a5",
   "metadata": {},
   "outputs": [
    {
     "name": "stdout",
     "output_type": "stream",
     "text": [
      "+----------+\n",
      "|      Name|\n",
      "+----------+\n",
      "|Shubhangi |\n",
      "|   Ashwini|\n",
      "|   Saritha|\n",
      "|      Amar|\n",
      "|     Chimu|\n",
      "|      Namo|\n",
      "+----------+\n",
      "\n"
     ]
    },
    {
     "data": {
      "text/plain": [
       "pyspark.sql.dataframe.DataFrame"
      ]
     },
     "execution_count": 27,
     "metadata": {},
     "output_type": "execute_result"
    }
   ],
   "source": [
    "#pick up one column\n",
    "df_pyspark.select('Name').show()\n",
    "type(df_pyspark.select('Name'))"
   ]
  },
  {
   "cell_type": "code",
   "execution_count": 28,
   "id": "2e32a322",
   "metadata": {},
   "outputs": [
    {
     "name": "stdout",
     "output_type": "stream",
     "text": [
      "+----------+----------+\n",
      "|      Name|Experience|\n",
      "+----------+----------+\n",
      "|Shubhangi |       4.4|\n",
      "|   Ashwini|       5.5|\n",
      "|   Saritha|       4.0|\n",
      "|      Amar|       3.0|\n",
      "|     Chimu|       0.0|\n",
      "|      Namo|       3.0|\n",
      "+----------+----------+\n",
      "\n"
     ]
    }
   ],
   "source": [
    "df_pyspark.select(['Name','Experience']).show()"
   ]
  },
  {
   "cell_type": "code",
   "execution_count": 29,
   "id": "786b96b2",
   "metadata": {},
   "outputs": [
    {
     "data": {
      "text/plain": [
       "Column<'Name'>"
      ]
     },
     "execution_count": 29,
     "metadata": {},
     "output_type": "execute_result"
    }
   ],
   "source": [
    "df_pyspark['Name']"
   ]
  },
  {
   "cell_type": "code",
   "execution_count": 30,
   "id": "e1855ac1",
   "metadata": {},
   "outputs": [
    {
     "data": {
      "text/plain": [
       "[('Name', 'string'), ('Age', 'int'), ('Experience', 'double')]"
      ]
     },
     "execution_count": 30,
     "metadata": {},
     "output_type": "execute_result"
    }
   ],
   "source": [
    "df_pyspark.dtypes"
   ]
  },
  {
   "cell_type": "code",
   "execution_count": 32,
   "id": "3882ab1a",
   "metadata": {},
   "outputs": [
    {
     "name": "stdout",
     "output_type": "stream",
     "text": [
      "+-------+----------+------------------+------------------+\n",
      "|summary|      Name|               Age|        Experience|\n",
      "+-------+----------+------------------+------------------+\n",
      "|  count|         6|                 6|                 6|\n",
      "|   mean|      null|21.666666666666668|3.3166666666666664|\n",
      "| stddev|      null| 10.21110506589109|1.8766104195241662|\n",
      "|    min|      Amar|                 1|               0.0|\n",
      "|    max|Shubhangi |                28|               5.5|\n",
      "+-------+----------+------------------+------------------+\n",
      "\n"
     ]
    }
   ],
   "source": [
    "df_pyspark.describe().show()"
   ]
  },
  {
   "cell_type": "code",
   "execution_count": 38,
   "id": "c8b99f01",
   "metadata": {},
   "outputs": [],
   "source": [
    "#adding columns in data frame\n",
    "df_pyspark=df_pyspark.withColumn('Experience after 2 years',df_pyspark['Experience']+2)\n"
   ]
  },
  {
   "cell_type": "code",
   "execution_count": 39,
   "id": "f74b2158",
   "metadata": {},
   "outputs": [
    {
     "name": "stdout",
     "output_type": "stream",
     "text": [
      "+----------+---+----------+------------------------+\n",
      "|      Name|Age|Experience|Experience after 2 years|\n",
      "+----------+---+----------+------------------------+\n",
      "|Shubhangi | 26|       4.4|                     6.4|\n",
      "|   Ashwini| 28|       5.5|                     7.5|\n",
      "|   Saritha| 26|       4.0|                     6.0|\n",
      "|      Amar| 24|       3.0|                     5.0|\n",
      "|     Chimu|  1|       0.0|                     2.0|\n",
      "|      Namo| 25|       3.0|                     5.0|\n",
      "+----------+---+----------+------------------------+\n",
      "\n"
     ]
    }
   ],
   "source": [
    "df_pyspark.show()"
   ]
  },
  {
   "cell_type": "code",
   "execution_count": 41,
   "id": "5bd1ea4f",
   "metadata": {},
   "outputs": [
    {
     "name": "stdout",
     "output_type": "stream",
     "text": [
      "+----------+---+----------+\n",
      "|      Name|Age|Experience|\n",
      "+----------+---+----------+\n",
      "|Shubhangi | 26|       4.4|\n",
      "|   Ashwini| 28|       5.5|\n",
      "|   Saritha| 26|       4.0|\n",
      "|      Amar| 24|       3.0|\n",
      "|     Chimu|  1|       0.0|\n",
      "|      Namo| 25|       3.0|\n",
      "+----------+---+----------+\n",
      "\n"
     ]
    }
   ],
   "source": [
    "#drop the columns\n",
    "df_pyspark.drop('Experience after 2 years').show()"
   ]
  },
  {
   "cell_type": "code",
   "execution_count": 42,
   "id": "e20eec74",
   "metadata": {},
   "outputs": [
    {
     "name": "stdout",
     "output_type": "stream",
     "text": [
      "+----------+---+----------+------------------------+\n",
      "|  new name|Age|Experience|Experience after 2 years|\n",
      "+----------+---+----------+------------------------+\n",
      "|Shubhangi | 26|       4.4|                     6.4|\n",
      "|   Ashwini| 28|       5.5|                     7.5|\n",
      "|   Saritha| 26|       4.0|                     6.0|\n",
      "|      Amar| 24|       3.0|                     5.0|\n",
      "|     Chimu|  1|       0.0|                     2.0|\n",
      "|      Namo| 25|       3.0|                     5.0|\n",
      "+----------+---+----------+------------------------+\n",
      "\n"
     ]
    }
   ],
   "source": [
    "#rename the columns\n",
    "df_pyspark.withColumnRenamed('Name','new name').show()"
   ]
  },
  {
   "cell_type": "code",
   "execution_count": null,
   "id": "d734142e",
   "metadata": {},
   "outputs": [],
   "source": []
  },
  {
   "cell_type": "code",
   "execution_count": null,
   "id": "106cd2e2",
   "metadata": {},
   "outputs": [],
   "source": []
  },
  {
   "cell_type": "code",
   "execution_count": null,
   "id": "d9c9f218",
   "metadata": {},
   "outputs": [],
   "source": []
  }
 ],
 "metadata": {
  "kernelspec": {
   "display_name": "Python 3",
   "language": "python",
   "name": "python3"
  },
  "language_info": {
   "codemirror_mode": {
    "name": "ipython",
    "version": 3
   },
   "file_extension": ".py",
   "mimetype": "text/x-python",
   "name": "python",
   "nbconvert_exporter": "python",
   "pygments_lexer": "ipython3",
   "version": "3.8.5"
  }
 },
 "nbformat": 4,
 "nbformat_minor": 5
}
