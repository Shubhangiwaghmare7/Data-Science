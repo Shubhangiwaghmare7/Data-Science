{
 "cells": [
  {
   "cell_type": "markdown",
   "metadata": {
    "colab_type": "text",
    "id": "view-in-github"
   },
   "source": [
    "<a href=\"https://colab.research.google.com/github/Shubhangiwaghmare7/Data-Science/blob/main/deeplearningLRclass1.ipynb\" target=\"_parent\"><img src=\"https://colab.research.google.com/assets/colab-badge.svg\" alt=\"Open In Colab\"/></a>"
   ]
  },
  {
   "cell_type": "code",
   "execution_count": 3,
   "metadata": {
    "colab": {
     "base_uri": "https://localhost:8080/"
    },
    "id": "pjZgIfv13eFu",
    "outputId": "1ba4682a-a621-4025-f923-5151e9c626d4"
   },
   "outputs": [],
   "source": [
    "# !pip install tensorflow"
   ]
  },
  {
   "cell_type": "code",
   "execution_count": 4,
   "metadata": {
    "id": "tg-LDZvF57P3"
   },
   "outputs": [],
   "source": [
    "#import libraries\n",
    "import numpy as np\n",
    "import pandas as pd\n",
    "import seaborn as sns\n",
    "import matplotlib.pyplot as plt\n",
    "import tensorflow \n",
    "from tensorflow.keras.models import Sequential\n",
    "from tensorflow.keras.layers import Dense\n",
    "import warnings\n",
    "from sklearn.model_selection import train_test_split\n",
    "%matplotlib inline\n",
    "warnings.filterwarnings('ignore')"
   ]
  },
  {
   "cell_type": "code",
   "execution_count": 5,
   "metadata": {
    "id": "epFDILs5_i9L"
   },
   "outputs": [],
   "source": [
    "url='https://raw.githubusercontent.com/Afsaan/Linear-Regression-with-TensorFlow-2.x/master/graduate_admission.csv'"
   ]
  },
  {
   "cell_type": "code",
   "execution_count": 6,
   "metadata": {
    "colab": {
     "base_uri": "https://localhost:8080/",
     "height": 402
    },
    "id": "2yq2I0Bl_sv_",
    "outputId": "e8791ef3-5ae2-4df0-8c56-e6c60d0ef961"
   },
   "outputs": [
    {
     "data": {
      "text/html": [
       "<div>\n",
       "<style scoped>\n",
       "    .dataframe tbody tr th:only-of-type {\n",
       "        vertical-align: middle;\n",
       "    }\n",
       "\n",
       "    .dataframe tbody tr th {\n",
       "        vertical-align: top;\n",
       "    }\n",
       "\n",
       "    .dataframe thead th {\n",
       "        text-align: right;\n",
       "    }\n",
       "</style>\n",
       "<table border=\"1\" class=\"dataframe\">\n",
       "  <thead>\n",
       "    <tr style=\"text-align: right;\">\n",
       "      <th></th>\n",
       "      <th>index</th>\n",
       "      <th>gre</th>\n",
       "      <th>toefl</th>\n",
       "      <th>uni_rating</th>\n",
       "      <th>sop</th>\n",
       "      <th>lor</th>\n",
       "      <th>cgpa</th>\n",
       "      <th>research</th>\n",
       "      <th>admit</th>\n",
       "    </tr>\n",
       "  </thead>\n",
       "  <tbody>\n",
       "    <tr>\n",
       "      <th>0</th>\n",
       "      <td>1</td>\n",
       "      <td>337</td>\n",
       "      <td>118</td>\n",
       "      <td>4</td>\n",
       "      <td>4.5</td>\n",
       "      <td>4.5</td>\n",
       "      <td>9.65</td>\n",
       "      <td>1</td>\n",
       "      <td>0.92</td>\n",
       "    </tr>\n",
       "    <tr>\n",
       "      <th>1</th>\n",
       "      <td>2</td>\n",
       "      <td>324</td>\n",
       "      <td>107</td>\n",
       "      <td>4</td>\n",
       "      <td>4.0</td>\n",
       "      <td>4.5</td>\n",
       "      <td>8.87</td>\n",
       "      <td>1</td>\n",
       "      <td>0.76</td>\n",
       "    </tr>\n",
       "    <tr>\n",
       "      <th>2</th>\n",
       "      <td>3</td>\n",
       "      <td>316</td>\n",
       "      <td>104</td>\n",
       "      <td>3</td>\n",
       "      <td>3.0</td>\n",
       "      <td>3.5</td>\n",
       "      <td>8.00</td>\n",
       "      <td>1</td>\n",
       "      <td>0.72</td>\n",
       "    </tr>\n",
       "    <tr>\n",
       "      <th>3</th>\n",
       "      <td>4</td>\n",
       "      <td>322</td>\n",
       "      <td>110</td>\n",
       "      <td>3</td>\n",
       "      <td>3.5</td>\n",
       "      <td>2.5</td>\n",
       "      <td>8.67</td>\n",
       "      <td>1</td>\n",
       "      <td>0.80</td>\n",
       "    </tr>\n",
       "    <tr>\n",
       "      <th>4</th>\n",
       "      <td>5</td>\n",
       "      <td>314</td>\n",
       "      <td>103</td>\n",
       "      <td>2</td>\n",
       "      <td>2.0</td>\n",
       "      <td>3.0</td>\n",
       "      <td>8.21</td>\n",
       "      <td>0</td>\n",
       "      <td>0.65</td>\n",
       "    </tr>\n",
       "    <tr>\n",
       "      <th>...</th>\n",
       "      <td>...</td>\n",
       "      <td>...</td>\n",
       "      <td>...</td>\n",
       "      <td>...</td>\n",
       "      <td>...</td>\n",
       "      <td>...</td>\n",
       "      <td>...</td>\n",
       "      <td>...</td>\n",
       "      <td>...</td>\n",
       "    </tr>\n",
       "    <tr>\n",
       "      <th>395</th>\n",
       "      <td>396</td>\n",
       "      <td>324</td>\n",
       "      <td>110</td>\n",
       "      <td>3</td>\n",
       "      <td>3.5</td>\n",
       "      <td>3.5</td>\n",
       "      <td>9.04</td>\n",
       "      <td>1</td>\n",
       "      <td>0.82</td>\n",
       "    </tr>\n",
       "    <tr>\n",
       "      <th>396</th>\n",
       "      <td>397</td>\n",
       "      <td>325</td>\n",
       "      <td>107</td>\n",
       "      <td>3</td>\n",
       "      <td>3.0</td>\n",
       "      <td>3.5</td>\n",
       "      <td>9.11</td>\n",
       "      <td>1</td>\n",
       "      <td>0.84</td>\n",
       "    </tr>\n",
       "    <tr>\n",
       "      <th>397</th>\n",
       "      <td>398</td>\n",
       "      <td>330</td>\n",
       "      <td>116</td>\n",
       "      <td>4</td>\n",
       "      <td>5.0</td>\n",
       "      <td>4.5</td>\n",
       "      <td>9.45</td>\n",
       "      <td>1</td>\n",
       "      <td>0.91</td>\n",
       "    </tr>\n",
       "    <tr>\n",
       "      <th>398</th>\n",
       "      <td>399</td>\n",
       "      <td>312</td>\n",
       "      <td>103</td>\n",
       "      <td>3</td>\n",
       "      <td>3.5</td>\n",
       "      <td>4.0</td>\n",
       "      <td>8.78</td>\n",
       "      <td>0</td>\n",
       "      <td>0.67</td>\n",
       "    </tr>\n",
       "    <tr>\n",
       "      <th>399</th>\n",
       "      <td>400</td>\n",
       "      <td>333</td>\n",
       "      <td>117</td>\n",
       "      <td>4</td>\n",
       "      <td>5.0</td>\n",
       "      <td>4.0</td>\n",
       "      <td>9.66</td>\n",
       "      <td>1</td>\n",
       "      <td>0.95</td>\n",
       "    </tr>\n",
       "  </tbody>\n",
       "</table>\n",
       "<p>400 rows × 9 columns</p>\n",
       "</div>"
      ],
      "text/plain": [
       "     index  gre  toefl  uni_rating  sop  lor  cgpa  research  admit\n",
       "0        1  337    118           4  4.5  4.5  9.65         1   0.92\n",
       "1        2  324    107           4  4.0  4.5  8.87         1   0.76\n",
       "2        3  316    104           3  3.0  3.5  8.00         1   0.72\n",
       "3        4  322    110           3  3.5  2.5  8.67         1   0.80\n",
       "4        5  314    103           2  2.0  3.0  8.21         0   0.65\n",
       "..     ...  ...    ...         ...  ...  ...   ...       ...    ...\n",
       "395    396  324    110           3  3.5  3.5  9.04         1   0.82\n",
       "396    397  325    107           3  3.0  3.5  9.11         1   0.84\n",
       "397    398  330    116           4  5.0  4.5  9.45         1   0.91\n",
       "398    399  312    103           3  3.5  4.0  8.78         0   0.67\n",
       "399    400  333    117           4  5.0  4.0  9.66         1   0.95\n",
       "\n",
       "[400 rows x 9 columns]"
      ]
     },
     "execution_count": 6,
     "metadata": {},
     "output_type": "execute_result"
    }
   ],
   "source": [
    "df=pd.read_csv(url)\n",
    "df"
   ]
  },
  {
   "cell_type": "code",
   "execution_count": 5,
   "metadata": {
    "colab": {
     "base_uri": "https://localhost:8080/"
    },
    "id": "1pxXGQVU_1RS",
    "outputId": "9de6622f-a456-4b50-e5e0-cbb32fac64bd"
   },
   "outputs": [
    {
     "name": "stdout",
     "output_type": "stream",
     "text": [
      "<class 'pandas.core.frame.DataFrame'>\n",
      "RangeIndex: 400 entries, 0 to 399\n",
      "Data columns (total 9 columns):\n",
      " #   Column      Non-Null Count  Dtype  \n",
      "---  ------      --------------  -----  \n",
      " 0   index       400 non-null    int64  \n",
      " 1   gre         400 non-null    int64  \n",
      " 2   toefl       400 non-null    int64  \n",
      " 3   uni_rating  400 non-null    int64  \n",
      " 4   sop         400 non-null    float64\n",
      " 5   lor         400 non-null    float64\n",
      " 6   cgpa        400 non-null    float64\n",
      " 7   research    400 non-null    int64  \n",
      " 8   admit       400 non-null    float64\n",
      "dtypes: float64(4), int64(5)\n",
      "memory usage: 28.2 KB\n"
     ]
    }
   ],
   "source": [
    "#data preprocessing\n",
    "df.info()"
   ]
  },
  {
   "cell_type": "code",
   "execution_count": 6,
   "metadata": {
    "colab": {
     "base_uri": "https://localhost:8080/"
    },
    "id": "FVeIsokrAV-Q",
    "outputId": "f853697f-a99c-4a3f-9322-bebe32199d51"
   },
   "outputs": [
    {
     "data": {
      "text/plain": [
       "index         0\n",
       "gre           0\n",
       "toefl         0\n",
       "uni_rating    0\n",
       "sop           0\n",
       "lor           0\n",
       "cgpa          0\n",
       "research      0\n",
       "admit         0\n",
       "dtype: int64"
      ]
     },
     "execution_count": 6,
     "metadata": {
      "tags": []
     },
     "output_type": "execute_result"
    }
   ],
   "source": [
    "df.isnull().sum()"
   ]
  },
  {
   "cell_type": "code",
   "execution_count": 7,
   "metadata": {
    "id": "Ih6f-UrjAkwU"
   },
   "outputs": [],
   "source": [
    "#target='admit'\n",
    "x=df.iloc[:,1:8]\n",
    "y=df['admit']"
   ]
  },
  {
   "cell_type": "code",
   "execution_count": 8,
   "metadata": {
    "id": "dPQg0KjlBoMM"
   },
   "outputs": [],
   "source": [
    "X_train,X_test,y_train,y_test=train_test_split(x,y,random_state=101,test_size=0.2)"
   ]
  },
  {
   "cell_type": "code",
   "execution_count": 9,
   "metadata": {
    "id": "4IgKlxAnCaet"
   },
   "outputs": [],
   "source": [
    "#creating a model\n",
    "model=Sequential([\n",
    "                  Dense(32,activation='relu',kernel_initializer='he_normal'),\n",
    "                  Dense(16,activation='sigmoid'),\n",
    "                  Dense(8,activation='relu',kernel_initializer='he_normal'),\n",
    "                  Dense(4,activation='sigmoid'),\n",
    "                  Dense(2,activation='relu',kernel_initializer='he_normal'),\n",
    "                  Dense(1),\n",
    "])"
   ]
  },
  {
   "cell_type": "code",
   "execution_count": 10,
   "metadata": {
    "id": "8_ZRaahtFugo"
   },
   "outputs": [],
   "source": [
    "model.compile(optimizer='SGD',loss=tensorflow.keras.losses.mae,metrics=['mae'])"
   ]
  },
  {
   "cell_type": "code",
   "execution_count": 11,
   "metadata": {
    "colab": {
     "base_uri": "https://localhost:8080/"
    },
    "id": "Ov5FWDFFGKrj",
    "outputId": "517c4a99-b3e3-447b-e784-fc08f3719835"
   },
   "outputs": [
    {
     "name": "stdout",
     "output_type": "stream",
     "text": [
      "Epoch 1/50\n",
      "10/10 [==============================] - 1s 50ms/step - loss: 0.7549 - mae: 0.7549 - val_loss: 0.6041 - val_mae: 0.6041\n",
      "Epoch 2/50\n",
      "10/10 [==============================] - 0s 6ms/step - loss: 0.6079 - mae: 0.6079 - val_loss: 0.5041 - val_mae: 0.5041\n",
      "Epoch 3/50\n",
      "10/10 [==============================] - 0s 5ms/step - loss: 0.5022 - mae: 0.5022 - val_loss: 0.4041 - val_mae: 0.4041\n",
      "Epoch 4/50\n",
      "10/10 [==============================] - 0s 5ms/step - loss: 0.4006 - mae: 0.4006 - val_loss: 0.3063 - val_mae: 0.3063\n",
      "Epoch 5/50\n",
      "10/10 [==============================] - 0s 5ms/step - loss: 0.2944 - mae: 0.2944 - val_loss: 0.2249 - val_mae: 0.2249\n",
      "Epoch 6/50\n",
      "10/10 [==============================] - 0s 7ms/step - loss: 0.2327 - mae: 0.2327 - val_loss: 0.1705 - val_mae: 0.1705\n",
      "Epoch 7/50\n",
      "10/10 [==============================] - 0s 5ms/step - loss: 0.1603 - mae: 0.1603 - val_loss: 0.1374 - val_mae: 0.1374\n",
      "Epoch 8/50\n",
      "10/10 [==============================] - 0s 5ms/step - loss: 0.1349 - mae: 0.1349 - val_loss: 0.1246 - val_mae: 0.1246\n",
      "Epoch 9/50\n",
      "10/10 [==============================] - 0s 5ms/step - loss: 0.1276 - mae: 0.1276 - val_loss: 0.1190 - val_mae: 0.1190\n",
      "Epoch 10/50\n",
      "10/10 [==============================] - 0s 5ms/step - loss: 0.1167 - mae: 0.1167 - val_loss: 0.1172 - val_mae: 0.1172\n",
      "Epoch 11/50\n",
      "10/10 [==============================] - 0s 5ms/step - loss: 0.1116 - mae: 0.1116 - val_loss: 0.1166 - val_mae: 0.1166\n",
      "Epoch 12/50\n",
      "10/10 [==============================] - 0s 5ms/step - loss: 0.1169 - mae: 0.1169 - val_loss: 0.1165 - val_mae: 0.1165\n",
      "Epoch 13/50\n",
      "10/10 [==============================] - 0s 5ms/step - loss: 0.1126 - mae: 0.1126 - val_loss: 0.1165 - val_mae: 0.1165\n",
      "Epoch 14/50\n",
      "10/10 [==============================] - 0s 5ms/step - loss: 0.1108 - mae: 0.1108 - val_loss: 0.1165 - val_mae: 0.1165\n",
      "Epoch 15/50\n",
      "10/10 [==============================] - 0s 5ms/step - loss: 0.1096 - mae: 0.1096 - val_loss: 0.1164 - val_mae: 0.1164\n",
      "Epoch 16/50\n",
      "10/10 [==============================] - 0s 5ms/step - loss: 0.1150 - mae: 0.1150 - val_loss: 0.1164 - val_mae: 0.1164\n",
      "Epoch 17/50\n",
      "10/10 [==============================] - 0s 5ms/step - loss: 0.1145 - mae: 0.1145 - val_loss: 0.1164 - val_mae: 0.1164\n",
      "Epoch 18/50\n",
      "10/10 [==============================] - 0s 5ms/step - loss: 0.1175 - mae: 0.1175 - val_loss: 0.1164 - val_mae: 0.1164\n",
      "Epoch 19/50\n",
      "10/10 [==============================] - 0s 5ms/step - loss: 0.1152 - mae: 0.1152 - val_loss: 0.1164 - val_mae: 0.1164\n",
      "Epoch 20/50\n",
      "10/10 [==============================] - 0s 5ms/step - loss: 0.1116 - mae: 0.1116 - val_loss: 0.1164 - val_mae: 0.1164\n",
      "Epoch 21/50\n",
      "10/10 [==============================] - 0s 5ms/step - loss: 0.1105 - mae: 0.1105 - val_loss: 0.1166 - val_mae: 0.1166\n",
      "Epoch 22/50\n",
      "10/10 [==============================] - 0s 5ms/step - loss: 0.1190 - mae: 0.1190 - val_loss: 0.1164 - val_mae: 0.1164\n",
      "Epoch 23/50\n",
      "10/10 [==============================] - 0s 5ms/step - loss: 0.1124 - mae: 0.1124 - val_loss: 0.1165 - val_mae: 0.1165\n",
      "Epoch 24/50\n",
      "10/10 [==============================] - 0s 5ms/step - loss: 0.1141 - mae: 0.1141 - val_loss: 0.1166 - val_mae: 0.1166\n",
      "Epoch 25/50\n",
      "10/10 [==============================] - 0s 5ms/step - loss: 0.1119 - mae: 0.1119 - val_loss: 0.1165 - val_mae: 0.1165\n",
      "Epoch 26/50\n",
      "10/10 [==============================] - 0s 5ms/step - loss: 0.1108 - mae: 0.1108 - val_loss: 0.1166 - val_mae: 0.1166\n",
      "Epoch 27/50\n",
      "10/10 [==============================] - 0s 5ms/step - loss: 0.1149 - mae: 0.1149 - val_loss: 0.1166 - val_mae: 0.1166\n",
      "Epoch 28/50\n",
      "10/10 [==============================] - 0s 5ms/step - loss: 0.1114 - mae: 0.1114 - val_loss: 0.1164 - val_mae: 0.1164\n",
      "Epoch 29/50\n",
      "10/10 [==============================] - 0s 5ms/step - loss: 0.1194 - mae: 0.1194 - val_loss: 0.1165 - val_mae: 0.1165\n",
      "Epoch 30/50\n",
      "10/10 [==============================] - 0s 5ms/step - loss: 0.1188 - mae: 0.1188 - val_loss: 0.1165 - val_mae: 0.1165\n",
      "Epoch 31/50\n",
      "10/10 [==============================] - 0s 5ms/step - loss: 0.1187 - mae: 0.1187 - val_loss: 0.1164 - val_mae: 0.1164\n",
      "Epoch 32/50\n",
      "10/10 [==============================] - 0s 5ms/step - loss: 0.1152 - mae: 0.1152 - val_loss: 0.1165 - val_mae: 0.1165\n",
      "Epoch 33/50\n",
      "10/10 [==============================] - 0s 6ms/step - loss: 0.1091 - mae: 0.1091 - val_loss: 0.1164 - val_mae: 0.1164\n",
      "Epoch 34/50\n",
      "10/10 [==============================] - 0s 6ms/step - loss: 0.1135 - mae: 0.1135 - val_loss: 0.1165 - val_mae: 0.1165\n",
      "Epoch 35/50\n",
      "10/10 [==============================] - 0s 5ms/step - loss: 0.1174 - mae: 0.1174 - val_loss: 0.1164 - val_mae: 0.1164\n",
      "Epoch 36/50\n",
      "10/10 [==============================] - 0s 6ms/step - loss: 0.1156 - mae: 0.1156 - val_loss: 0.1164 - val_mae: 0.1164\n",
      "Epoch 37/50\n",
      "10/10 [==============================] - 0s 6ms/step - loss: 0.1159 - mae: 0.1159 - val_loss: 0.1164 - val_mae: 0.1164\n",
      "Epoch 38/50\n",
      "10/10 [==============================] - 0s 5ms/step - loss: 0.1146 - mae: 0.1146 - val_loss: 0.1164 - val_mae: 0.1164\n",
      "Epoch 39/50\n",
      "10/10 [==============================] - 0s 5ms/step - loss: 0.1140 - mae: 0.1140 - val_loss: 0.1164 - val_mae: 0.1164\n",
      "Epoch 40/50\n",
      "10/10 [==============================] - 0s 6ms/step - loss: 0.1191 - mae: 0.1191 - val_loss: 0.1165 - val_mae: 0.1165\n",
      "Epoch 41/50\n",
      "10/10 [==============================] - 0s 5ms/step - loss: 0.1127 - mae: 0.1127 - val_loss: 0.1165 - val_mae: 0.1165\n",
      "Epoch 42/50\n",
      "10/10 [==============================] - 0s 5ms/step - loss: 0.1142 - mae: 0.1142 - val_loss: 0.1164 - val_mae: 0.1164\n",
      "Epoch 43/50\n",
      "10/10 [==============================] - 0s 6ms/step - loss: 0.1193 - mae: 0.1193 - val_loss: 0.1165 - val_mae: 0.1165\n",
      "Epoch 44/50\n",
      "10/10 [==============================] - 0s 5ms/step - loss: 0.1144 - mae: 0.1144 - val_loss: 0.1164 - val_mae: 0.1164\n",
      "Epoch 45/50\n",
      "10/10 [==============================] - 0s 6ms/step - loss: 0.1113 - mae: 0.1113 - val_loss: 0.1164 - val_mae: 0.1164\n",
      "Epoch 46/50\n",
      "10/10 [==============================] - 0s 5ms/step - loss: 0.1129 - mae: 0.1129 - val_loss: 0.1165 - val_mae: 0.1165\n",
      "Epoch 47/50\n",
      "10/10 [==============================] - 0s 6ms/step - loss: 0.1151 - mae: 0.1151 - val_loss: 0.1164 - val_mae: 0.1164\n",
      "Epoch 48/50\n",
      "10/10 [==============================] - 0s 5ms/step - loss: 0.1122 - mae: 0.1122 - val_loss: 0.1165 - val_mae: 0.1165\n",
      "Epoch 49/50\n",
      "10/10 [==============================] - 0s 5ms/step - loss: 0.1140 - mae: 0.1140 - val_loss: 0.1164 - val_mae: 0.1164\n",
      "Epoch 50/50\n",
      "10/10 [==============================] - 0s 5ms/step - loss: 0.1149 - mae: 0.1149 - val_loss: 0.1165 - val_mae: 0.1165\n"
     ]
    }
   ],
   "source": [
    "history=model.fit(x,y,epochs=50,batch_size=32,validation_split=0.2)"
   ]
  },
  {
   "cell_type": "code",
   "execution_count": 12,
   "metadata": {
    "colab": {
     "base_uri": "https://localhost:8080/"
    },
    "id": "isG1DtwcGj3w",
    "outputId": "871839f4-8401-4b3e-c79d-5c050bd29d37"
   },
   "outputs": [
    {
     "data": {
      "text/plain": [
       "<tensorflow.python.keras.callbacks.History at 0x7efcef2f2dd0>"
      ]
     },
     "execution_count": 12,
     "metadata": {
      "tags": []
     },
     "output_type": "execute_result"
    }
   ],
   "source": [
    "history"
   ]
  },
  {
   "cell_type": "code",
   "execution_count": 13,
   "metadata": {
    "colab": {
     "base_uri": "https://localhost:8080/",
     "height": 626
    },
    "id": "Y2sjsJc6JwdK",
    "outputId": "fccec6b8-47e6-42ae-b563-987f1342d00e"
   },
   "outputs": [
    {
     "data": {
      "text/plain": [
       "[<matplotlib.lines.Line2D at 0x7efc90d8d4d0>,\n",
       " <matplotlib.lines.Line2D at 0x7efc9050aa90>]"
      ]
     },
     "execution_count": 13,
     "metadata": {
      "tags": []
     },
     "output_type": "execute_result"
    },
    {
     "data": {
      "image/png": "[encoded data removed]",
      "text/plain": [
       "<Figure size 720x720 with 1 Axes>"
      ]
     },
     "metadata": {
      "needs_background": "light",
      "tags": []
     },
     "output_type": "display_data"
    }
   ],
   "source": [
    "mae=history.history['mae']\n",
    "valmae=history.history['val_mae']\n",
    "\n",
    "epochs=range(len(mae))\n",
    "plt.figure(figsize=(10,10))\n",
    "plt.plot(epochs,mae,valmae, label=['Training MAE'])"
   ]
  },
  {
   "cell_type": "code",
   "execution_count": 14,
   "metadata": {
    "colab": {
     "base_uri": "https://localhost:8080/"
    },
    "id": "bbFlF7zfJ7JO",
    "outputId": "227b6681-2530-43ca-c50f-687fbae91c40"
   },
   "outputs": [
    {
     "name": "stdout",
     "output_type": "stream",
     "text": [
      "Model: \"sequential\"\n",
      "_________________________________________________________________\n",
      "Layer (type)                 Output Shape              Param #   \n",
      "=================================================================\n",
      "dense (Dense)                (None, 32)                256       \n",
      "_________________________________________________________________\n",
      "dense_1 (Dense)              (None, 16)                528       \n",
      "_________________________________________________________________\n",
      "dense_2 (Dense)              (None, 8)                 136       \n",
      "_________________________________________________________________\n",
      "dense_3 (Dense)              (None, 4)                 36        \n",
      "_________________________________________________________________\n",
      "dense_4 (Dense)              (None, 2)                 10        \n",
      "_________________________________________________________________\n",
      "dense_5 (Dense)              (None, 1)                 3         \n",
      "=================================================================\n",
      "Total params: 969\n",
      "Trainable params: 969\n",
      "Non-trainable params: 0\n",
      "_________________________________________________________________\n"
     ]
    }
   ],
   "source": [
    "model.summary()"
   ]
  },
  {
   "cell_type": "code",
   "execution_count": null,
   "metadata": {
    "id": "Xu2gSFDnQL9U"
   },
   "outputs": [],
   "source": []
  }
 ],
 "metadata": {
  "accelerator": "GPU",
  "colab": {
   "authorship_tag": "ABX9TyP7vEhZXdFb//mip5CwVqTq",
   "include_colab_link": true,
   "name": "deeplearningLRclass1.ipynb",
   "provenance": []
  },
  "kernelspec": {
   "display_name": "Python 3",
   "language": "python",
   "name": "python3"
  },
  "language_info": {
   "codemirror_mode": {
    "name": "ipython",
    "version": 3
   },
   "file_extension": ".py",
   "mimetype": "text/x-python",
   "name": "python",
   "nbconvert_exporter": "python",
   "pygments_lexer": "ipython3",
   "version": "3.8.5"
  }
 },
 "nbformat": 4,
 "nbformat_minor": 1
}
