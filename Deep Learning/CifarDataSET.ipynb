{
  "nbformat": 4,
  "nbformat_minor": 0,
  "metadata": {
    "colab": {
      "name": "CifarDataSET.ipynb",
      "provenance": [],
      "authorship_tag": "ABX9TyN7Ng9s9w/kwYF3EIcMD/NQ",
      "include_colab_link": true
    },
    "kernelspec": {
      "name": "python3",
      "display_name": "Python 3"
    },
    "language_info": {
      "name": "python"
    },
    "accelerator": "GPU"
  },
  "cells": [
    {
      "cell_type": "markdown",
      "metadata": {
        "id": "view-in-github",
        "colab_type": "text"
      },
      "source": [
        "<a href=\"https://colab.research.google.com/github/Shubhangiwaghmare7/Data-Science/blob/main/CifarDataSET.ipynb\" target=\"_parent\"><img src=\"https://colab.research.google.com/assets/colab-badge.svg\" alt=\"Open In Colab\"/></a>"
      ]
    },
    {
      "cell_type": "code",
      "metadata": {
        "id": "SeEPnCWVI0Ij"
      },
      "source": [
        "#import libraries\n",
        "import numpy as np\n",
        "import pandas as pd\n",
        "import seaborn as sns\n",
        "import matplotlib.pyplot as plt\n",
        "\n",
        "import tensorflow \n",
        "from tensorflow.keras.datasets import cifar10\n",
        "from tensorflow.keras.utils import to_categorical\n",
        "from tensorflow.keras.layers import Conv2D,MaxPool2D,Flatten,Dense,Dropout\n",
        "from tensorflow.keras.models import Sequential\n",
        "from tensorflow.keras.layers import Dense,Dropout\n",
        "\n",
        "from sklearn.model_selection import train_test_split\n",
        "from sklearn.preprocessing import StandardScaler\n",
        "\n",
        "import warnings\n",
        "warnings.filterwarnings('ignore')\n",
        "%matplotlib inline"
      ],
      "execution_count": 1,
      "outputs": []
    },
    {
      "cell_type": "code",
      "metadata": {
        "id": "-0MDQoDSI6Y-"
      },
      "source": [
        "(X_train,y_train),(X_test,y_test)=cifar10.load_data()"
      ],
      "execution_count": 2,
      "outputs": []
    },
    {
      "cell_type": "code",
      "metadata": {
        "colab": {
          "base_uri": "https://localhost:8080/"
        },
        "id": "XlH-nA2bI6mk",
        "outputId": "c374a214-aee7-4dad-c730-7d1995365726"
      },
      "source": [
        "X_train.shape,y_train.shape"
      ],
      "execution_count": 3,
      "outputs": [
        {
          "output_type": "execute_result",
          "data": {
            "text/plain": [
              "((50000, 32, 32, 3), (50000, 1))"
            ]
          },
          "metadata": {
            "tags": []
          },
          "execution_count": 3
        }
      ]
    },
    {
      "cell_type": "code",
      "metadata": {
        "colab": {
          "base_uri": "https://localhost:8080/"
        },
        "id": "eKU6ScjfI6qL",
        "outputId": "52396924-ffde-44ec-e869-80feb499c6c6"
      },
      "source": [
        "X_test.shape,y_test.shape"
      ],
      "execution_count": 4,
      "outputs": [
        {
          "output_type": "execute_result",
          "data": {
            "text/plain": [
              "((10000, 32, 32, 3), (10000, 1))"
            ]
          },
          "metadata": {
            "tags": []
          },
          "execution_count": 4
        }
      ]
    },
    {
      "cell_type": "code",
      "metadata": {
        "id": "wdVDdwYII6td"
      },
      "source": [
        "classes=['airplane','automobile','bird','cat','deer','dog','frog','house','ship','truck']"
      ],
      "execution_count": 5,
      "outputs": []
    },
    {
      "cell_type": "code",
      "metadata": {
        "colab": {
          "base_uri": "https://localhost:8080/",
          "height": 35
        },
        "id": "IbawxnPgI6wg",
        "outputId": "cf86813c-3aae-40b8-a4ad-a530983fa3a9"
      },
      "source": [
        "classes[y_train[1][0]]"
      ],
      "execution_count": 6,
      "outputs": [
        {
          "output_type": "execute_result",
          "data": {
            "application/vnd.google.colaboratory.intrinsic+json": {
              "type": "string"
            },
            "text/plain": [
              "'truck'"
            ]
          },
          "metadata": {
            "tags": []
          },
          "execution_count": 6
        }
      ]
    },
    {
      "cell_type": "code",
      "metadata": {
        "colab": {
          "base_uri": "https://localhost:8080/"
        },
        "id": "3D1J9s02I6zV",
        "outputId": "1d7136ac-cf6a-4e96-f81f-04fd97f90d3b"
      },
      "source": [
        "y_train"
      ],
      "execution_count": 7,
      "outputs": [
        {
          "output_type": "execute_result",
          "data": {
            "text/plain": [
              "array([[6],\n",
              "       [9],\n",
              "       [9],\n",
              "       ...,\n",
              "       [9],\n",
              "       [1],\n",
              "       [1]], dtype=uint8)"
            ]
          },
          "metadata": {
            "tags": []
          },
          "execution_count": 7
        }
      ]
    },
    {
      "cell_type": "code",
      "metadata": {
        "colab": {
          "base_uri": "https://localhost:8080/",
          "height": 283
        },
        "id": "kH5ZJcXBI61z",
        "outputId": "2862e117-0d76-41eb-c164-71439944f730"
      },
      "source": [
        "#visualization of data\n",
        "plt.imshow(X_train[8])"
      ],
      "execution_count": 8,
      "outputs": [
        {
          "output_type": "execute_result",
          "data": {
            "text/plain": [
              "<matplotlib.image.AxesImage at 0x7fa8eb9fee10>"
            ]
          },
          "metadata": {
            "tags": []
          },
          "execution_count": 8
        },
        {
          "output_type": "display_data",
          "data": {
            "image/png": "[encoded data removed]",
            "text/plain": [
              "<Figure size 432x288 with 1 Axes>"
            ]
          },
          "metadata": {
            "tags": [],
            "needs_background": "light"
          }
        }
      ]
    },
    {
      "cell_type": "code",
      "metadata": {
        "colab": {
          "base_uri": "https://localhost:8080/",
          "height": 35
        },
        "id": "8dWq3dWZI64d",
        "outputId": "ed425ec3-cd31-4f9b-d34a-3ae385348300"
      },
      "source": [
        "classes[y_train[1][0]]"
      ],
      "execution_count": 9,
      "outputs": [
        {
          "output_type": "execute_result",
          "data": {
            "application/vnd.google.colaboratory.intrinsic+json": {
              "type": "string"
            },
            "text/plain": [
              "'truck'"
            ]
          },
          "metadata": {
            "tags": []
          },
          "execution_count": 9
        }
      ]
    },
    {
      "cell_type": "code",
      "metadata": {
        "id": "56d0BMcAI67N"
      },
      "source": [
        "#normalizing the data (0,1)\n",
        "#pixel=0.255\n",
        "X_train,X_test=X_train/255.0,X_test/255.0\n",
        "#converting to categorical data\n",
        "y_train,y_test=to_categorical(y_train),to_categorical(y_test)"
      ],
      "execution_count": 10,
      "outputs": []
    },
    {
      "cell_type": "code",
      "metadata": {
        "id": "9fz_G7tcI6-F"
      },
      "source": [
        "#"
      ],
      "execution_count": 11,
      "outputs": []
    },
    {
      "cell_type": "code",
      "metadata": {
        "id": "3pZgE9eMI7A7"
      },
      "source": [
        "#model architecture\n",
        "model= Sequential()\n",
        "\n",
        "model.add(Conv2D(32,3,activation='relu',kernel_initializer='he_uniform'))#Con Layer 1\n",
        "model.add(MaxPool2D(2,2))\n",
        "\n",
        "model.add(Conv2D(64,3,activation='relu',kernel_initializer='he_uniform'))#Con Layer 2\n",
        "model.add(MaxPool2D(2,2))\n",
        "\n",
        "model.add(Conv2D(128,3,activation='relu',kernel_initializer='he_uniform'))#Con Layer 3\n",
        "model.add(MaxPool2D(2,2))\n",
        "\n",
        "model.add(Flatten())\n",
        "\n",
        "model.add(Dense(128,activation='relu'))\n",
        "model.add(Dropout(0.2))\n",
        "\n",
        "model.add(Dense(64,activation='sigmoid'))\n",
        "model.add(Dropout(0.2))\n",
        "\n",
        "model.add(Dense(32,activation='relu'))\n",
        "model.add(Dropout(0.2))\n",
        "\n",
        "model.add(Dense(10,activation='softmax'))\n",
        "model.add(Dropout(0.2))"
      ],
      "execution_count": 19,
      "outputs": []
    },
    {
      "cell_type": "code",
      "metadata": {
        "id": "c-6F_-foI7Dl"
      },
      "source": [
        "model.compile('SGD',loss='categorical_crossentropy',metrics=['accuracy'])"
      ],
      "execution_count": 21,
      "outputs": []
    },
    {
      "cell_type": "code",
      "metadata": {
        "colab": {
          "base_uri": "https://localhost:8080/"
        },
        "id": "jckXP8ceI7Gq",
        "outputId": "20f370c2-fadc-4801-854b-2ca90bbdf958"
      },
      "source": [
        "model.fit(X_train,y_train,epochs=30,batch_size=32)"
      ],
      "execution_count": 22,
      "outputs": [
        {
          "output_type": "stream",
          "text": [
            "Epoch 1/30\n",
            "1563/1563 [==============================] - 7s 4ms/step - loss: 4.8941 - accuracy: 0.1170\n",
            "Epoch 2/30\n",
            "1563/1563 [==============================] - 6s 4ms/step - loss: 4.6762 - accuracy: 0.1856\n",
            "Epoch 3/30\n",
            "1563/1563 [==============================] - 6s 4ms/step - loss: 4.6920 - accuracy: 0.2105\n",
            "Epoch 4/30\n",
            "1563/1563 [==============================] - 6s 4ms/step - loss: 4.5856 - accuracy: 0.2474\n",
            "Epoch 5/30\n",
            "1563/1563 [==============================] - 6s 4ms/step - loss: 4.5209 - accuracy: 0.2727\n",
            "Epoch 6/30\n",
            "1563/1563 [==============================] - 6s 4ms/step - loss: 4.4777 - accuracy: 0.3016\n",
            "Epoch 7/30\n",
            "1563/1563 [==============================] - 6s 4ms/step - loss: 4.4398 - accuracy: 0.3203\n",
            "Epoch 8/30\n",
            "1563/1563 [==============================] - 6s 4ms/step - loss: 4.4095 - accuracy: 0.3357\n",
            "Epoch 9/30\n",
            "1563/1563 [==============================] - 6s 4ms/step - loss: 4.3378 - accuracy: 0.3533\n",
            "Epoch 10/30\n",
            "1563/1563 [==============================] - 6s 4ms/step - loss: 4.2844 - accuracy: 0.3672\n",
            "Epoch 11/30\n",
            "1563/1563 [==============================] - 6s 4ms/step - loss: 4.2957 - accuracy: 0.3776\n",
            "Epoch 12/30\n",
            "1563/1563 [==============================] - 6s 4ms/step - loss: 4.2566 - accuracy: 0.3908\n",
            "Epoch 13/30\n",
            "1563/1563 [==============================] - 6s 4ms/step - loss: 4.2764 - accuracy: 0.3981\n",
            "Epoch 14/30\n",
            "1563/1563 [==============================] - 6s 4ms/step - loss: 4.2552 - accuracy: 0.4122\n",
            "Epoch 15/30\n",
            "1563/1563 [==============================] - 6s 4ms/step - loss: 4.2347 - accuracy: 0.4149\n",
            "Epoch 16/30\n",
            "1563/1563 [==============================] - 6s 4ms/step - loss: 4.2641 - accuracy: 0.4291\n",
            "Epoch 17/30\n",
            "1563/1563 [==============================] - 6s 4ms/step - loss: 4.1751 - accuracy: 0.4458\n",
            "Epoch 18/30\n",
            "1563/1563 [==============================] - 6s 4ms/step - loss: 4.1995 - accuracy: 0.4482\n",
            "Epoch 19/30\n",
            "1563/1563 [==============================] - 6s 4ms/step - loss: 4.1540 - accuracy: 0.4587\n",
            "Epoch 20/30\n",
            "1563/1563 [==============================] - 6s 4ms/step - loss: 4.0750 - accuracy: 0.4651\n",
            "Epoch 21/30\n",
            "1563/1563 [==============================] - 6s 4ms/step - loss: 4.1111 - accuracy: 0.4724\n",
            "Epoch 22/30\n",
            "1563/1563 [==============================] - 6s 4ms/step - loss: 4.0412 - accuracy: 0.4842\n",
            "Epoch 23/30\n",
            "1563/1563 [==============================] - 6s 4ms/step - loss: 4.0864 - accuracy: 0.4827\n",
            "Epoch 24/30\n",
            "1563/1563 [==============================] - 6s 4ms/step - loss: 4.1252 - accuracy: 0.4870\n",
            "Epoch 25/30\n",
            "1563/1563 [==============================] - 6s 4ms/step - loss: 4.0771 - accuracy: 0.4965\n",
            "Epoch 26/30\n",
            "1563/1563 [==============================] - 6s 4ms/step - loss: 4.0636 - accuracy: 0.5039\n",
            "Epoch 27/30\n",
            "1563/1563 [==============================] - 6s 4ms/step - loss: 4.1214 - accuracy: 0.4998\n",
            "Epoch 28/30\n",
            "1563/1563 [==============================] - 6s 4ms/step - loss: 3.9910 - accuracy: 0.5134\n",
            "Epoch 29/30\n",
            "1563/1563 [==============================] - 6s 4ms/step - loss: 3.9923 - accuracy: 0.5148\n",
            "Epoch 30/30\n",
            "1563/1563 [==============================] - 6s 4ms/step - loss: 3.9718 - accuracy: 0.5242\n"
          ],
          "name": "stdout"
        },
        {
          "output_type": "execute_result",
          "data": {
            "text/plain": [
              "<tensorflow.python.keras.callbacks.History at 0x7fa897ea0990>"
            ]
          },
          "metadata": {
            "tags": []
          },
          "execution_count": 22
        }
      ]
    },
    {
      "cell_type": "code",
      "metadata": {
        "colab": {
          "base_uri": "https://localhost:8080/"
        },
        "id": "_KFe3eWXI7KU",
        "outputId": "357758a2-9ee7-4b69-dcd3-965bbe0358d5"
      },
      "source": [
        "y_pred=model.predict(X_test)\n",
        "y_pred"
      ],
      "execution_count": 24,
      "outputs": [
        {
          "output_type": "execute_result",
          "data": {
            "text/plain": [
              "array([[1.91063993e-02, 2.47629769e-02, 4.30001803e-02, ...,\n",
              "        3.50783728e-02, 1.73322052e-01, 5.34238629e-02],\n",
              "       [3.75068039e-02, 8.54238093e-01, 2.52554542e-04, ...,\n",
              "        1.73904864e-05, 5.90978563e-02, 4.82173413e-02],\n",
              "       [1.15283251e-01, 9.69555750e-02, 1.26256014e-03, ...,\n",
              "        6.80396624e-05, 7.38614380e-01, 4.58190702e-02],\n",
              "       ...,\n",
              "       [5.49477059e-04, 2.48772034e-04, 2.82865353e-02, ...,\n",
              "        4.77821417e-02, 6.06648333e-04, 7.36409274e-04],\n",
              "       [2.34996811e-01, 2.30290502e-01, 9.64156836e-02, ...,\n",
              "        1.38566598e-01, 2.26858277e-02, 8.56474414e-02],\n",
              "       [3.73044633e-04, 1.05750405e-05, 8.64497852e-04, ...,\n",
              "        9.46918368e-01, 3.87780210e-06, 3.19898565e-04]], dtype=float32)"
            ]
          },
          "metadata": {
            "tags": []
          },
          "execution_count": 24
        }
      ]
    },
    {
      "cell_type": "code",
      "metadata": {
        "colab": {
          "base_uri": "https://localhost:8080/"
        },
        "id": "ar-GUPxKcj20",
        "outputId": "6d51fea2-66dc-4da5-834a-979c59a563e6"
      },
      "source": [
        "y_pred[2]"
      ],
      "execution_count": 25,
      "outputs": [
        {
          "output_type": "execute_result",
          "data": {
            "text/plain": [
              "array([1.1528325e-01, 9.6955575e-02, 1.2625601e-03, 7.9326396e-04,\n",
              "       3.9917079e-04, 8.8637935e-05, 7.1611657e-04, 6.8039662e-05,\n",
              "       7.3861438e-01, 4.5819070e-02], dtype=float32)"
            ]
          },
          "metadata": {
            "tags": []
          },
          "execution_count": 25
        }
      ]
    },
    {
      "cell_type": "code",
      "metadata": {
        "colab": {
          "base_uri": "https://localhost:8080/",
          "height": 35
        },
        "id": "KTX4dyx4I7P1",
        "outputId": "178099ac-3a14-4bbc-92db-283415664ddb"
      },
      "source": [
        "import numpy as np\n",
        "classes[np.argmax(y_pred[2])]"
      ],
      "execution_count": 26,
      "outputs": [
        {
          "output_type": "execute_result",
          "data": {
            "application/vnd.google.colaboratory.intrinsic+json": {
              "type": "string"
            },
            "text/plain": [
              "'ship'"
            ]
          },
          "metadata": {
            "tags": []
          },
          "execution_count": 26
        }
      ]
    },
    {
      "cell_type": "code",
      "metadata": {
        "colab": {
          "base_uri": "https://localhost:8080/",
          "height": 283
        },
        "id": "VWSeTBOUdcgr",
        "outputId": "b8291791-201d-43fe-df89-9e67edeaf167"
      },
      "source": [
        "plt.imshow(X_test[2])"
      ],
      "execution_count": 29,
      "outputs": [
        {
          "output_type": "execute_result",
          "data": {
            "text/plain": [
              "<matplotlib.image.AxesImage at 0x7fa88a302350>"
            ]
          },
          "metadata": {
            "tags": []
          },
          "execution_count": 29
        },
        {
          "output_type": "display_data",
          "data": {
            "image/png": "[encoded data removed]",
            "text/plain": [
              "<Figure size 432x288 with 1 Axes>"
            ]
          },
          "metadata": {
            "tags": [],
            "needs_background": "light"
          }
        }
      ]
    },
    {
      "cell_type": "code",
      "metadata": {
        "colab": {
          "base_uri": "https://localhost:8080/"
        },
        "id": "v75OAuBnI7Td",
        "outputId": "af6ede3d-1920-4e44-ae27-897d11fc8c30"
      },
      "source": [
        "model.save('my_model')"
      ],
      "execution_count": 27,
      "outputs": [
        {
          "output_type": "stream",
          "text": [
            "INFO:tensorflow:Assets written to: my_model/assets\n"
          ],
          "name": "stdout"
        }
      ]
    },
    {
      "cell_type": "code",
      "metadata": {
        "id": "j-tmvRiXI7WK"
      },
      "source": [
        ""
      ],
      "execution_count": 14,
      "outputs": []
    },
    {
      "cell_type": "code",
      "metadata": {
        "id": "g6tigxPiI7ZD"
      },
      "source": [
        ""
      ],
      "execution_count": 14,
      "outputs": []
    },
    {
      "cell_type": "code",
      "metadata": {
        "id": "LwdOVrmKI7cY"
      },
      "source": [
        ""
      ],
      "execution_count": 14,
      "outputs": []
    }
  ]
}