{
  "nbformat": 4,
  "nbformat_minor": 0,
  "metadata": {
    "colab": {
      "name": "catdogclassifier.ipynb",
      "provenance": [],
      "mount_file_id": "1pCM987IFNsLO9EVm8vjlqQpHLzZcYiF5",
      "authorship_tag": "ABX9TyP40/+jzdxa71kDayASvvHf",
      "include_colab_link": true
    },
    "kernelspec": {
      "name": "python3",
      "display_name": "Python 3"
    },
    "language_info": {
      "name": "python"
    },
    "accelerator": "GPU"
  },
  "cells": [
    {
      "cell_type": "markdown",
      "metadata": {
        "id": "view-in-github",
        "colab_type": "text"
      },
      "source": [
        "<a href=\"https://colab.research.google.com/github/Shubhangiwaghmare7/Data-Science/blob/main/catdogclassifier.ipynb\" target=\"_parent\"><img src=\"https://colab.research.google.com/assets/colab-badge.svg\" alt=\"Open In Colab\"/></a>"
      ]
    },
    {
      "cell_type": "code",
      "metadata": {
        "id": "M1gkliee2nDn"
      },
      "source": [
        "#importing lib\n",
        "\n",
        "import tensorflow\n",
        "import numpy as np\n",
        "from tensorflow.keras.preprocessing import image\n",
        "from tensorflow.keras.layers import Conv2D,MaxPool2D,Flatten,Dense,Dropout\n",
        "from keras.preprocessing.image import ImageDataGenerator\n",
        "from tensorflow.keras.models import Sequential\n",
        "from tensorflow.keras.utils import to_categorical"
      ],
      "execution_count": null,
      "outputs": []
    },
    {
      "cell_type": "code",
      "metadata": {
        "colab": {
          "base_uri": "https://localhost:8080/"
        },
        "id": "6VVPhY8R4A2O",
        "outputId": "4233dd19-39be-486f-a3dd-29e27a671d6a"
      },
      "source": [
        "ls"
      ],
      "execution_count": null,
      "outputs": [
        {
          "output_type": "stream",
          "text": [
            "\u001b[0m\u001b[01;34mdrive\u001b[0m/  \u001b[01;34msample_data\u001b[0m/\n"
          ],
          "name": "stdout"
        }
      ]
    },
    {
      "cell_type": "code",
      "metadata": {
        "colab": {
          "base_uri": "https://localhost:8080/"
        },
        "id": "0PVhY1Ah4DjF",
        "outputId": "68ab7734-2701-4369-e0e0-d9552880e5bc"
      },
      "source": [
        "cd /content/drive/MyDrive/deep learning/New folder"
      ],
      "execution_count": null,
      "outputs": [
        {
          "output_type": "stream",
          "text": [
            "/content/drive/MyDrive/deep learning/New folder\n"
          ],
          "name": "stdout"
        }
      ]
    },
    {
      "cell_type": "code",
      "metadata": {
        "colab": {
          "base_uri": "https://localhost:8080/"
        },
        "id": "qB7YoD5C4Uok",
        "outputId": "f0bcc4a7-b91b-412c-cc31-d3194eec3170"
      },
      "source": [
        "ls"
      ],
      "execution_count": null,
      "outputs": [
        {
          "output_type": "stream",
          "text": [
            "\u001b[0m\u001b[01;34massets\u001b[0m/              classifier_81.h5  dataset.zip     \u001b[01;34mvariables\u001b[0m/\n",
            "catdogclassifier.h5  \u001b[01;34mdataset\u001b[0m/          saved_model.pb\n"
          ],
          "name": "stdout"
        }
      ]
    },
    {
      "cell_type": "code",
      "metadata": {
        "id": "BPrDCeh94VeH"
      },
      "source": [
        "# !unzip dataset.zip"
      ],
      "execution_count": null,
      "outputs": []
    },
    {
      "cell_type": "code",
      "metadata": {
        "id": "0LC25QdM6FkS"
      },
      "source": [
        "train_datagen=ImageDataGenerator(rescale=1./255,\n",
        "                                 shear_range=0.2,\n",
        "                                 zoom_range=0.2,\n",
        "                                 horizontal_flip=True)\n",
        "\n",
        "test_datagen=ImageDataGenerator(rescale=1./255)"
      ],
      "execution_count": null,
      "outputs": []
    },
    {
      "cell_type": "code",
      "metadata": {
        "colab": {
          "base_uri": "https://localhost:8080/"
        },
        "id": "tJcZGwz6-YLL",
        "outputId": "f09a217a-5eb6-4a07-e243-ea8c6f8feb75"
      },
      "source": [
        "training_set=train_datagen.flow_from_directory('/content/drive/MyDrive/deep learning/New folder/dataset/training_set',\n",
        "                                               target_size=(64,64),\n",
        "                                               batch_size=32,\n",
        "                                               class_mode='binary')\n",
        "test_set=test_datagen.flow_from_directory('/content/drive/MyDrive/deep learning/New folder/dataset/test_set',\n",
        "                                               target_size=(64,64),\n",
        "                                               batch_size=32,\n",
        "                                               class_mode='binary')"
      ],
      "execution_count": null,
      "outputs": [
        {
          "output_type": "stream",
          "text": [
            "Found 8000 images belonging to 2 classes.\n",
            "Found 2000 images belonging to 2 classes.\n"
          ],
          "name": "stdout"
        }
      ]
    },
    {
      "cell_type": "code",
      "metadata": {
        "id": "4jRzSW3L_viO"
      },
      "source": [
        "#model architecture\n",
        "classifier= Sequential()\n",
        "\n",
        "classifier.add(Conv2D(32,3,activation='relu',kernel_initializer='he_uniform',input_shape=(64,64,3)))#Con Layer 1\n",
        "classifier.add(MaxPool2D())\n",
        "\n",
        "classifier.add(Conv2D(64,3,activation='relu',kernel_initializer='he_uniform'))#Con Layer 2\n",
        "classifier.add(MaxPool2D())\n",
        "\n",
        "\n",
        "classifier.add(Flatten())\n",
        "\n",
        "classifier.add(Dense(128,activation='relu',kernel_initializer='he_uniform'))\n",
        "\n",
        "\n",
        "classifier.add(Dense(1,activation='sigmoid'))\n"
      ],
      "execution_count": null,
      "outputs": []
    },
    {
      "cell_type": "code",
      "metadata": {
        "id": "KSWrB-hVBXca"
      },
      "source": [
        "classifier.compile('adam',loss='binary_crossentropy',metrics=['accuracy'])"
      ],
      "execution_count": null,
      "outputs": []
    },
    {
      "cell_type": "code",
      "metadata": {
        "colab": {
          "base_uri": "https://localhost:8080/"
        },
        "id": "JkWsyKEyBjnC",
        "outputId": "3275555a-7a52-4f05-f4c4-876d2eada243"
      },
      "source": [
        "classifier.fit(training_set,epochs=10,validation_data=test_set)"
      ],
      "execution_count": null,
      "outputs": [
        {
          "output_type": "stream",
          "text": [
            "Epoch 1/10\n",
            "250/250 [==============================] - 40s 159ms/step - loss: 0.8756 - accuracy: 0.5531 - val_loss: 0.5885 - val_accuracy: 0.6920\n",
            "Epoch 2/10\n",
            "250/250 [==============================] - 39s 158ms/step - loss: 0.5944 - accuracy: 0.6810 - val_loss: 0.5641 - val_accuracy: 0.7025\n",
            "Epoch 3/10\n",
            "250/250 [==============================] - 39s 158ms/step - loss: 0.5503 - accuracy: 0.7220 - val_loss: 0.5463 - val_accuracy: 0.7295\n",
            "Epoch 4/10\n",
            "250/250 [==============================] - 40s 159ms/step - loss: 0.5098 - accuracy: 0.7434 - val_loss: 0.4858 - val_accuracy: 0.7655\n",
            "Epoch 5/10\n",
            "250/250 [==============================] - 39s 158ms/step - loss: 0.4949 - accuracy: 0.7620 - val_loss: 0.4763 - val_accuracy: 0.7650\n",
            "Epoch 6/10\n",
            "250/250 [==============================] - 40s 159ms/step - loss: 0.4572 - accuracy: 0.7870 - val_loss: 0.4616 - val_accuracy: 0.7835\n",
            "Epoch 7/10\n",
            "250/250 [==============================] - 39s 158ms/step - loss: 0.4519 - accuracy: 0.7863 - val_loss: 0.5467 - val_accuracy: 0.7425\n",
            "Epoch 8/10\n",
            "250/250 [==============================] - 39s 158ms/step - loss: 0.4257 - accuracy: 0.8015 - val_loss: 0.4456 - val_accuracy: 0.7895\n",
            "Epoch 9/10\n",
            "250/250 [==============================] - 39s 158ms/step - loss: 0.4125 - accuracy: 0.8116 - val_loss: 0.4352 - val_accuracy: 0.8005\n",
            "Epoch 10/10\n",
            "250/250 [==============================] - 39s 158ms/step - loss: 0.4040 - accuracy: 0.8128 - val_loss: 0.4541 - val_accuracy: 0.7900\n"
          ],
          "name": "stdout"
        },
        {
          "output_type": "execute_result",
          "data": {
            "text/plain": [
              "<tensorflow.python.keras.callbacks.History at 0x7f451017fb90>"
            ]
          },
          "metadata": {
            "tags": []
          },
          "execution_count": 20
        }
      ]
    },
    {
      "cell_type": "code",
      "metadata": {
        "id": "d4cJSE_tB0SO"
      },
      "source": [
        "classifier.save('/content/drive/MyDrive/deep learning/New folder/catdogclassifier.h5')"
      ],
      "execution_count": null,
      "outputs": []
    },
    {
      "cell_type": "code",
      "metadata": {
        "id": "c8GMDlI9EsXI"
      },
      "source": [
        "from tensorflow.keras.models import load_model"
      ],
      "execution_count": null,
      "outputs": []
    },
    {
      "cell_type": "code",
      "metadata": {
        "id": "SKJ2Usg7Fars"
      },
      "source": [
        "classifier=load_model('/content/drive/MyDrive/deep learning/New folder/catdogclassifier.h5')"
      ],
      "execution_count": null,
      "outputs": []
    },
    {
      "cell_type": "code",
      "metadata": {
        "id": "kcbu8gytFjh8"
      },
      "source": [
        "from tensorflow.keras.preprocessing import image"
      ],
      "execution_count": null,
      "outputs": []
    },
    {
      "cell_type": "code",
      "metadata": {
        "colab": {
          "base_uri": "https://localhost:8080/"
        },
        "id": "AjV14898HTJF",
        "outputId": "13fd46af-a30b-4bff-c4ab-ea5a08f3ea38"
      },
      "source": [
        "test_image=image.load_img('/content/drive/MyDrive/deep learning/New folder/dataset/single_prediction/cat_or_dog_2.jpg',target_size=(64,64))\n",
        "test_image=image.img_to_array(test_image)\n",
        "test_image=test_image.reshape(1,64,64,3)\n",
        "result=classifier.predict(test_image)\n",
        "result"
      ],
      "execution_count": null,
      "outputs": [
        {
          "output_type": "execute_result",
          "data": {
            "text/plain": [
              "array([[0.]], dtype=float32)"
            ]
          },
          "metadata": {
            "tags": []
          },
          "execution_count": 28
        }
      ]
    },
    {
      "cell_type": "code",
      "metadata": {
        "colab": {
          "base_uri": "https://localhost:8080/"
        },
        "id": "5LkiA2ghHpvj",
        "outputId": "683ac6ec-94fc-442b-9a31-28008ba3306d"
      },
      "source": [
        "{'dog':1,'Cat':0}\n",
        "if result[0][0]==1:\n",
        "  prediction='dog'\n",
        "else:\n",
        "  prediction='cat'\n",
        "print(f'yes it is {prediction}')"
      ],
      "execution_count": null,
      "outputs": [
        {
          "output_type": "stream",
          "text": [
            "yes it is cat\n"
          ],
          "name": "stdout"
        }
      ]
    },
    {
      "cell_type": "code",
      "metadata": {
        "colab": {
          "base_uri": "https://localhost:8080/"
        },
        "id": "a-1hGr8mIuWc",
        "outputId": "37ff697f-ced6-4758-c81b-7ee9090e5cf8"
      },
      "source": [
        "training_set.class_indices"
      ],
      "execution_count": null,
      "outputs": [
        {
          "output_type": "execute_result",
          "data": {
            "text/plain": [
              "{'cats': 0, 'dogs': 1}"
            ]
          },
          "metadata": {
            "tags": []
          },
          "execution_count": 30
        }
      ]
    },
    {
      "cell_type": "code",
      "metadata": {
        "id": "3NW-8TkeJzpL"
      },
      "source": [
        ""
      ],
      "execution_count": null,
      "outputs": []
    }
  ]
}