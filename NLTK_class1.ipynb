{
 "cells": [
  {
   "cell_type": "code",
   "execution_count": 1,
   "id": "87ff2bb9",
   "metadata": {},
   "outputs": [],
   "source": [
    "#pip list"
   ]
  },
  {
   "cell_type": "code",
   "execution_count": 2,
   "id": "7faca4aa",
   "metadata": {},
   "outputs": [],
   "source": [
    "import nltk"
   ]
  },
  {
   "cell_type": "code",
   "execution_count": 3,
   "id": "cfa7291c",
   "metadata": {},
   "outputs": [
    {
     "name": "stderr",
     "output_type": "stream",
     "text": [
      "[nltk_data] Downloading package punkt to C:\\Users\\Shubhangi\n",
      "[nltk_data]     Waghmare\\AppData\\Roaming\\nltk_data...\n",
      "[nltk_data]   Package punkt is already up-to-date!\n"
     ]
    },
    {
     "data": {
      "text/plain": [
       "True"
      ]
     },
     "execution_count": 3,
     "metadata": {},
     "output_type": "execute_result"
    }
   ],
   "source": [
    "nltk.download('punkt')#only for 1st time"
   ]
  },
  {
   "cell_type": "code",
   "execution_count": 4,
   "id": "07bf40d3",
   "metadata": {},
   "outputs": [],
   "source": [
    "data=\"India (Hindi: Bhārat), officially the Republic of India, is a country in South Asia. It is the seventh-largest country by area, the second-most populous country, and the most populous democracy in the world. Bounded by the Indian Ocean on the south, the Arabian Sea on the southwest, and the Bay of Bengal on the southeast, it shares land borders with Pakistan to the west; China, Nepal, and Bhutan to the north; and Bangladesh and Myanmar to the east. In the Indian Ocean, India is in the vicinity of Sri Lanka and the Maldives; its Andaman and Nicobar Islands share a maritime border with Thailand and Indonesia.\""
   ]
  },
  {
   "cell_type": "markdown",
   "id": "bb1e3003",
   "metadata": {},
   "source": [
    "### #sentense tokenization"
   ]
  },
  {
   "cell_type": "code",
   "execution_count": 5,
   "id": "d2b78a72",
   "metadata": {},
   "outputs": [
    {
     "name": "stdout",
     "output_type": "stream",
     "text": [
      "['India (Hindi: Bhārat), officially the Republic of India, is a country in South Asia.', 'It is the seventh-largest country by area, the second-most populous country, and the most populous democracy in the world.', 'Bounded by the Indian Ocean on the south, the Arabian Sea on the southwest, and the Bay of Bengal on the southeast, it shares land borders with Pakistan to the west; China, Nepal, and Bhutan to the north; and Bangladesh and Myanmar to the east.', 'In the Indian Ocean, India is in the vicinity of Sri Lanka and the Maldives; its Andaman and Nicobar Islands share a maritime border with Thailand and Indonesia.']\n",
      "4\n"
     ]
    }
   ],
   "source": [
    "print(nltk.sent_tokenize(data))\n",
    "print(len(nltk.sent_tokenize(data)))"
   ]
  },
  {
   "cell_type": "markdown",
   "id": "1c2bc38a",
   "metadata": {},
   "source": [
    "## wordtokenization"
   ]
  },
  {
   "cell_type": "code",
   "execution_count": 6,
   "id": "63494763",
   "metadata": {},
   "outputs": [
    {
     "data": {
      "text/plain": [
       "['india',\n",
       " '(',\n",
       " 'hindi',\n",
       " ':',\n",
       " 'bhārat',\n",
       " ')',\n",
       " ',',\n",
       " 'officially',\n",
       " 'the',\n",
       " 'republic',\n",
       " 'of',\n",
       " 'india',\n",
       " ',',\n",
       " 'is',\n",
       " 'a',\n",
       " 'country',\n",
       " 'in',\n",
       " 'south',\n",
       " 'asia',\n",
       " '.',\n",
       " 'it',\n",
       " 'is',\n",
       " 'the',\n",
       " 'seventh-largest',\n",
       " 'country',\n",
       " 'by',\n",
       " 'area',\n",
       " ',',\n",
       " 'the',\n",
       " 'second-most',\n",
       " 'populous',\n",
       " 'country',\n",
       " ',',\n",
       " 'and',\n",
       " 'the',\n",
       " 'most',\n",
       " 'populous',\n",
       " 'democracy',\n",
       " 'in',\n",
       " 'the',\n",
       " 'world',\n",
       " '.',\n",
       " 'bounded',\n",
       " 'by',\n",
       " 'the',\n",
       " 'indian',\n",
       " 'ocean',\n",
       " 'on',\n",
       " 'the',\n",
       " 'south',\n",
       " ',',\n",
       " 'the',\n",
       " 'arabian',\n",
       " 'sea',\n",
       " 'on',\n",
       " 'the',\n",
       " 'southwest',\n",
       " ',',\n",
       " 'and',\n",
       " 'the',\n",
       " 'bay',\n",
       " 'of',\n",
       " 'bengal',\n",
       " 'on',\n",
       " 'the',\n",
       " 'southeast',\n",
       " ',',\n",
       " 'it',\n",
       " 'shares',\n",
       " 'land',\n",
       " 'borders',\n",
       " 'with',\n",
       " 'pakistan',\n",
       " 'to',\n",
       " 'the',\n",
       " 'west',\n",
       " ';',\n",
       " 'china',\n",
       " ',',\n",
       " 'nepal',\n",
       " ',',\n",
       " 'and',\n",
       " 'bhutan',\n",
       " 'to',\n",
       " 'the',\n",
       " 'north',\n",
       " ';',\n",
       " 'and',\n",
       " 'bangladesh',\n",
       " 'and',\n",
       " 'myanmar',\n",
       " 'to',\n",
       " 'the',\n",
       " 'east',\n",
       " '.',\n",
       " 'in',\n",
       " 'the',\n",
       " 'indian',\n",
       " 'ocean',\n",
       " ',',\n",
       " 'india',\n",
       " 'is',\n",
       " 'in',\n",
       " 'the',\n",
       " 'vicinity',\n",
       " 'of',\n",
       " 'sri',\n",
       " 'lanka',\n",
       " 'and',\n",
       " 'the',\n",
       " 'maldives',\n",
       " ';',\n",
       " 'its',\n",
       " 'andaman',\n",
       " 'and',\n",
       " 'nicobar',\n",
       " 'islands',\n",
       " 'share',\n",
       " 'a',\n",
       " 'maritime',\n",
       " 'border',\n",
       " 'with',\n",
       " 'thailand',\n",
       " 'and',\n",
       " 'indonesia',\n",
       " '.']"
      ]
     },
     "execution_count": 6,
     "metadata": {},
     "output_type": "execute_result"
    }
   ],
   "source": [
    "a=nltk.word_tokenize(data.lower())\n",
    "len(nltk.word_tokenize(data))\n",
    "a"
   ]
  },
  {
   "cell_type": "markdown",
   "id": "5340241d",
   "metadata": {},
   "source": [
    "### words tagging"
   ]
  },
  {
   "cell_type": "code",
   "execution_count": 7,
   "id": "67de2c8f",
   "metadata": {},
   "outputs": [
    {
     "name": "stderr",
     "output_type": "stream",
     "text": [
      "[nltk_data] Downloading package averaged_perceptron_tagger to\n",
      "[nltk_data]     C:\\Users\\Shubhangi\n",
      "[nltk_data]     Waghmare\\AppData\\Roaming\\nltk_data...\n",
      "[nltk_data]   Package averaged_perceptron_tagger is already up-to-\n",
      "[nltk_data]       date!\n"
     ]
    },
    {
     "data": {
      "text/plain": [
       "[('i', 'JJ'), ('m', 'VBP'), ('good', 'JJ'), ('writer', 'NN')]"
      ]
     },
     "execution_count": 7,
     "metadata": {},
     "output_type": "execute_result"
    }
   ],
   "source": [
    "nltk.download('averaged_perceptron_tagger')#only for 1st time\n",
    "d1='i m good writer'\n",
    "word=nltk.word_tokenize(d1)\n",
    "# len(nltk.word_tokenize(d1))\n",
    "nltk.pos_tag(word)"
   ]
  },
  {
   "cell_type": "markdown",
   "id": "296718dc",
   "metadata": {},
   "source": [
    "## Removing stop words"
   ]
  },
  {
   "cell_type": "markdown",
   "id": "f1f3710c",
   "metadata": {},
   "source": [
    "#stop words-In usecase is to understand wheather sentense is positive or not we dont need words like \"a ,an, the, at, or etc. \"# so this words are called as stop words."
   ]
  },
  {
   "cell_type": "code",
   "execution_count": 8,
   "id": "03a29c28",
   "metadata": {},
   "outputs": [
    {
     "name": "stderr",
     "output_type": "stream",
     "text": [
      "[nltk_data] Downloading package stopwords to C:\\Users\\Shubhangi\n",
      "[nltk_data]     Waghmare\\AppData\\Roaming\\nltk_data...\n",
      "[nltk_data]   Package stopwords is already up-to-date!\n"
     ]
    },
    {
     "data": {
      "text/plain": [
       "True"
      ]
     },
     "execution_count": 8,
     "metadata": {},
     "output_type": "execute_result"
    }
   ],
   "source": [
    "nltk.download('stopwords')"
   ]
  },
  {
   "cell_type": "code",
   "execution_count": 9,
   "id": "86ee2863",
   "metadata": {},
   "outputs": [
    {
     "data": {
      "text/plain": [
       "['i',\n",
       " 'me',\n",
       " 'my',\n",
       " 'myself',\n",
       " 'we',\n",
       " 'our',\n",
       " 'ours',\n",
       " 'ourselves',\n",
       " 'you',\n",
       " \"you're\",\n",
       " \"you've\",\n",
       " \"you'll\",\n",
       " \"you'd\",\n",
       " 'your',\n",
       " 'yours',\n",
       " 'yourself',\n",
       " 'yourselves',\n",
       " 'he',\n",
       " 'him',\n",
       " 'his',\n",
       " 'himself',\n",
       " 'she',\n",
       " \"she's\",\n",
       " 'her',\n",
       " 'hers',\n",
       " 'herself',\n",
       " 'it',\n",
       " \"it's\",\n",
       " 'its',\n",
       " 'itself',\n",
       " 'they',\n",
       " 'them',\n",
       " 'their',\n",
       " 'theirs',\n",
       " 'themselves',\n",
       " 'what',\n",
       " 'which',\n",
       " 'who',\n",
       " 'whom',\n",
       " 'this',\n",
       " 'that',\n",
       " \"that'll\",\n",
       " 'these',\n",
       " 'those',\n",
       " 'am',\n",
       " 'is',\n",
       " 'are',\n",
       " 'was',\n",
       " 'were',\n",
       " 'be',\n",
       " 'been',\n",
       " 'being',\n",
       " 'have',\n",
       " 'has',\n",
       " 'had',\n",
       " 'having',\n",
       " 'do',\n",
       " 'does',\n",
       " 'did',\n",
       " 'doing',\n",
       " 'a',\n",
       " 'an',\n",
       " 'the',\n",
       " 'and',\n",
       " 'but',\n",
       " 'if',\n",
       " 'or',\n",
       " 'because',\n",
       " 'as',\n",
       " 'until',\n",
       " 'while',\n",
       " 'of',\n",
       " 'at',\n",
       " 'by',\n",
       " 'for',\n",
       " 'with',\n",
       " 'about',\n",
       " 'against',\n",
       " 'between',\n",
       " 'into',\n",
       " 'through',\n",
       " 'during',\n",
       " 'before',\n",
       " 'after',\n",
       " 'above',\n",
       " 'below',\n",
       " 'to',\n",
       " 'from',\n",
       " 'up',\n",
       " 'down',\n",
       " 'in',\n",
       " 'out',\n",
       " 'on',\n",
       " 'off',\n",
       " 'over',\n",
       " 'under',\n",
       " 'again',\n",
       " 'further',\n",
       " 'then',\n",
       " 'once',\n",
       " 'here',\n",
       " 'there',\n",
       " 'when',\n",
       " 'where',\n",
       " 'why',\n",
       " 'how',\n",
       " 'all',\n",
       " 'any',\n",
       " 'both',\n",
       " 'each',\n",
       " 'few',\n",
       " 'more',\n",
       " 'most',\n",
       " 'other',\n",
       " 'some',\n",
       " 'such',\n",
       " 'no',\n",
       " 'nor',\n",
       " 'not',\n",
       " 'only',\n",
       " 'own',\n",
       " 'same',\n",
       " 'so',\n",
       " 'than',\n",
       " 'too',\n",
       " 'very',\n",
       " 's',\n",
       " 't',\n",
       " 'can',\n",
       " 'will',\n",
       " 'just',\n",
       " 'don',\n",
       " \"don't\",\n",
       " 'should',\n",
       " \"should've\",\n",
       " 'now',\n",
       " 'd',\n",
       " 'll',\n",
       " 'm',\n",
       " 'o',\n",
       " 're',\n",
       " 've',\n",
       " 'y',\n",
       " 'ain',\n",
       " 'aren',\n",
       " \"aren't\",\n",
       " 'couldn',\n",
       " \"couldn't\",\n",
       " 'didn',\n",
       " \"didn't\",\n",
       " 'doesn',\n",
       " \"doesn't\",\n",
       " 'hadn',\n",
       " \"hadn't\",\n",
       " 'hasn',\n",
       " \"hasn't\",\n",
       " 'haven',\n",
       " \"haven't\",\n",
       " 'isn',\n",
       " \"isn't\",\n",
       " 'ma',\n",
       " 'mightn',\n",
       " \"mightn't\",\n",
       " 'mustn',\n",
       " \"mustn't\",\n",
       " 'needn',\n",
       " \"needn't\",\n",
       " 'shan',\n",
       " \"shan't\",\n",
       " 'shouldn',\n",
       " \"shouldn't\",\n",
       " 'wasn',\n",
       " \"wasn't\",\n",
       " 'weren',\n",
       " \"weren't\",\n",
       " 'won',\n",
       " \"won't\",\n",
       " 'wouldn',\n",
       " \"wouldn't\"]"
      ]
     },
     "execution_count": 9,
     "metadata": {},
     "output_type": "execute_result"
    }
   ],
   "source": [
    "from nltk.corpus import stopwords\n",
    "stopwords=stopwords.words('english')\n",
    "stopwords"
   ]
  },
  {
   "cell_type": "markdown",
   "id": "f2f37ca7",
   "metadata": {},
   "source": [
    "### Removing Punctuations"
   ]
  },
  {
   "cell_type": "code",
   "execution_count": 10,
   "id": "72730474",
   "metadata": {},
   "outputs": [],
   "source": [
    "import string\n",
    "punct=string.punctuation"
   ]
  },
  {
   "cell_type": "code",
   "execution_count": 11,
   "id": "8c52755b",
   "metadata": {},
   "outputs": [
    {
     "name": "stdout",
     "output_type": "stream",
     "text": [
      "['india', 'hindi', 'bhārat', 'officially', 'the', 'republic', 'of', 'india', 'is', 'a', 'country', 'in', 'south', 'asia', 'it', 'is', 'the', 'seventh-largest', 'country', 'by', 'area', 'the', 'second-most', 'populous', 'country', 'and', 'the', 'most', 'populous', 'democracy', 'in', 'the', 'world', 'bounded', 'by', 'the', 'indian', 'ocean', 'on', 'the', 'south', 'the', 'arabian', 'sea', 'on', 'the', 'southwest', 'and', 'the', 'bay', 'of', 'bengal', 'on', 'the', 'southeast', 'it', 'shares', 'land', 'borders', 'with', 'pakistan', 'to', 'the', 'west', 'china', 'nepal', 'and', 'bhutan', 'to', 'the', 'north', 'and', 'bangladesh', 'and', 'myanmar', 'to', 'the', 'east', 'in', 'the', 'indian', 'ocean', 'india', 'is', 'in', 'the', 'vicinity', 'of', 'sri', 'lanka', 'and', 'the', 'maldives', 'its', 'andaman', 'and', 'nicobar', 'islands', 'share', 'a', 'maritime', 'border', 'with', 'thailand', 'and', 'indonesia']\n"
     ]
    }
   ],
   "source": [
    "filtered_sentence = [] \n",
    "  \n",
    "for w in (nltk.word_tokenize(data.lower())): \n",
    "    if w not in punct: \n",
    "        filtered_sentence.append(w) \n",
    "\n",
    "print(filtered_sentence) \n",
    "   "
   ]
  },
  {
   "cell_type": "markdown",
   "id": "f97c01b7",
   "metadata": {},
   "source": [
    "# Text Preprocessing Steps"
   ]
  },
  {
   "cell_type": "markdown",
   "id": "bb8f5dfa",
   "metadata": {},
   "source": [
    "## step 1 -lower case\n",
    "## step 2-word tokenization\n",
    "## step 3-stop words\n",
    "## step 4-remove punctuations"
   ]
  },
  {
   "cell_type": "code",
   "execution_count": 12,
   "id": "4517ab04",
   "metadata": {},
   "outputs": [
    {
     "data": {
      "text/plain": [
       "\"'India (Hindi: Bhārat), officially the Republic of India, is a country in South Asia. \\n      It is the seventh-largest country by area, the second-most populous country, \\n      and the most populous democracy in the world. \\n      Bounded by the Indian Ocean on the south, the Arabian Sea on the southwest, \\n      and the Bay of Bengal on the southeast, it shares land borders with Pakistan to the west; \\n      China, Nepal, and Bhutan to the north; and Bangladesh and Myanmar to the east.\\n      In the Indian Ocean, India is in the vicinity of Sri Lanka and the Maldives; \\n      its Andaman and Nicobar Islands share a maritime border with Thailand and Indonesia\""
      ]
     },
     "execution_count": 12,
     "metadata": {},
     "output_type": "execute_result"
    }
   ],
   "source": [
    "text=''''India (Hindi: Bhārat), officially the Republic of India, is a country in South Asia. \n",
    "      It is the seventh-largest country by area, the second-most populous country, \n",
    "      and the most populous democracy in the world. \n",
    "      Bounded by the Indian Ocean on the south, the Arabian Sea on the southwest, \n",
    "      and the Bay of Bengal on the southeast, it shares land borders with Pakistan to the west; \n",
    "      China, Nepal, and Bhutan to the north; and Bangladesh and Myanmar to the east.\n",
    "      In the Indian Ocean, India is in the vicinity of Sri Lanka and the Maldives; \n",
    "      its Andaman and Nicobar Islands share a maritime border with Thailand and Indonesia'''\n",
    "text"
   ]
  },
  {
   "cell_type": "code",
   "execution_count": 13,
   "id": "21e0ee65",
   "metadata": {},
   "outputs": [],
   "source": [
    "def filtered_sentence(a):\n",
    "    clean_data=[]\n",
    "    for w in (nltk.word_tokenize(a.lower())):\n",
    "        if w not in punct:\n",
    "            if w not in stopwords:\n",
    "                clean_data.append(w)     \n",
    "    print(clean_data) \n",
    "    print(len(clean_data))"
   ]
  },
  {
   "cell_type": "code",
   "execution_count": 14,
   "id": "154ee7e6",
   "metadata": {},
   "outputs": [
    {
     "name": "stdout",
     "output_type": "stream",
     "text": [
      "[\"'india\", 'hindi', 'bhārat', 'officially', 'republic', 'india', 'country', 'south', 'asia', 'seventh-largest', 'country', 'area', 'second-most', 'populous', 'country', 'populous', 'democracy', 'world', 'bounded', 'indian', 'ocean', 'south', 'arabian', 'sea', 'southwest', 'bay', 'bengal', 'southeast', 'shares', 'land', 'borders', 'pakistan', 'west', 'china', 'nepal', 'bhutan', 'north', 'bangladesh', 'myanmar', 'east', 'indian', 'ocean', 'india', 'vicinity', 'sri', 'lanka', 'maldives', 'andaman', 'nicobar', 'islands', 'share', 'maritime', 'border', 'thailand', 'indonesia']\n",
      "55\n"
     ]
    }
   ],
   "source": [
    "filtered_sentence(text)"
   ]
  },
  {
   "cell_type": "code",
   "execution_count": 15,
   "id": "ad72834f",
   "metadata": {},
   "outputs": [
    {
     "name": "stdout",
     "output_type": "stream",
     "text": [
      "['hello', 'name', 'shubhangi', 'jalindarnath', 'waghmare', 'love', 'writing', 'quotes']\n",
      "8\n"
     ]
    }
   ],
   "source": [
    "intro='''Hello! my name is Shubhangi Jalindarnath Waghmare. I love writing quotes.'''\n",
    "filtered_sentence(intro)"
   ]
  },
  {
   "cell_type": "markdown",
   "id": "dcdcff8c",
   "metadata": {},
   "source": [
    "# Stemming \n",
    "'''is basically removing the suffix from a word and reduce it to its root word.sometime meaningless words"
   ]
  },
  {
   "cell_type": "code",
   "execution_count": 16,
   "id": "6170a15f",
   "metadata": {},
   "outputs": [],
   "source": [
    "#lancaster\n",
    "#porter\n",
    "#snoball"
   ]
  },
  {
   "cell_type": "code",
   "execution_count": 17,
   "id": "38addbaf",
   "metadata": {},
   "outputs": [],
   "source": [
    "from nltk.stem import PorterStemmer,LancasterStemmer,SnowballStemmer"
   ]
  },
  {
   "cell_type": "code",
   "execution_count": 18,
   "id": "62200540",
   "metadata": {},
   "outputs": [],
   "source": [
    "lancaster=LancasterStemmer()\n",
    "porter=PorterStemmer()\n",
    "snowball=SnowballStemmer('english')"
   ]
  },
  {
   "cell_type": "code",
   "execution_count": 19,
   "id": "a6825da1",
   "metadata": {},
   "outputs": [
    {
     "name": "stdout",
     "output_type": "stream",
     "text": [
      "Portal Stemmer\n",
      "hobbi\n",
      "hobbi\n",
      "comput\n",
      "histori\n",
      "histor\n",
      "-----------------------------------------\n",
      "Lancaster Stemmer\n",
      "hobby\n",
      "hobby\n",
      "comput\n",
      "hist\n",
      "hist\n",
      "-----------------------------------------\n",
      "Snowball Stemmer\n",
      "hobbi\n",
      "hobbi\n",
      "comput\n",
      "histori\n",
      "histor\n",
      "-----------------------------------------\n"
     ]
    }
   ],
   "source": [
    "print('Portal Stemmer')\n",
    "print(porter.stem('hobby'))\n",
    "print(porter.stem('hobbies'))\n",
    "print(porter.stem('computation'))\n",
    "print(porter.stem('history'))\n",
    "print(porter.stem('historical'))\n",
    "print('-----------------------------------------')\n",
    "\n",
    "print('Lancaster Stemmer')\n",
    "print(lancaster.stem('hobby'))\n",
    "print(lancaster.stem('hobbies'))\n",
    "print(lancaster.stem('computation'))\n",
    "print(lancaster.stem('history'))\n",
    "print(lancaster.stem('historical'))\n",
    "print('-----------------------------------------')\n",
    "\n",
    "print('Snowball Stemmer')\n",
    "print(snowball.stem('hobby'))\n",
    "print(snowball.stem('hobbies'))\n",
    "print(snowball.stem('computation'))\n",
    "print(snowball.stem('history'))\n",
    "print(snowball.stem('historical'))\n",
    "print('-----------------------------------------')"
   ]
  },
  {
   "cell_type": "markdown",
   "id": "f5adc84c",
   "metadata": {},
   "source": [
    "# Lemmatizer--meaningfull root words"
   ]
  },
  {
   "cell_type": "code",
   "execution_count": 20,
   "id": "8f36a1a8",
   "metadata": {},
   "outputs": [
    {
     "name": "stderr",
     "output_type": "stream",
     "text": [
      "[nltk_data] Downloading package wordnet to C:\\Users\\Shubhangi\n",
      "[nltk_data]     Waghmare\\AppData\\Roaming\\nltk_data...\n",
      "[nltk_data]   Package wordnet is already up-to-date!\n"
     ]
    },
    {
     "data": {
      "text/plain": [
       "True"
      ]
     },
     "execution_count": 20,
     "metadata": {},
     "output_type": "execute_result"
    }
   ],
   "source": [
    "nltk.download('wordnet')"
   ]
  },
  {
   "cell_type": "code",
   "execution_count": 21,
   "id": "09e87bf9",
   "metadata": {},
   "outputs": [
    {
     "name": "stdout",
     "output_type": "stream",
     "text": [
      "run\n",
      "run\n",
      "run\n"
     ]
    }
   ],
   "source": [
    "from nltk.stem import WordNetLemmatizer\n",
    "lemma=WordNetLemmatizer()\n",
    "\n",
    "print(lemma.lemmatize('running',pos='v'))\n",
    "print(lemma.lemmatize('runs',pos='v'))\n",
    "print(lemma.lemmatize('ran',pos='v'))"
   ]
  },
  {
   "cell_type": "markdown",
   "id": "7a5e200a",
   "metadata": {},
   "source": [
    "# Question"
   ]
  },
  {
   "cell_type": "code",
   "execution_count": 32,
   "id": "af2f469f",
   "metadata": {},
   "outputs": [
    {
     "name": "stdout",
     "output_type": "stream",
     "text": [
      "india hindi bhārat officially republic india country south asia seventh-largest country area second-most populous country populous democracy world bounded indian ocean south arabian sea southwest bay bengal southeast share land border pakistan west china nepal bhutan north bangladesh myanmar east indian ocean india vicinity sri lanka maldives andaman nicobar island share maritime border thailand indonesia\n"
     ]
    }
   ],
   "source": [
    "clean_data=[]\n",
    "lemmi_data=[]\n",
    "\n",
    "for word in nltk.word_tokenize(data.lower()):\n",
    "    if word not in punct:\n",
    "        if word not in stopwords:\n",
    "            clean_data.append(word)\n",
    "for cword in clean_data:\n",
    "    lemmi_data.append(lemma.lemmatize(cword))\n",
    "print(' '.join(lemmi_data))"
   ]
  },
  {
   "cell_type": "code",
   "execution_count": null,
   "id": "9d653373",
   "metadata": {},
   "outputs": [],
   "source": []
  }
 ],
 "metadata": {
  "kernelspec": {
   "display_name": "Python 3",
   "language": "python",
   "name": "python3"
  },
  "language_info": {
   "codemirror_mode": {
    "name": "ipython",
    "version": 3
   },
   "file_extension": ".py",
   "mimetype": "text/x-python",
   "name": "python",
   "nbconvert_exporter": "python",
   "pygments_lexer": "ipython3",
   "version": "3.8.5"
  }
 },
 "nbformat": 4,
 "nbformat_minor": 5
}
