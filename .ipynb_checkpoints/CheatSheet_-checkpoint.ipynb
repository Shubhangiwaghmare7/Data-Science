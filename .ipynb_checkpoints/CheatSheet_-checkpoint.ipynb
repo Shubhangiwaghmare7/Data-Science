{
 "cells": [
  {
   "cell_type": "markdown",
   "id": "1b3cb352",
   "metadata": {},
   "source": [
    "# All Libraries"
   ]
  },
  {
   "cell_type": "code",
   "execution_count": 2,
   "id": "b41b189f",
   "metadata": {},
   "outputs": [],
   "source": [
    "import numpy as np\n",
    "import pandas as pd\n",
    "import matplotlib as plt\n",
    "import seaborn as sns\n",
    "import matplotlib.pyplot as plt\n",
    "\n",
    "#Supress the warnings\n",
    "import warnings\n",
    "warnings.filterwarnings('ignore')\n",
    "\n",
    "%matplotlib inline"
   ]
  },
  {
   "cell_type": "markdown",
   "id": "b0c6e87f",
   "metadata": {},
   "source": [
    "# Data Description"
   ]
  },
  {
   "cell_type": "code",
   "execution_count": 4,
   "id": "1814a0e5",
   "metadata": {},
   "outputs": [],
   "source": [
    "df.info() #cloumns data types\n",
    "df.dtypes"
   ]
  },
  {
   "cell_type": "code",
   "execution_count": null,
   "id": "cdec4c76",
   "metadata": {},
   "outputs": [],
   "source": [
    "df.describe() #stat description"
   ]
  },
  {
   "cell_type": "code",
   "execution_count": 6,
   "id": "5766b1b6",
   "metadata": {},
   "outputs": [],
   "source": [
    "df.shape #dataframe shape"
   ]
  },
  {
   "cell_type": "code",
   "execution_count": null,
   "id": "f0f31fe0",
   "metadata": {},
   "outputs": [],
   "source": [
    "pd.set_option('display.max_columns',None) #Setting Display options to ensure feature name visibility"
   ]
  },
  {
   "cell_type": "code",
   "execution_count": null,
   "id": "37095dad",
   "metadata": {},
   "outputs": [],
   "source": [
    "df['columnname'].isnull().sum()"
   ]
  },
  {
   "cell_type": "code",
   "execution_count": null,
   "id": "b388967e",
   "metadata": {},
   "outputs": [],
   "source": [
    "df.drop(['columnname'],axis=1) #use inline=True for replacing in same df"
   ]
  },
  {
   "cell_type": "code",
   "execution_count": null,
   "id": "a145545b",
   "metadata": {},
   "outputs": [],
   "source": [
    "# numerical categorical segregation\n",
    "numx=df.select_dtypes(include='number') \n",
    "catx=df.select_dtypes(include='object')"
   ]
  },
  {
   "cell_type": "code",
   "execution_count": null,
   "id": "2107dd4e",
   "metadata": {},
   "outputs": [],
   "source": [
    "#Outlier Analysis of Numerical Features\n",
    "\n",
    "numx.describe(percentiles=[0.01,0.05,0.10,0.25,0.50,0.75,0.85,0.9,0.99])\n",
    "\n",
    "# defining a function to drop outlier before and after 1% and 99% of overall data columns\n",
    "def outliercap(a):\n",
    "    a=a.clip(lower=a.quantile(0.01))\n",
    "    a=a.clip(upper=a.quantile(0.99))\n",
    "    return(a)\n",
    "\n",
    "#application using lambda\n",
    "numx=numx.apply(lambda a:outliercap(a))\n",
    "numx.describe(percentiles=[0.01,0.05,0.10,0.25,0.50,0.75,0.85,0.9,0.99]) #crosscheck"
   ]
  },
  {
   "cell_type": "code",
   "execution_count": null,
   "id": "16954981",
   "metadata": {},
   "outputs": [],
   "source": [
    "#concatination column wise\n",
    "FInal_df=pd.concat([df1,df2],axis=1,join=\"inner\") "
   ]
  },
  {
   "cell_type": "code",
   "execution_count": null,
   "id": "d2fa036e",
   "metadata": {},
   "outputs": [],
   "source": [
    "#Output Variation distinct count \n",
    "\n",
    "Y['TARGET'].value_counts()"
   ]
  },
  {
   "cell_type": "code",
   "execution_count": null,
   "id": "e2c6d7a0",
   "metadata": {},
   "outputs": [],
   "source": []
  },
  {
   "cell_type": "code",
   "execution_count": null,
   "id": "5448da86",
   "metadata": {},
   "outputs": [],
   "source": []
  },
  {
   "cell_type": "code",
   "execution_count": null,
   "id": "c804f03f",
   "metadata": {},
   "outputs": [],
   "source": []
  },
  {
   "cell_type": "code",
   "execution_count": null,
   "id": "ee271e9d",
   "metadata": {},
   "outputs": [],
   "source": []
  },
  {
   "cell_type": "markdown",
   "id": "ea715dbf",
   "metadata": {},
   "source": [
    "# Encoders-Lable Encoder"
   ]
  },
  {
   "cell_type": "code",
   "execution_count": null,
   "id": "19b4e07e",
   "metadata": {},
   "outputs": [],
   "source": [
    "## encode object features to numeric\n",
    "from sklearn.preprocessing import LabelEncoder ,Normalizer,MinMaxScaler\n",
    "\n",
    "lencoders = {}\n",
    "\n",
    "for col in train.select_dtypes(include=['object']).columns:\n",
    "    lencoders[col] = LabelEncoder()\n",
    "    train[col] = lencoders[col].fit_transform(train[col])"
   ]
  },
  {
   "cell_type": "code",
   "execution_count": null,
   "id": "e22cedf9",
   "metadata": {},
   "outputs": [],
   "source": []
  },
  {
   "cell_type": "markdown",
   "id": "22ec8c0c",
   "metadata": {},
   "source": [
    "# Min-Max Scaling and standardization"
   ]
  },
  {
   "cell_type": "code",
   "execution_count": null,
   "id": "b6e58f5c",
   "metadata": {},
   "outputs": [],
   "source": [
    "cols=['columns name']\n",
    "for col in cols:\n",
    "    #find minimum and maximum of that column \n",
    "    minimum=min(data[col])\n",
    "    maximum=max(data[col])\n",
    "    data[col]=(data[col]-minimum)/(maximum-minimum)\n",
    "    \n",
    "#     OR\n",
    "\n",
    "from sklearn.preprocessing import MinMaxScaler\n",
    "scaler = MinMaxScaler()\n",
    "print(scaler.fit(data))\n",
    "print(scaler.transform(data))\n",
    "\n",
    "\n",
    "from sklearn import preprocessing\n",
    "scaler=preprocessing.StandardScaler()\n",
    "\n",
    "#fit our data\n",
    "scaled_cols=scaler.fit_transform(df[cols])\n",
    "scaled_cols=pd.DataFrame(scaled_cols,columns=cols)\n",
    "scaled_cols.head()    \n",
    "\n",
    "for col in cols:\n",
    "    data[col]=scaled_cols[col]"
   ]
  },
  {
   "cell_type": "markdown",
   "id": "aab3c456",
   "metadata": {},
   "source": [
    "# Train Test Split"
   ]
  },
  {
   "cell_type": "code",
   "execution_count": null,
   "id": "0abcfe2a",
   "metadata": {},
   "outputs": [],
   "source": [
    "from sklearn.model_selection import train_test_split\n",
    "X_train, X_test, y_train, y_test=train_test_split(X_all, Y, test_size=0.3, random_state=42)\n",
    "\n",
    "print(\"Shape of Training Data\",X_train.shape)\n",
    "print(\"Shape of Testing Data\",X_test.shape)\n",
    "print(\"Response Rate in Training Data\",y_train.mean())\n",
    "print(\"Response Rate in Testing Data\",y_test.mean())"
   ]
  },
  {
   "cell_type": "markdown",
   "id": "dcff1c19",
   "metadata": {},
   "source": [
    "# Modelling"
   ]
  },
  {
   "cell_type": "code",
   "execution_count": null,
   "id": "8a4af7a0",
   "metadata": {},
   "outputs": [],
   "source": [
    "# Defining Training and Cross-Validation(k-Fold) Function¶\n",
    "\n",
    "from sklearn.model_selection import cross_val_score\n",
    "from sklearn.metrics import mean_squared_error\n",
    "from sklearn.metrics import accuracy_score\n",
    "\n",
    "def train(model,X,Y):\n",
    "    \n",
    "    #fitting the model\n",
    "    model.fit(X_train,y_train)\n",
    "    \n",
    "    #predict the test set\n",
    "    y_pred=model.predict(X_test)\n",
    "    \n",
    "    #Perform Cross-Validation\n",
    "    cv_score=cross_val_score(model,X,Y,scoring='mean_squared_error',cv=5)\n",
    "    cv_score=np.abs(np.mean(cv_score))\n",
    "    \n",
    "    print(\"Model Report=\")\n",
    "    print(\"MSE=\",mean_squared_error(y_test,y_pred))\n",
    "    print(\"CV_score=\",cv_score)"
   ]
  },
  {
   "cell_type": "markdown",
   "id": "449b69f8",
   "metadata": {},
   "source": [
    "### Different Regression Models"
   ]
  },
  {
   "cell_type": "code",
   "execution_count": null,
   "id": "9fcc3e3d",
   "metadata": {},
   "outputs": [],
   "source": [
    "from sklearn.linear_model import LinearRegression\n",
    "model = LinearRegression(normalize=True)\n",
    "\n",
    "train(model,predictors,target)\n",
    "\n",
    "coef=pd.Series(model.coef_,predictors.columns).sort_values()\n",
    "coef.plot(kind='bar',title='Model Coefficients')"
   ]
  },
  {
   "cell_type": "code",
   "execution_count": null,
   "id": "4637ee24",
   "metadata": {},
   "outputs": [],
   "source": [
    "from sklearn.tree import DecisionTreeRegressor\n",
    "model = DecisionTreeRegressor()\n",
    "\n",
    "train(model,predictors,target)\n",
    "\n",
    "coef=pd.Series(model.feature_importances_,predictors.columns).sort_values(ascending=False)\n",
    "coef.plot(kind='bar',title='feature_importance')"
   ]
  },
  {
   "cell_type": "code",
   "execution_count": null,
   "id": "a5fd3835",
   "metadata": {},
   "outputs": [],
   "source": [
    "from sklearn.ensemble import RandomForestRegressor\n",
    "model = RandomForestRegressor()\n",
    "\n",
    "train(model,predictors,target)\n",
    "\n",
    "coef=pd.Series(model.feature_importances_,predictors.columns).sort_values(ascending=False)\n",
    "coef.plot(kind='bar',title='feature_importance')"
   ]
  },
  {
   "cell_type": "code",
   "execution_count": null,
   "id": "64ae06db",
   "metadata": {},
   "outputs": [],
   "source": [
    "from sklearn.ensemble import ExtraTreesRegressor\n",
    "model = ExtraTreesRegressor()\n",
    "\n",
    "train(model,predictors,target)\n",
    "\n",
    "coef=pd.Series(model.feature_importances_,predictors.columns).sort_values(ascending=False)\n",
    "coef.plot(kind='bar',title='feature_importance')"
   ]
  },
  {
   "cell_type": "code",
   "execution_count": null,
   "id": "d98875f2",
   "metadata": {},
   "outputs": [],
   "source": [
    "import xgboost as xgb\n",
    "model = xgb.XGBRegressor()\n",
    "\n",
    "train(model,predictors,target)\n",
    "\n",
    "coef=pd.Series(model.feature_importances_,predictors.columns).sort_values(ascending=False)\n",
    "coef.plot(kind='bar',title='feature_importance')"
   ]
  },
  {
   "cell_type": "code",
   "execution_count": null,
   "id": "ed9b77ff",
   "metadata": {},
   "outputs": [],
   "source": []
  },
  {
   "cell_type": "markdown",
   "id": "67299160",
   "metadata": {},
   "source": [
    "# classification Models"
   ]
  },
  {
   "cell_type": "code",
   "execution_count": null,
   "id": "252cb60a",
   "metadata": {},
   "outputs": [],
   "source": [
    "from sklearn.tree import DecisionTreeClassifier\n",
    "\n",
    "# creating model\n",
    "model = DecisionTreeClassifier(max_depth=5)\n",
    "\n",
    "# feeding the training set into the model\n",
    "model.fit(x_train, y_train)\n",
    "\n",
    "# predicting the results for the test set\n",
    "y_pred = model.predict(x_test)\n",
    "\n",
    "# calculating the training and testing accuracies\n",
    "print(\"Training accuracy :\", model.score(x_train, y_train))\n",
    "print(\"Testing accuracy :\", model.score(x_test, y_test))"
   ]
  },
  {
   "cell_type": "code",
   "execution_count": null,
   "id": "b17156f4",
   "metadata": {},
   "outputs": [],
   "source": []
  },
  {
   "cell_type": "code",
   "execution_count": null,
   "id": "bb4a9b69",
   "metadata": {},
   "outputs": [],
   "source": []
  },
  {
   "cell_type": "markdown",
   "id": "68903fcd",
   "metadata": {},
   "source": [
    "# Model Evaluation"
   ]
  },
  {
   "cell_type": "code",
   "execution_count": null,
   "id": "a3b8a51f",
   "metadata": {},
   "outputs": [],
   "source": [
    "#model Evaluation\n",
    "\n",
    "from sklearn import metrics\n",
    "from sklearn.metrics import confusion_matrix\n",
    "\n",
    "print(\"Accuracy:\",metrics.accuracy_score(y_test, y_pred))\n",
    "print(\"Precision\",metrics.precision_score(y_test,y_pred))\n",
    "print(\"Recall\",metrics.recall_score(y_test,y_pred))\n",
    "print(\"f1_score\",metrics.f1_score(y_test,y_pred))\n",
    "\n",
    "metrics.plot_confusion_matrix(model,X,Y)"
   ]
  },
  {
   "cell_type": "code",
   "execution_count": null,
   "id": "414f2bed",
   "metadata": {},
   "outputs": [],
   "source": []
  },
  {
   "cell_type": "markdown",
   "id": "79feb8f9",
   "metadata": {},
   "source": [
    "# Deep Learning- Regression"
   ]
  },
  {
   "cell_type": "code",
   "execution_count": null,
   "id": "fe6f0a40",
   "metadata": {},
   "outputs": [],
   "source": [
    "import tensorflow \n",
    "from tensorflow.keras.models import Sequential\n",
    "from tensorflow.keras.layers import Dense\n",
    "\n",
    "X_train,X_test,y_train,y_test=train_test_split(x,y,random_state=101,test_size=0.2)\n",
    "\n",
    "#creating a model\n",
    "model=Sequential([\n",
    "                  Dense(32,activation='relu',kernel_initializer='he_normal'),\n",
    "                  Dense(16,activation='sigmoid'),\n",
    "                  Dense(8,activation='relu',kernel_initializer='he_normal'),\n",
    "                  Dense(4,activation='sigmoid'),\n",
    "                  Dense(2,activation='relu',kernel_initializer='he_normal'),\n",
    "                  Dense(1),\n",
    "])\n",
    "\n",
    "model.compile(optimizer='SGD',loss=tensorflow.keras.losses.mae,metrics=['mae'])\n",
    "\n",
    "random=model.fit(x,y,epochs=50,batch_size=32,validation_split=0.2)\n",
    "\n",
    "y_pred=model.predict(data)"
   ]
  },
  {
   "cell_type": "markdown",
   "id": "a747d574",
   "metadata": {},
   "source": [
    "# Deep Learning- Classification"
   ]
  },
  {
   "cell_type": "code",
   "execution_count": null,
   "id": "e7dfd855",
   "metadata": {},
   "outputs": [],
   "source": [
    "import tensorflow \n",
    "from tensorflow.keras.models import Sequential\n",
    "from tensorflow.keras.layers import Dense,Dropout\n",
    "\n",
    "from sklearn.model_selection import train_test_split\n",
    "from sklearn.preprocessing import StandardScaler\n",
    "\n",
    "X_train , X_test , y_train , y_test= train_test_split(x,y , random_state = 101 , test_size = 0.2 )\n",
    "\n",
    "model=Sequential([\n",
    "                  Dense(128 , activation='relu' , kernel_initializer= 'he_normal',),\n",
    "                  Dropout(0.5),\n",
    "\n",
    "                  Dense(64, activation='sigmoid' ),\n",
    "                  Dropout(0.5),\n",
    "\n",
    "                  Dense(32, activation='relu' , kernel_initializer= 'he_normal'),\n",
    "                  Dropout(0.3),\n",
    "\n",
    "                  Dense(16, activation='sigmoid' ),\n",
    "                  Dropout(0.2),\n",
    "\n",
    "                  Dense(8, activation='relu' , kernel_initializer= 'he_normal'),\n",
    "                  Dropout(0.1),\n",
    "\n",
    "                  Dense(1 , activation='sigmoid')\n",
    "])\n",
    "\n",
    "model.compile(optimizer='SGD' , loss = 'binary_crossentropy' , metrics=['accuracy'])\n",
    "\n",
    "\n",
    "random = model.fit(X_train , y_train, batch_size=32 , epochs=50 , validation_split=0.2)\n",
    "\n",
    "y_pred = model.predict(X_test)\n",
    "\n",
    "from sklearn.metrics import accuracy_score\n",
    "accuracy_score(y_pred , y_test)"
   ]
  },
  {
   "cell_type": "code",
   "execution_count": null,
   "id": "ad8216a7",
   "metadata": {},
   "outputs": [],
   "source": []
  },
  {
   "cell_type": "code",
   "execution_count": null,
   "id": "6bd4954f",
   "metadata": {},
   "outputs": [],
   "source": []
  },
  {
   "cell_type": "code",
   "execution_count": null,
   "id": "238717c0",
   "metadata": {},
   "outputs": [],
   "source": []
  }
 ],
 "metadata": {
  "kernelspec": {
   "display_name": "Python 3",
   "language": "python",
   "name": "python3"
  },
  "language_info": {
   "codemirror_mode": {
    "name": "ipython",
    "version": 3
   },
   "file_extension": ".py",
   "mimetype": "text/x-python",
   "name": "python",
   "nbconvert_exporter": "python",
   "pygments_lexer": "ipython3",
   "version": "3.8.5"
  }
 },
 "nbformat": 4,
 "nbformat_minor": 5
}
