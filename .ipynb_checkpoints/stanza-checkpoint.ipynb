{
 "cells": [
  {
   "cell_type": "code",
   "execution_count": 2,
   "id": "e1ca331d",
   "metadata": {},
   "outputs": [
    {
     "name": "stdout",
     "output_type": "stream",
     "text": [
      "Collecting stanza\n",
      "  Downloading stanza-1.2-py3-none-any.whl (282 kB)\n",
      "Requirement already satisfied: tqdm in c:\\shubhangi\\lib\\site-packages (from stanza) (4.59.0)\n",
      "Collecting torch>=1.3.0\n",
      "  Downloading torch-1.8.1-cp38-cp38-win_amd64.whl (190.5 MB)\n",
      "Requirement already satisfied: requests in c:\\shubhangi\\lib\\site-packages (from stanza) (2.25.1)\n",
      "Requirement already satisfied: numpy in c:\\shubhangi\\lib\\site-packages (from stanza) (1.19.2)\n",
      "Collecting protobuf\n",
      "  Downloading protobuf-3.15.8-py2.py3-none-any.whl (173 kB)\n",
      "Requirement already satisfied: typing-extensions in c:\\shubhangi\\lib\\site-packages (from torch>=1.3.0->stanza) (3.7.4.3)\n",
      "Requirement already satisfied: six>=1.9 in c:\\shubhangi\\lib\\site-packages (from protobuf->stanza) (1.15.0)\n",
      "Requirement already satisfied: idna<3,>=2.5 in c:\\shubhangi\\lib\\site-packages (from requests->stanza) (2.10)\n",
      "Requirement already satisfied: urllib3<1.27,>=1.21.1 in c:\\shubhangi\\lib\\site-packages (from requests->stanza) (1.26.4)\n",
      "Requirement already satisfied: certifi>=2017.4.17 in c:\\shubhangi\\lib\\site-packages (from requests->stanza) (2020.12.5)\n",
      "Requirement already satisfied: chardet<5,>=3.0.2 in c:\\shubhangi\\lib\\site-packages (from requests->stanza) (4.0.0)\n",
      "Installing collected packages: torch, protobuf, stanza\n",
      "Successfully installed protobuf-3.15.8 stanza-1.2 torch-1.8.1\n"
     ]
    }
   ],
   "source": [
    "!pip install stanza"
   ]
  },
  {
   "cell_type": "code",
   "execution_count": 3,
   "id": "fda06a7d",
   "metadata": {},
   "outputs": [],
   "source": [
    "import stanza"
   ]
  },
  {
   "cell_type": "code",
   "execution_count": 4,
   "id": "8df3e289",
   "metadata": {},
   "outputs": [
    {
     "name": "stderr",
     "output_type": "stream",
     "text": [
      "Downloading https://raw.githubusercontent.com/stanfordnlp/stanza-resources/master/resources_1.2.0.json: 128kB [00:00, 25.7MB/s]\n",
      "2021-05-02 15:21:08 INFO: Downloading default packages for language: en (English)...\n",
      "Downloading http://nlp.stanford.edu/software/stanza/1.2.0/en/default.zip: 100%|██████| 411M/411M [21:53<00:00, 313kB/s]\n",
      "2021-05-02 15:43:15 INFO: Finished downloading models and saved to C:\\Users\\Shubhangi Waghmare\\stanza_resources.\n"
     ]
    }
   ],
   "source": [
    "#download the model\n",
    "stanza.download('en')"
   ]
  },
  {
   "cell_type": "code",
   "execution_count": 5,
   "id": "73774517",
   "metadata": {},
   "outputs": [],
   "source": [
    "sent = \"India, officially the Republic of India, is a country in South Asia , June, 11th may\""
   ]
  },
  {
   "cell_type": "code",
   "execution_count": 8,
   "id": "0ef6794c",
   "metadata": {},
   "outputs": [
    {
     "name": "stderr",
     "output_type": "stream",
     "text": [
      "2021-05-02 15:47:48 INFO: Loading these models for language: en (English):\n",
      "========================\n",
      "| Processor | Package  |\n",
      "------------------------\n",
      "| tokenize  | combined |\n",
      "========================\n",
      "\n",
      "2021-05-02 15:47:48 INFO: Use device: cpu\n",
      "2021-05-02 15:47:48 INFO: Loading: tokenize\n",
      "2021-05-02 15:47:48 INFO: Done loading processors!\n"
     ]
    }
   ],
   "source": [
    "pipe_line=stanza.Pipeline('en',processors='tokenize')"
   ]
  },
  {
   "cell_type": "code",
   "execution_count": 9,
   "id": "bc1ece6d",
   "metadata": {},
   "outputs": [],
   "source": [
    "doc=pipe_line(sent)"
   ]
  },
  {
   "cell_type": "code",
   "execution_count": 10,
   "id": "dfe93bb5",
   "metadata": {},
   "outputs": [
    {
     "data": {
      "text/plain": [
       "stanza.models.common.doc.Document"
      ]
     },
     "execution_count": 10,
     "metadata": {},
     "output_type": "execute_result"
    }
   ],
   "source": [
    "type(doc)"
   ]
  },
  {
   "cell_type": "code",
   "execution_count": 11,
   "id": "6b04f01b",
   "metadata": {},
   "outputs": [
    {
     "data": {
      "text/plain": [
       "[\n",
       "  [\n",
       "    {\n",
       "      \"id\": 1,\n",
       "      \"text\": \"India\",\n",
       "      \"misc\": \"start_char=0|end_char=5\"\n",
       "    },\n",
       "    {\n",
       "      \"id\": 2,\n",
       "      \"text\": \",\",\n",
       "      \"misc\": \"start_char=5|end_char=6\"\n",
       "    },\n",
       "    {\n",
       "      \"id\": 3,\n",
       "      \"text\": \"officially\",\n",
       "      \"misc\": \"start_char=7|end_char=17\"\n",
       "    },\n",
       "    {\n",
       "      \"id\": 4,\n",
       "      \"text\": \"the\",\n",
       "      \"misc\": \"start_char=18|end_char=21\"\n",
       "    },\n",
       "    {\n",
       "      \"id\": 5,\n",
       "      \"text\": \"Republic\",\n",
       "      \"misc\": \"start_char=22|end_char=30\"\n",
       "    },\n",
       "    {\n",
       "      \"id\": 6,\n",
       "      \"text\": \"of\",\n",
       "      \"misc\": \"start_char=31|end_char=33\"\n",
       "    },\n",
       "    {\n",
       "      \"id\": 7,\n",
       "      \"text\": \"India\",\n",
       "      \"misc\": \"start_char=34|end_char=39\"\n",
       "    },\n",
       "    {\n",
       "      \"id\": 8,\n",
       "      \"text\": \",\",\n",
       "      \"misc\": \"start_char=39|end_char=40\"\n",
       "    },\n",
       "    {\n",
       "      \"id\": 9,\n",
       "      \"text\": \"is\",\n",
       "      \"misc\": \"start_char=41|end_char=43\"\n",
       "    },\n",
       "    {\n",
       "      \"id\": 10,\n",
       "      \"text\": \"a\",\n",
       "      \"misc\": \"start_char=44|end_char=45\"\n",
       "    },\n",
       "    {\n",
       "      \"id\": 11,\n",
       "      \"text\": \"country\",\n",
       "      \"misc\": \"start_char=46|end_char=53\"\n",
       "    },\n",
       "    {\n",
       "      \"id\": 12,\n",
       "      \"text\": \"in\",\n",
       "      \"misc\": \"start_char=54|end_char=56\"\n",
       "    },\n",
       "    {\n",
       "      \"id\": 13,\n",
       "      \"text\": \"South\",\n",
       "      \"misc\": \"start_char=57|end_char=62\"\n",
       "    },\n",
       "    {\n",
       "      \"id\": 14,\n",
       "      \"text\": \"Asia\",\n",
       "      \"misc\": \"start_char=63|end_char=67\"\n",
       "    },\n",
       "    {\n",
       "      \"id\": 15,\n",
       "      \"text\": \",\",\n",
       "      \"misc\": \"start_char=68|end_char=69\"\n",
       "    },\n",
       "    {\n",
       "      \"id\": 16,\n",
       "      \"text\": \"June\",\n",
       "      \"misc\": \"start_char=70|end_char=74\"\n",
       "    },\n",
       "    {\n",
       "      \"id\": 17,\n",
       "      \"text\": \",\",\n",
       "      \"misc\": \"start_char=74|end_char=75\"\n",
       "    },\n",
       "    {\n",
       "      \"id\": 18,\n",
       "      \"text\": \"11th\",\n",
       "      \"misc\": \"start_char=76|end_char=80\"\n",
       "    },\n",
       "    {\n",
       "      \"id\": 19,\n",
       "      \"text\": \"may\",\n",
       "      \"misc\": \"start_char=81|end_char=84\"\n",
       "    }\n",
       "  ]\n",
       "]"
      ]
     },
     "execution_count": 11,
     "metadata": {},
     "output_type": "execute_result"
    }
   ],
   "source": [
    "docs"
   ]
  },
  {
   "cell_type": "code",
   "execution_count": 12,
   "id": "7ad7a450",
   "metadata": {},
   "outputs": [
    {
     "name": "stdout",
     "output_type": "stream",
     "text": [
      "++++++++++++++++++Sentences1++++++++++\n",
      "id: (1,)\ttext: start_char=0|end_char=5\n",
      "id: (2,)\ttext: start_char=5|end_char=6\n",
      "id: (3,)\ttext: start_char=7|end_char=17\n",
      "id: (4,)\ttext: start_char=18|end_char=21\n",
      "id: (5,)\ttext: start_char=22|end_char=30\n",
      "id: (6,)\ttext: start_char=31|end_char=33\n",
      "id: (7,)\ttext: start_char=34|end_char=39\n",
      "id: (8,)\ttext: start_char=39|end_char=40\n",
      "id: (9,)\ttext: start_char=41|end_char=43\n",
      "id: (10,)\ttext: start_char=44|end_char=45\n",
      "id: (11,)\ttext: start_char=46|end_char=53\n",
      "id: (12,)\ttext: start_char=54|end_char=56\n",
      "id: (13,)\ttext: start_char=57|end_char=62\n",
      "id: (14,)\ttext: start_char=63|end_char=67\n",
      "id: (15,)\ttext: start_char=68|end_char=69\n",
      "id: (16,)\ttext: start_char=70|end_char=74\n",
      "id: (17,)\ttext: start_char=74|end_char=75\n",
      "id: (18,)\ttext: start_char=76|end_char=80\n",
      "id: (19,)\ttext: start_char=81|end_char=84\n"
     ]
    }
   ],
   "source": [
    "for i,sentence in enumerate(doc.sentences):\n",
    "  print(f'++++++++++++++++++Sentences{i+1}++++++++++')\n",
    "  print(*[f'id: {token.id}\\ttext: {token.misc}' for token in sentence.tokens],sep='\\n')"
   ]
  },
  {
   "cell_type": "code",
   "execution_count": null,
   "id": "39e852c3",
   "metadata": {},
   "outputs": [],
   "source": []
  },
  {
   "cell_type": "code",
   "execution_count": null,
   "id": "0c55b36e",
   "metadata": {},
   "outputs": [],
   "source": []
  },
  {
   "cell_type": "code",
   "execution_count": null,
   "id": "cd4b9bf8",
   "metadata": {},
   "outputs": [],
   "source": []
  },
  {
   "cell_type": "code",
   "execution_count": null,
   "id": "e7100d2d",
   "metadata": {},
   "outputs": [],
   "source": []
  },
  {
   "cell_type": "code",
   "execution_count": null,
   "id": "70400b42",
   "metadata": {},
   "outputs": [],
   "source": []
  },
  {
   "cell_type": "code",
   "execution_count": null,
   "id": "89d799ff",
   "metadata": {},
   "outputs": [],
   "source": []
  },
  {
   "cell_type": "code",
   "execution_count": null,
   "id": "c3ba8d89",
   "metadata": {},
   "outputs": [],
   "source": []
  }
 ],
 "metadata": {
  "kernelspec": {
   "display_name": "Python 3",
   "language": "python",
   "name": "python3"
  },
  "language_info": {
   "codemirror_mode": {
    "name": "ipython",
    "version": 3
   },
   "file_extension": ".py",
   "mimetype": "text/x-python",
   "name": "python",
   "nbconvert_exporter": "python",
   "pygments_lexer": "ipython3",
   "version": "3.8.5"
  }
 },
 "nbformat": 4,
 "nbformat_minor": 5
}
