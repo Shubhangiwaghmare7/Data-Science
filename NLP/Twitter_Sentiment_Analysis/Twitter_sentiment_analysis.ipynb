{
 "cells": [
  {
   "cell_type": "markdown",
   "id": "509c5244",
   "metadata": {},
   "source": [
    "# Importing Libraries"
   ]
  },
  {
   "cell_type": "code",
   "execution_count": 45,
   "id": "da911be7",
   "metadata": {},
   "outputs": [],
   "source": [
    "import pandas as pd\n",
    "import numpy as np\n",
    "import nltk\n",
    "from nltk.corpus import stopwords\n",
    "import string\n",
    "import warnings\n",
    "import re\n",
    "\n",
    "from nltk.stem.porter import PorterStemmer\n",
    "from nltk.stem import WordNetLemmatizer\n",
    "\n",
    "ps=PorterStemmer()\n",
    "wordnet= WordNetLemmatizer()\n",
    "sw=stopwords.words('english')\n",
    "\n",
    "from sklearn.feature_extraction.text import TfidfVectorizer\n",
    "from sklearn.model_selection import train_test_split\n",
    "from sklearn.linear_model import LogisticRegression"
   ]
  },
  {
   "cell_type": "markdown",
   "id": "2d83e8ae",
   "metadata": {},
   "source": [
    "# Importing Data"
   ]
  },
  {
   "cell_type": "code",
   "execution_count": 46,
   "id": "7a641ea7",
   "metadata": {},
   "outputs": [],
   "source": [
    "data=pd.read_csv('Twitter Sentiments.csv')"
   ]
  },
  {
   "cell_type": "code",
   "execution_count": 47,
   "id": "c8a0eaeb",
   "metadata": {},
   "outputs": [
    {
     "data": {
      "text/html": [
       "<div>\n",
       "<style scoped>\n",
       "    .dataframe tbody tr th:only-of-type {\n",
       "        vertical-align: middle;\n",
       "    }\n",
       "\n",
       "    .dataframe tbody tr th {\n",
       "        vertical-align: top;\n",
       "    }\n",
       "\n",
       "    .dataframe thead th {\n",
       "        text-align: right;\n",
       "    }\n",
       "</style>\n",
       "<table border=\"1\" class=\"dataframe\">\n",
       "  <thead>\n",
       "    <tr style=\"text-align: right;\">\n",
       "      <th></th>\n",
       "      <th>id</th>\n",
       "      <th>label</th>\n",
       "      <th>tweet</th>\n",
       "    </tr>\n",
       "  </thead>\n",
       "  <tbody>\n",
       "    <tr>\n",
       "      <th>4765</th>\n",
       "      <td>4766</td>\n",
       "      <td>0</td>\n",
       "      <td>just pre-ordered my copy!   #harrypotterandthe...</td>\n",
       "    </tr>\n",
       "    <tr>\n",
       "      <th>8349</th>\n",
       "      <td>8350</td>\n",
       "      <td>0</td>\n",
       "      <td>such sad news about jo cox. what is this world...</td>\n",
       "    </tr>\n",
       "    <tr>\n",
       "      <th>19255</th>\n",
       "      <td>19256</td>\n",
       "      <td>0</td>\n",
       "      <td>do you dare to fight me?ð¡ hahahaha #puppy #...</td>\n",
       "    </tr>\n",
       "    <tr>\n",
       "      <th>381</th>\n",
       "      <td>382</td>\n",
       "      <td>0</td>\n",
       "      <td>@user #tagsforlikes #me #food#friends#summer#...</td>\n",
       "    </tr>\n",
       "    <tr>\n",
       "      <th>14592</th>\n",
       "      <td>14593</td>\n",
       "      <td>0</td>\n",
       "      <td>@user on our way to the #cmtredcarpet â¨   #...</td>\n",
       "    </tr>\n",
       "    <tr>\n",
       "      <th>21037</th>\n",
       "      <td>21038</td>\n",
       "      <td>0</td>\n",
       "      <td>#model   i love u take with u all the time in ...</td>\n",
       "    </tr>\n",
       "    <tr>\n",
       "      <th>26641</th>\n",
       "      <td>26642</td>\n",
       "      <td>0</td>\n",
       "      <td>this is what happens when a race feels superio...</td>\n",
       "    </tr>\n",
       "    <tr>\n",
       "      <th>7138</th>\n",
       "      <td>7139</td>\n",
       "      <td>0</td>\n",
       "      <td>@user   father's day to all the fathers world...</td>\n",
       "    </tr>\n",
       "    <tr>\n",
       "      <th>22191</th>\n",
       "      <td>22192</td>\n",
       "      <td>0</td>\n",
       "      <td>@user registered for #biggboss10! waiting for ...</td>\n",
       "    </tr>\n",
       "    <tr>\n",
       "      <th>4365</th>\n",
       "      <td>4366</td>\n",
       "      <td>0</td>\n",
       "      <td>bored #cntfindfriends   #snap</td>\n",
       "    </tr>\n",
       "    <tr>\n",
       "      <th>21705</th>\n",
       "      <td>21706</td>\n",
       "      <td>1</td>\n",
       "      <td>@user #rebellion in the #uk? when you #dontbuy...</td>\n",
       "    </tr>\n",
       "    <tr>\n",
       "      <th>1190</th>\n",
       "      <td>1191</td>\n",
       "      <td>0</td>\n",
       "      <td>be  ... have #success... in that order!</td>\n",
       "    </tr>\n",
       "    <tr>\n",
       "      <th>2563</th>\n",
       "      <td>2564</td>\n",
       "      <td>0</td>\n",
       "      <td>#coffee keeps our team   &amp;amp; on the go @user...</td>\n",
       "    </tr>\n",
       "    <tr>\n",
       "      <th>5110</th>\n",
       "      <td>5111</td>\n",
       "      <td>0</td>\n",
       "      <td>she makes everything better. #chihuahua #puppy...</td>\n",
       "    </tr>\n",
       "    <tr>\n",
       "      <th>7220</th>\n",
       "      <td>7221</td>\n",
       "      <td>0</td>\n",
       "      <td># if you #luv #hottweets like this from â¶ â...</td>\n",
       "    </tr>\n",
       "    <tr>\n",
       "      <th>3743</th>\n",
       "      <td>3744</td>\n",
       "      <td>0</td>\n",
       "      <td>i am elegant. #i_am #positive #affirmation</td>\n",
       "    </tr>\n",
       "    <tr>\n",
       "      <th>24267</th>\n",
       "      <td>24268</td>\n",
       "      <td>0</td>\n",
       "      <td>very sad when people stop talking/texting/resp...</td>\n",
       "    </tr>\n",
       "    <tr>\n",
       "      <th>19927</th>\n",
       "      <td>19928</td>\n",
       "      <td>0</td>\n",
       "      <td>lou holtz visits texas f  #charliestrong #coac...</td>\n",
       "    </tr>\n",
       "    <tr>\n",
       "      <th>5749</th>\n",
       "      <td>5750</td>\n",
       "      <td>0</td>\n",
       "      <td>@user he's the same person who got suspended ...</td>\n",
       "    </tr>\n",
       "    <tr>\n",
       "      <th>1749</th>\n",
       "      <td>1750</td>\n",
       "      <td>0</td>\n",
       "      <td>101 followers away from 4000, thank you all ne...</td>\n",
       "    </tr>\n",
       "  </tbody>\n",
       "</table>\n",
       "</div>"
      ],
      "text/plain": [
       "          id  label                                              tweet\n",
       "4765    4766      0  just pre-ordered my copy!   #harrypotterandthe...\n",
       "8349    8350      0  such sad news about jo cox. what is this world...\n",
       "19255  19256      0  do you dare to fight me?ð¡ hahahaha #puppy #...\n",
       "381      382      0   @user #tagsforlikes #me #food#friends#summer#...\n",
       "14592  14593      0   @user on our way to the #cmtredcarpet â¨   #...\n",
       "21037  21038      0  #model   i love u take with u all the time in ...\n",
       "26641  26642      0  this is what happens when a race feels superio...\n",
       "7138    7139      0   @user   father's day to all the fathers world...\n",
       "22191  22192      0  @user registered for #biggboss10! waiting for ...\n",
       "4365    4366      0                      bored #cntfindfriends   #snap\n",
       "21705  21706      1  @user #rebellion in the #uk? when you #dontbuy...\n",
       "1190    1191      0           be  ... have #success... in that order! \n",
       "2563    2564      0  #coffee keeps our team   &amp; on the go @user...\n",
       "5110    5111      0  she makes everything better. #chihuahua #puppy...\n",
       "7220    7221      0  # if you #luv #hottweets like this from â¶ â...\n",
       "3743    3744      0    i am elegant. #i_am #positive #affirmation     \n",
       "24267  24268      0  very sad when people stop talking/texting/resp...\n",
       "19927  19928      0  lou holtz visits texas f  #charliestrong #coac...\n",
       "5749    5750      0   @user he's the same person who got suspended ...\n",
       "1749    1750      0  101 followers away from 4000, thank you all ne..."
      ]
     },
     "execution_count": 47,
     "metadata": {},
     "output_type": "execute_result"
    }
   ],
   "source": [
    "data.sample(20)"
   ]
  },
  {
   "cell_type": "markdown",
   "id": "510a5634",
   "metadata": {},
   "source": [
    "# EDA"
   ]
  },
  {
   "cell_type": "markdown",
   "id": "f85b3c9a",
   "metadata": {},
   "source": [
    "#####  Removing usernames i.e pattern @user"
   ]
  },
  {
   "cell_type": "code",
   "execution_count": 48,
   "id": "1a2f52aa",
   "metadata": {},
   "outputs": [],
   "source": [
    "data['tweet']=data['tweet'].apply(lambda x: re.sub(\"@\\S+\",\"\",x))"
   ]
  },
  {
   "cell_type": "markdown",
   "id": "f4e79e88",
   "metadata": {},
   "source": [
    "##### Removing special characters,numbers and punctuations and replacing with space"
   ]
  },
  {
   "cell_type": "code",
   "execution_count": 49,
   "id": "147d73df",
   "metadata": {},
   "outputs": [
    {
     "data": {
      "text/html": [
       "<div>\n",
       "<style scoped>\n",
       "    .dataframe tbody tr th:only-of-type {\n",
       "        vertical-align: middle;\n",
       "    }\n",
       "\n",
       "    .dataframe tbody tr th {\n",
       "        vertical-align: top;\n",
       "    }\n",
       "\n",
       "    .dataframe thead th {\n",
       "        text-align: right;\n",
       "    }\n",
       "</style>\n",
       "<table border=\"1\" class=\"dataframe\">\n",
       "  <thead>\n",
       "    <tr style=\"text-align: right;\">\n",
       "      <th></th>\n",
       "      <th>id</th>\n",
       "      <th>label</th>\n",
       "      <th>tweet</th>\n",
       "    </tr>\n",
       "  </thead>\n",
       "  <tbody>\n",
       "    <tr>\n",
       "      <th>27204</th>\n",
       "      <td>27205</td>\n",
       "      <td>0</td>\n",
       "      <td>you can t help the damsel if she loves her mis...</td>\n",
       "    </tr>\n",
       "    <tr>\n",
       "      <th>30480</th>\n",
       "      <td>30481</td>\n",
       "      <td>0</td>\n",
       "      <td>#pray for #orlando  so   this continues to hap...</td>\n",
       "    </tr>\n",
       "    <tr>\n",
       "      <th>12050</th>\n",
       "      <td>12051</td>\n",
       "      <td>0</td>\n",
       "      <td>#early   bull up  you will dominate your bull ...</td>\n",
       "    </tr>\n",
       "  </tbody>\n",
       "</table>\n",
       "</div>"
      ],
      "text/plain": [
       "          id  label                                              tweet\n",
       "27204  27205      0  you can t help the damsel if she loves her mis...\n",
       "30480  30481      0  #pray for #orlando  so   this continues to hap...\n",
       "12050  12051      0  #early   bull up  you will dominate your bull ..."
      ]
     },
     "execution_count": 49,
     "metadata": {},
     "output_type": "execute_result"
    }
   ],
   "source": [
    "data['tweet']=data['tweet'].apply(lambda x: re.sub(\"[^a-zA-Z#]\",\" \",x))\n",
    "data.sample(3)"
   ]
  },
  {
   "cell_type": "markdown",
   "id": "3f63b235",
   "metadata": {},
   "source": [
    "# Preprocessing of Tweets"
   ]
  },
  {
   "cell_type": "markdown",
   "id": "e3e1bb0a",
   "metadata": {},
   "source": [
    "### 1) lower case 2) Removing Punctuations 3) Removing Stopwords-SW 4)Word Lemmatizaion"
   ]
  },
  {
   "cell_type": "code",
   "execution_count": 50,
   "id": "eb9372f3",
   "metadata": {},
   "outputs": [],
   "source": [
    "data['tweet']=data['tweet'].apply(lambda x:x.lower())\n",
    "data['tweet']=data['tweet'].apply(lambda x : x.translate(str.maketrans(dict.fromkeys(string.punctuation))))\n",
    "data['tweet']=data['tweet'].apply(lambda x : \" \".join([word for word in x.split() if word not in (sw)]))\n",
    "data['tweet']=data['tweet'].apply(lambda x :\" \".join([wordnet.lemmatize(word) for word in x.split()]))"
   ]
  },
  {
   "cell_type": "code",
   "execution_count": 51,
   "id": "a3699345",
   "metadata": {},
   "outputs": [
    {
     "data": {
      "text/html": [
       "<div>\n",
       "<style scoped>\n",
       "    .dataframe tbody tr th:only-of-type {\n",
       "        vertical-align: middle;\n",
       "    }\n",
       "\n",
       "    .dataframe tbody tr th {\n",
       "        vertical-align: top;\n",
       "    }\n",
       "\n",
       "    .dataframe thead th {\n",
       "        text-align: right;\n",
       "    }\n",
       "</style>\n",
       "<table border=\"1\" class=\"dataframe\">\n",
       "  <thead>\n",
       "    <tr style=\"text-align: right;\">\n",
       "      <th></th>\n",
       "      <th>id</th>\n",
       "      <th>label</th>\n",
       "      <th>tweet</th>\n",
       "    </tr>\n",
       "  </thead>\n",
       "  <tbody>\n",
       "    <tr>\n",
       "      <th>0</th>\n",
       "      <td>1</td>\n",
       "      <td>0</td>\n",
       "      <td>father dysfunctional selfish drag kid dysfunct...</td>\n",
       "    </tr>\n",
       "    <tr>\n",
       "      <th>1</th>\n",
       "      <td>2</td>\n",
       "      <td>0</td>\n",
       "      <td>thanks lyft credit use cause offer wheelchair ...</td>\n",
       "    </tr>\n",
       "    <tr>\n",
       "      <th>2</th>\n",
       "      <td>3</td>\n",
       "      <td>0</td>\n",
       "      <td>bihday majesty</td>\n",
       "    </tr>\n",
       "    <tr>\n",
       "      <th>3</th>\n",
       "      <td>4</td>\n",
       "      <td>0</td>\n",
       "      <td>model love u take u time ur</td>\n",
       "    </tr>\n",
       "    <tr>\n",
       "      <th>4</th>\n",
       "      <td>5</td>\n",
       "      <td>0</td>\n",
       "      <td>factsguide society motivation</td>\n",
       "    </tr>\n",
       "    <tr>\n",
       "      <th>5</th>\n",
       "      <td>6</td>\n",
       "      <td>0</td>\n",
       "      <td>huge fan fare big talking leave chaos pay disp...</td>\n",
       "    </tr>\n",
       "    <tr>\n",
       "      <th>6</th>\n",
       "      <td>7</td>\n",
       "      <td>0</td>\n",
       "      <td>camping tomorrow danny</td>\n",
       "    </tr>\n",
       "    <tr>\n",
       "      <th>7</th>\n",
       "      <td>8</td>\n",
       "      <td>0</td>\n",
       "      <td>next school year year exam think school exam h...</td>\n",
       "    </tr>\n",
       "    <tr>\n",
       "      <th>8</th>\n",
       "      <td>9</td>\n",
       "      <td>0</td>\n",
       "      <td>love land allin cavs champion cleveland clevel...</td>\n",
       "    </tr>\n",
       "    <tr>\n",
       "      <th>9</th>\n",
       "      <td>10</td>\n",
       "      <td>0</td>\n",
       "      <td>welcome gr</td>\n",
       "    </tr>\n",
       "    <tr>\n",
       "      <th>10</th>\n",
       "      <td>11</td>\n",
       "      <td>0</td>\n",
       "      <td>ireland consumer price index mom climbed previ...</td>\n",
       "    </tr>\n",
       "    <tr>\n",
       "      <th>11</th>\n",
       "      <td>12</td>\n",
       "      <td>0</td>\n",
       "      <td>selfish orlando standwithorlando pulseshooting...</td>\n",
       "    </tr>\n",
       "    <tr>\n",
       "      <th>12</th>\n",
       "      <td>13</td>\n",
       "      <td>0</td>\n",
       "      <td>get see daddy today day gettingfed</td>\n",
       "    </tr>\n",
       "    <tr>\n",
       "      <th>13</th>\n",
       "      <td>14</td>\n",
       "      <td>1</td>\n",
       "      <td>cnn call michigan middle school build wall cha...</td>\n",
       "    </tr>\n",
       "    <tr>\n",
       "      <th>14</th>\n",
       "      <td>15</td>\n",
       "      <td>1</td>\n",
       "      <td>comment australia opkillingbay seashepherd hel...</td>\n",
       "    </tr>\n",
       "  </tbody>\n",
       "</table>\n",
       "</div>"
      ],
      "text/plain": [
       "    id  label                                              tweet\n",
       "0    1      0  father dysfunctional selfish drag kid dysfunct...\n",
       "1    2      0  thanks lyft credit use cause offer wheelchair ...\n",
       "2    3      0                                     bihday majesty\n",
       "3    4      0                        model love u take u time ur\n",
       "4    5      0                      factsguide society motivation\n",
       "5    6      0  huge fan fare big talking leave chaos pay disp...\n",
       "6    7      0                             camping tomorrow danny\n",
       "7    8      0  next school year year exam think school exam h...\n",
       "8    9      0  love land allin cavs champion cleveland clevel...\n",
       "9   10      0                                         welcome gr\n",
       "10  11      0  ireland consumer price index mom climbed previ...\n",
       "11  12      0  selfish orlando standwithorlando pulseshooting...\n",
       "12  13      0                 get see daddy today day gettingfed\n",
       "13  14      1  cnn call michigan middle school build wall cha...\n",
       "14  15      1  comment australia opkillingbay seashepherd hel..."
      ]
     },
     "execution_count": 51,
     "metadata": {},
     "output_type": "execute_result"
    }
   ],
   "source": [
    "data.head(15)"
   ]
  },
  {
   "cell_type": "markdown",
   "id": "36ca9635",
   "metadata": {},
   "source": [
    "### Label describes positive and negative impact of tweets i.e. 1 for offenssive comment and 0 for General Comment"
   ]
  },
  {
   "cell_type": "code",
   "execution_count": 52,
   "id": "087cd866",
   "metadata": {},
   "outputs": [
    {
     "data": {
      "text/plain": [
       "10935    0\n",
       "8425     0\n",
       "29157    0\n",
       "2341     0\n",
       "31282    0\n",
       "10304    0\n",
       "1240     0\n",
       "10716    0\n",
       "31718    1\n",
       "626      0\n",
       "8521     0\n",
       "6444     0\n",
       "24205    0\n",
       "5991     0\n",
       "21344    1\n",
       "371      0\n",
       "25108    0\n",
       "17363    0\n",
       "10793    0\n",
       "18671    0\n",
       "24722    0\n",
       "14196    0\n",
       "29008    0\n",
       "6986     0\n",
       "19523    0\n",
       "Name: label, dtype: int64"
      ]
     },
     "execution_count": 52,
     "metadata": {},
     "output_type": "execute_result"
    }
   ],
   "source": [
    "data['label'].sample(25)"
   ]
  },
  {
   "cell_type": "code",
   "execution_count": 53,
   "id": "dcdf0889",
   "metadata": {},
   "outputs": [],
   "source": [
    "x=data['tweet']\n",
    "y=data['label']"
   ]
  },
  {
   "cell_type": "markdown",
   "id": "12a734d1",
   "metadata": {},
   "source": [
    "# Train-Test Split"
   ]
  },
  {
   "cell_type": "code",
   "execution_count": 54,
   "id": "3f853b2c",
   "metadata": {},
   "outputs": [],
   "source": [
    "X_train , X_test, y_train, y_test = train_test_split(x,y, test_size = 0.2 , random_state = 101)"
   ]
  },
  {
   "cell_type": "code",
   "execution_count": 55,
   "id": "36f82ece",
   "metadata": {},
   "outputs": [],
   "source": [
    "train_data = pd.DataFrame({'tweet':X_train , 'tweet_category':y_train})\n",
    "test_data = pd.DataFrame({'tweet':X_test , 'tweet_category':y_test})"
   ]
  },
  {
   "cell_type": "code",
   "execution_count": 56,
   "id": "8238d808",
   "metadata": {},
   "outputs": [
    {
     "data": {
      "text/html": [
       "<div>\n",
       "<style scoped>\n",
       "    .dataframe tbody tr th:only-of-type {\n",
       "        vertical-align: middle;\n",
       "    }\n",
       "\n",
       "    .dataframe tbody tr th {\n",
       "        vertical-align: top;\n",
       "    }\n",
       "\n",
       "    .dataframe thead th {\n",
       "        text-align: right;\n",
       "    }\n",
       "</style>\n",
       "<table border=\"1\" class=\"dataframe\">\n",
       "  <thead>\n",
       "    <tr style=\"text-align: right;\">\n",
       "      <th></th>\n",
       "      <th>tweet</th>\n",
       "      <th>tweet_category</th>\n",
       "    </tr>\n",
       "  </thead>\n",
       "  <tbody>\n",
       "    <tr>\n",
       "      <th>22711</th>\n",
       "      <td>wait till green leaf come gonna nail bitter sure</td>\n",
       "      <td>0</td>\n",
       "    </tr>\n",
       "    <tr>\n",
       "      <th>2688</th>\n",
       "      <td>model love u take u time ur</td>\n",
       "      <td>0</td>\n",
       "    </tr>\n",
       "    <tr>\n",
       "      <th>1120</th>\n",
       "      <td>lol watched novela parent</td>\n",
       "      <td>0</td>\n",
       "    </tr>\n",
       "  </tbody>\n",
       "</table>\n",
       "</div>"
      ],
      "text/plain": [
       "                                                  tweet  tweet_category\n",
       "22711  wait till green leaf come gonna nail bitter sure               0\n",
       "2688                        model love u take u time ur               0\n",
       "1120                          lol watched novela parent               0"
      ]
     },
     "execution_count": 56,
     "metadata": {},
     "output_type": "execute_result"
    }
   ],
   "source": [
    "train_data.head(3)"
   ]
  },
  {
   "cell_type": "code",
   "execution_count": 57,
   "id": "ebaae738",
   "metadata": {},
   "outputs": [
    {
     "data": {
      "text/html": [
       "<div>\n",
       "<style scoped>\n",
       "    .dataframe tbody tr th:only-of-type {\n",
       "        vertical-align: middle;\n",
       "    }\n",
       "\n",
       "    .dataframe tbody tr th {\n",
       "        vertical-align: top;\n",
       "    }\n",
       "\n",
       "    .dataframe thead th {\n",
       "        text-align: right;\n",
       "    }\n",
       "</style>\n",
       "<table border=\"1\" class=\"dataframe\">\n",
       "  <thead>\n",
       "    <tr style=\"text-align: right;\">\n",
       "      <th></th>\n",
       "      <th>tweet</th>\n",
       "      <th>tweet_category</th>\n",
       "    </tr>\n",
       "  </thead>\n",
       "  <tbody>\n",
       "    <tr>\n",
       "      <th>9900</th>\n",
       "      <td>increasingly angered leave campaign stupidity ...</td>\n",
       "      <td>0</td>\n",
       "    </tr>\n",
       "    <tr>\n",
       "      <th>10836</th>\n",
       "      <td>yes going july</td>\n",
       "      <td>0</td>\n",
       "    </tr>\n",
       "    <tr>\n",
       "      <th>22075</th>\n",
       "      <td>missing paner crime return pa sunday lucky spe...</td>\n",
       "      <td>0</td>\n",
       "    </tr>\n",
       "    <tr>\n",
       "      <th>31468</th>\n",
       "      <td>jts troxy theater jts love sinkthepink music i...</td>\n",
       "      <td>0</td>\n",
       "    </tr>\n",
       "    <tr>\n",
       "      <th>17609</th>\n",
       "      <td>finished book thinking forget past hard think ...</td>\n",
       "      <td>0</td>\n",
       "    </tr>\n",
       "  </tbody>\n",
       "</table>\n",
       "</div>"
      ],
      "text/plain": [
       "                                                   tweet  tweet_category\n",
       "9900   increasingly angered leave campaign stupidity ...               0\n",
       "10836                                     yes going july               0\n",
       "22075  missing paner crime return pa sunday lucky spe...               0\n",
       "31468  jts troxy theater jts love sinkthepink music i...               0\n",
       "17609  finished book thinking forget past hard think ...               0"
      ]
     },
     "execution_count": 57,
     "metadata": {},
     "output_type": "execute_result"
    }
   ],
   "source": [
    "test_data.tail(5)"
   ]
  },
  {
   "cell_type": "markdown",
   "id": "0252c7f9",
   "metadata": {},
   "source": [
    "### training the train data"
   ]
  },
  {
   "cell_type": "code",
   "execution_count": 58,
   "id": "bffe88e3",
   "metadata": {},
   "outputs": [],
   "source": [
    "vectorizer = TfidfVectorizer()\n",
    "train_vectors = vectorizer.fit_transform(train_data['tweet'])\n",
    "test_vectors = vectorizer.transform(test_data['tweet'])"
   ]
  },
  {
   "cell_type": "markdown",
   "id": "bbb7d897",
   "metadata": {},
   "source": [
    "### resampling to handle imbalance data "
   ]
  },
  {
   "cell_type": "code",
   "execution_count": 59,
   "id": "75311bfd",
   "metadata": {},
   "outputs": [],
   "source": [
    "# check version number\n",
    "import imblearn\n",
    "# print(imblearn.__version__)\n",
    "from imblearn.over_sampling import SMOTE\n",
    "oversample = SMOTE(k_neighbors=5)\n",
    "# transform the dataset\n",
    "train_vectors, y_train = oversample.fit_resample(train_vectors, y_train)"
   ]
  },
  {
   "cell_type": "code",
   "execution_count": 64,
   "id": "5023d5b0",
   "metadata": {},
   "outputs": [
    {
     "data": {
      "text/plain": [
       "LogisticRegression()"
      ]
     },
     "execution_count": 64,
     "metadata": {},
     "output_type": "execute_result"
    }
   ],
   "source": [
    "model=LogisticRegression()\n",
    "model.fit(train_vectors,y_train)"
   ]
  },
  {
   "cell_type": "markdown",
   "id": "5ecd9d4b",
   "metadata": {},
   "source": [
    "### Prediction"
   ]
  },
  {
   "cell_type": "code",
   "execution_count": 61,
   "id": "f72414f7",
   "metadata": {},
   "outputs": [
    {
     "data": {
      "text/plain": [
       "array([0, 0, 0, ..., 0, 0, 0], dtype=int64)"
      ]
     },
     "execution_count": 61,
     "metadata": {},
     "output_type": "execute_result"
    }
   ],
   "source": [
    "pred = model.predict(test_vectors)\n",
    "pred"
   ]
  },
  {
   "cell_type": "code",
   "execution_count": 62,
   "id": "40616cd5",
   "metadata": {},
   "outputs": [
    {
     "name": "stdout",
     "output_type": "stream",
     "text": [
      "Offensive 0.8171296296296297\n",
      "Non-Offensive 0.9275289380976346\n"
     ]
    },
    {
     "data": {
      "text/html": [
       "<div>\n",
       "<style scoped>\n",
       "    .dataframe tbody tr th:only-of-type {\n",
       "        vertical-align: middle;\n",
       "    }\n",
       "\n",
       "    .dataframe tbody tr th {\n",
       "        vertical-align: top;\n",
       "    }\n",
       "\n",
       "    .dataframe thead th {\n",
       "        text-align: right;\n",
       "    }\n",
       "</style>\n",
       "<table border=\"1\" class=\"dataframe\">\n",
       "  <thead>\n",
       "    <tr style=\"text-align: right;\">\n",
       "      <th></th>\n",
       "      <th>0</th>\n",
       "      <th>1</th>\n",
       "      <th>accuracy</th>\n",
       "      <th>macro avg</th>\n",
       "      <th>weighted avg</th>\n",
       "    </tr>\n",
       "  </thead>\n",
       "  <tbody>\n",
       "    <tr>\n",
       "      <th>precision</th>\n",
       "      <td>0.985913</td>\n",
       "      <td>0.449682</td>\n",
       "      <td>0.920069</td>\n",
       "      <td>0.717797</td>\n",
       "      <td>0.949678</td>\n",
       "    </tr>\n",
       "    <tr>\n",
       "      <th>recall</th>\n",
       "      <td>0.927529</td>\n",
       "      <td>0.817130</td>\n",
       "      <td>0.920069</td>\n",
       "      <td>0.872329</td>\n",
       "      <td>0.920069</td>\n",
       "    </tr>\n",
       "    <tr>\n",
       "      <th>f1-score</th>\n",
       "      <td>0.955830</td>\n",
       "      <td>0.580115</td>\n",
       "      <td>0.920069</td>\n",
       "      <td>0.767973</td>\n",
       "      <td>0.930442</td>\n",
       "    </tr>\n",
       "    <tr>\n",
       "      <th>support</th>\n",
       "      <td>5961.000000</td>\n",
       "      <td>432.000000</td>\n",
       "      <td>0.920069</td>\n",
       "      <td>6393.000000</td>\n",
       "      <td>6393.000000</td>\n",
       "    </tr>\n",
       "  </tbody>\n",
       "</table>\n",
       "</div>"
      ],
      "text/plain": [
       "                     0           1  accuracy    macro avg  weighted avg\n",
       "precision     0.985913    0.449682  0.920069     0.717797      0.949678\n",
       "recall        0.927529    0.817130  0.920069     0.872329      0.920069\n",
       "f1-score      0.955830    0.580115  0.920069     0.767973      0.930442\n",
       "support    5961.000000  432.000000  0.920069  6393.000000   6393.000000"
      ]
     },
     "execution_count": 62,
     "metadata": {},
     "output_type": "execute_result"
    }
   ],
   "source": [
    "report = classification_report(test_data['tweet_category'] , pred , output_dict=True)\n",
    "print(f\"Offensive {report['1']['recall']}\")\n",
    "print(f\"Non-Offensive {report['0']['recall']}\")\n",
    "abc=pd.DataFrame(report)\n",
    "abc"
   ]
  },
  {
   "cell_type": "markdown",
   "id": "ac7f0a00",
   "metadata": {},
   "source": [
    "###### random test of predictions"
   ]
  },
  {
   "cell_type": "code",
   "execution_count": 63,
   "id": "6499966a",
   "metadata": {},
   "outputs": [
    {
     "name": "stdout",
     "output_type": "stream",
     "text": [
      "write the tweet: hey beautiful\n",
      "[0]\n"
     ]
    }
   ],
   "source": [
    "a  = input('write the tweet: ')\n",
    "vector = vectorizer.transform([a]).toarray()\n",
    "xyz = model.predict(vector)\n",
    "print(xyz)"
   ]
  },
  {
   "cell_type": "markdown",
   "id": "95981520",
   "metadata": {},
   "source": [
    "## Saving the model"
   ]
  },
  {
   "cell_type": "code",
   "execution_count": 67,
   "id": "6f600a4b",
   "metadata": {},
   "outputs": [
    {
     "data": {
      "text/plain": [
       "['twitter_Analysis_vector.pkl']"
      ]
     },
     "execution_count": 67,
     "metadata": {},
     "output_type": "execute_result"
    }
   ],
   "source": [
    "import joblib\n",
    "model_filename='twitter_Analysis_model.pkl'\n",
    "vector_filename='twitter_Analysis_vector.pkl'\n",
    "joblib.dump(model,model_filename)\n",
    "joblib.dump(vectorizer,vector_filename)"
   ]
  }
 ],
 "metadata": {
  "kernelspec": {
   "display_name": "Python 3",
   "language": "python",
   "name": "python3"
  },
  "language_info": {
   "codemirror_mode": {
    "name": "ipython",
    "version": 3
   },
   "file_extension": ".py",
   "mimetype": "text/x-python",
   "name": "python",
   "nbconvert_exporter": "python",
   "pygments_lexer": "ipython3",
   "version": "3.8.5"
  }
 },
 "nbformat": 4,
 "nbformat_minor": 5
}
