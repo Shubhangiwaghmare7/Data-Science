{
  "nbformat": 4,
  "nbformat_minor": 0,
  "metadata": {
    "colab": {
      "name": "churn_modlling_class_2.ipynb",
      "provenance": [],
      "include_colab_link": true
    },
    "kernelspec": {
      "name": "python3",
      "display_name": "Python 3"
    }
  },
  "cells": [
    {
      "cell_type": "markdown",
      "metadata": {
        "id": "view-in-github",
        "colab_type": "text"
      },
      "source": [
        "<a href=\"https://colab.research.google.com/github/Shubhangiwaghmare7/Data-Science/blob/main/churn_modlling_class_2.ipynb\" target=\"_parent\"><img src=\"https://colab.research.google.com/assets/colab-badge.svg\" alt=\"Open In Colab\"/></a>"
      ]
    },
    {
      "cell_type": "code",
      "metadata": {
        "id": "7UFHtPOhv8Qd"
      },
      "source": [
        "# importing all the libraires\n",
        "import numpy as np\n",
        "import pandas as pd\n",
        "import matplotlib.pyplot as plt\n",
        "from sklearn.model_selection import train_test_split\n",
        "from sklearn.preprocessing import StandardScaler\n",
        "\n",
        "#importing all the tensorlow lib\n",
        "import tensorflow\n",
        "from tensorflow.keras.models import Sequential\n",
        "from tensorflow.keras.layers import Dense, Dropout"
      ],
      "execution_count": null,
      "outputs": []
    },
    {
      "cell_type": "code",
      "metadata": {
        "id": "PMlc-23aSZC9"
      },
      "source": [
        "data = pd.read_csv('Churn_Modelling.csv')"
      ],
      "execution_count": null,
      "outputs": []
    },
    {
      "cell_type": "code",
      "metadata": {
        "colab": {
          "base_uri": "https://localhost:8080/",
          "height": 436
        },
        "id": "umG6N8R7S5bq",
        "outputId": "46938e87-1b68-463e-ceae-74e01bdede9d"
      },
      "source": [
        "data"
      ],
      "execution_count": null,
      "outputs": [
        {
          "output_type": "execute_result",
          "data": {
            "text/html": [
              "<div>\n",
              "<style scoped>\n",
              "    .dataframe tbody tr th:only-of-type {\n",
              "        vertical-align: middle;\n",
              "    }\n",
              "\n",
              "    .dataframe tbody tr th {\n",
              "        vertical-align: top;\n",
              "    }\n",
              "\n",
              "    .dataframe thead th {\n",
              "        text-align: right;\n",
              "    }\n",
              "</style>\n",
              "<table border=\"1\" class=\"dataframe\">\n",
              "  <thead>\n",
              "    <tr style=\"text-align: right;\">\n",
              "      <th></th>\n",
              "      <th>RowNumber</th>\n",
              "      <th>CustomerId</th>\n",
              "      <th>Surname</th>\n",
              "      <th>CreditScore</th>\n",
              "      <th>Geography</th>\n",
              "      <th>Gender</th>\n",
              "      <th>Age</th>\n",
              "      <th>Tenure</th>\n",
              "      <th>Balance</th>\n",
              "      <th>NumOfProducts</th>\n",
              "      <th>HasCrCard</th>\n",
              "      <th>IsActiveMember</th>\n",
              "      <th>EstimatedSalary</th>\n",
              "      <th>Exited</th>\n",
              "    </tr>\n",
              "  </thead>\n",
              "  <tbody>\n",
              "    <tr>\n",
              "      <th>0</th>\n",
              "      <td>1</td>\n",
              "      <td>15634602</td>\n",
              "      <td>Hargrave</td>\n",
              "      <td>619</td>\n",
              "      <td>France</td>\n",
              "      <td>Female</td>\n",
              "      <td>42</td>\n",
              "      <td>2</td>\n",
              "      <td>0.00</td>\n",
              "      <td>1</td>\n",
              "      <td>1</td>\n",
              "      <td>1</td>\n",
              "      <td>101348.88</td>\n",
              "      <td>1</td>\n",
              "    </tr>\n",
              "    <tr>\n",
              "      <th>1</th>\n",
              "      <td>2</td>\n",
              "      <td>15647311</td>\n",
              "      <td>Hill</td>\n",
              "      <td>608</td>\n",
              "      <td>Spain</td>\n",
              "      <td>Female</td>\n",
              "      <td>41</td>\n",
              "      <td>1</td>\n",
              "      <td>83807.86</td>\n",
              "      <td>1</td>\n",
              "      <td>0</td>\n",
              "      <td>1</td>\n",
              "      <td>112542.58</td>\n",
              "      <td>0</td>\n",
              "    </tr>\n",
              "    <tr>\n",
              "      <th>2</th>\n",
              "      <td>3</td>\n",
              "      <td>15619304</td>\n",
              "      <td>Onio</td>\n",
              "      <td>502</td>\n",
              "      <td>France</td>\n",
              "      <td>Female</td>\n",
              "      <td>42</td>\n",
              "      <td>8</td>\n",
              "      <td>159660.80</td>\n",
              "      <td>3</td>\n",
              "      <td>1</td>\n",
              "      <td>0</td>\n",
              "      <td>113931.57</td>\n",
              "      <td>1</td>\n",
              "    </tr>\n",
              "    <tr>\n",
              "      <th>3</th>\n",
              "      <td>4</td>\n",
              "      <td>15701354</td>\n",
              "      <td>Boni</td>\n",
              "      <td>699</td>\n",
              "      <td>France</td>\n",
              "      <td>Female</td>\n",
              "      <td>39</td>\n",
              "      <td>1</td>\n",
              "      <td>0.00</td>\n",
              "      <td>2</td>\n",
              "      <td>0</td>\n",
              "      <td>0</td>\n",
              "      <td>93826.63</td>\n",
              "      <td>0</td>\n",
              "    </tr>\n",
              "    <tr>\n",
              "      <th>4</th>\n",
              "      <td>5</td>\n",
              "      <td>15737888</td>\n",
              "      <td>Mitchell</td>\n",
              "      <td>850</td>\n",
              "      <td>Spain</td>\n",
              "      <td>Female</td>\n",
              "      <td>43</td>\n",
              "      <td>2</td>\n",
              "      <td>125510.82</td>\n",
              "      <td>1</td>\n",
              "      <td>1</td>\n",
              "      <td>1</td>\n",
              "      <td>79084.10</td>\n",
              "      <td>0</td>\n",
              "    </tr>\n",
              "    <tr>\n",
              "      <th>...</th>\n",
              "      <td>...</td>\n",
              "      <td>...</td>\n",
              "      <td>...</td>\n",
              "      <td>...</td>\n",
              "      <td>...</td>\n",
              "      <td>...</td>\n",
              "      <td>...</td>\n",
              "      <td>...</td>\n",
              "      <td>...</td>\n",
              "      <td>...</td>\n",
              "      <td>...</td>\n",
              "      <td>...</td>\n",
              "      <td>...</td>\n",
              "      <td>...</td>\n",
              "    </tr>\n",
              "    <tr>\n",
              "      <th>9995</th>\n",
              "      <td>9996</td>\n",
              "      <td>15606229</td>\n",
              "      <td>Obijiaku</td>\n",
              "      <td>771</td>\n",
              "      <td>France</td>\n",
              "      <td>Male</td>\n",
              "      <td>39</td>\n",
              "      <td>5</td>\n",
              "      <td>0.00</td>\n",
              "      <td>2</td>\n",
              "      <td>1</td>\n",
              "      <td>0</td>\n",
              "      <td>96270.64</td>\n",
              "      <td>0</td>\n",
              "    </tr>\n",
              "    <tr>\n",
              "      <th>9996</th>\n",
              "      <td>9997</td>\n",
              "      <td>15569892</td>\n",
              "      <td>Johnstone</td>\n",
              "      <td>516</td>\n",
              "      <td>France</td>\n",
              "      <td>Male</td>\n",
              "      <td>35</td>\n",
              "      <td>10</td>\n",
              "      <td>57369.61</td>\n",
              "      <td>1</td>\n",
              "      <td>1</td>\n",
              "      <td>1</td>\n",
              "      <td>101699.77</td>\n",
              "      <td>0</td>\n",
              "    </tr>\n",
              "    <tr>\n",
              "      <th>9997</th>\n",
              "      <td>9998</td>\n",
              "      <td>15584532</td>\n",
              "      <td>Liu</td>\n",
              "      <td>709</td>\n",
              "      <td>France</td>\n",
              "      <td>Female</td>\n",
              "      <td>36</td>\n",
              "      <td>7</td>\n",
              "      <td>0.00</td>\n",
              "      <td>1</td>\n",
              "      <td>0</td>\n",
              "      <td>1</td>\n",
              "      <td>42085.58</td>\n",
              "      <td>1</td>\n",
              "    </tr>\n",
              "    <tr>\n",
              "      <th>9998</th>\n",
              "      <td>9999</td>\n",
              "      <td>15682355</td>\n",
              "      <td>Sabbatini</td>\n",
              "      <td>772</td>\n",
              "      <td>Germany</td>\n",
              "      <td>Male</td>\n",
              "      <td>42</td>\n",
              "      <td>3</td>\n",
              "      <td>75075.31</td>\n",
              "      <td>2</td>\n",
              "      <td>1</td>\n",
              "      <td>0</td>\n",
              "      <td>92888.52</td>\n",
              "      <td>1</td>\n",
              "    </tr>\n",
              "    <tr>\n",
              "      <th>9999</th>\n",
              "      <td>10000</td>\n",
              "      <td>15628319</td>\n",
              "      <td>Walker</td>\n",
              "      <td>792</td>\n",
              "      <td>France</td>\n",
              "      <td>Female</td>\n",
              "      <td>28</td>\n",
              "      <td>4</td>\n",
              "      <td>130142.79</td>\n",
              "      <td>1</td>\n",
              "      <td>1</td>\n",
              "      <td>0</td>\n",
              "      <td>38190.78</td>\n",
              "      <td>0</td>\n",
              "    </tr>\n",
              "  </tbody>\n",
              "</table>\n",
              "<p>10000 rows × 14 columns</p>\n",
              "</div>"
            ],
            "text/plain": [
              "      RowNumber  CustomerId    Surname  ...  IsActiveMember EstimatedSalary Exited\n",
              "0             1    15634602   Hargrave  ...               1       101348.88      1\n",
              "1             2    15647311       Hill  ...               1       112542.58      0\n",
              "2             3    15619304       Onio  ...               0       113931.57      1\n",
              "3             4    15701354       Boni  ...               0        93826.63      0\n",
              "4             5    15737888   Mitchell  ...               1        79084.10      0\n",
              "...         ...         ...        ...  ...             ...             ...    ...\n",
              "9995       9996    15606229   Obijiaku  ...               0        96270.64      0\n",
              "9996       9997    15569892  Johnstone  ...               1       101699.77      0\n",
              "9997       9998    15584532        Liu  ...               1        42085.58      1\n",
              "9998       9999    15682355  Sabbatini  ...               0        92888.52      1\n",
              "9999      10000    15628319     Walker  ...               0        38190.78      0\n",
              "\n",
              "[10000 rows x 14 columns]"
            ]
          },
          "metadata": {
            "tags": []
          },
          "execution_count": 5
        }
      ]
    },
    {
      "cell_type": "code",
      "metadata": {
        "colab": {
          "base_uri": "https://localhost:8080/"
        },
        "id": "K6T-QtZvTCY7",
        "outputId": "9ef3883c-bdac-4a77-8ea2-7d5c5eae7fc6"
      },
      "source": [
        "data.info()"
      ],
      "execution_count": null,
      "outputs": [
        {
          "output_type": "stream",
          "text": [
            "<class 'pandas.core.frame.DataFrame'>\n",
            "RangeIndex: 10000 entries, 0 to 9999\n",
            "Data columns (total 14 columns):\n",
            " #   Column           Non-Null Count  Dtype  \n",
            "---  ------           --------------  -----  \n",
            " 0   RowNumber        10000 non-null  int64  \n",
            " 1   CustomerId       10000 non-null  int64  \n",
            " 2   Surname          10000 non-null  object \n",
            " 3   CreditScore      10000 non-null  int64  \n",
            " 4   Geography        10000 non-null  object \n",
            " 5   Gender           10000 non-null  object \n",
            " 6   Age              10000 non-null  int64  \n",
            " 7   Tenure           10000 non-null  int64  \n",
            " 8   Balance          10000 non-null  float64\n",
            " 9   NumOfProducts    10000 non-null  int64  \n",
            " 10  HasCrCard        10000 non-null  int64  \n",
            " 11  IsActiveMember   10000 non-null  int64  \n",
            " 12  EstimatedSalary  10000 non-null  float64\n",
            " 13  Exited           10000 non-null  int64  \n",
            "dtypes: float64(2), int64(9), object(3)\n",
            "memory usage: 1.1+ MB\n"
          ],
          "name": "stdout"
        }
      ]
    },
    {
      "cell_type": "code",
      "metadata": {
        "id": "pOSo7FMiTF3X"
      },
      "source": [
        "X = data.iloc[: , 3:13]\n",
        "y = data.iloc[:,13]"
      ],
      "execution_count": null,
      "outputs": []
    },
    {
      "cell_type": "code",
      "metadata": {
        "id": "AWQ7mtaHTUoL"
      },
      "source": [
        "geography = pd.get_dummies(X['Geography'])\n",
        "gender = pd.get_dummies(X['Gender'])\n"
      ],
      "execution_count": null,
      "outputs": []
    },
    {
      "cell_type": "code",
      "metadata": {
        "id": "5jxwnLC5UKTp"
      },
      "source": [
        "X = pd.concat([X , geography , gender] , axis = 1)"
      ],
      "execution_count": null,
      "outputs": []
    },
    {
      "cell_type": "code",
      "metadata": {
        "id": "BihffvLMUTKW"
      },
      "source": [
        "X.drop(columns = ['Geography' , 'Gender'] , axis = 1 , inplace=True)"
      ],
      "execution_count": null,
      "outputs": []
    },
    {
      "cell_type": "code",
      "metadata": {
        "id": "M2NRv2kzVRA-"
      },
      "source": [
        "X_train , X_test , y_train , y_test= train_test_split(X,y , random_state = 101 , test_size = 0.2 )"
      ],
      "execution_count": null,
      "outputs": []
    },
    {
      "cell_type": "code",
      "metadata": {
        "id": "RCs6m9vlUUFB"
      },
      "source": [
        "sc = StandardScaler()\n",
        "X_train = sc.fit_transform(X_train)\n",
        "X_test = sc.transform(X_test)"
      ],
      "execution_count": null,
      "outputs": []
    },
    {
      "cell_type": "code",
      "metadata": {
        "id": "xy_TlI_TU5Cu"
      },
      "source": [
        "# create a model\n",
        "model = Sequential([\n",
        "                  Dense(128 , activation='relu' , kernel_initializer= 'he_normal',),\n",
        "                  Dropout(0.5),\n",
        "\n",
        "                  Dense(64, activation='sigmoid' ),\n",
        "                  Dropout(0.5),\n",
        "\n",
        "                  Dense(32, activation='relu' , kernel_initializer= 'he_normal'),\n",
        "                  Dropout(0.3),\n",
        "\n",
        "                  Dense(16, activation='sigmoid' ),\n",
        "                  Dropout(0.2),\n",
        "\n",
        "                  Dense(8, activation='relu' , kernel_initializer= 'he_normal'),\n",
        "                  Dropout(0.1),\n",
        "\n",
        "                  Dense(1 , activation='sigmoid')\n",
        "])"
      ],
      "execution_count": null,
      "outputs": []
    },
    {
      "cell_type": "code",
      "metadata": {
        "id": "Z86639McVNxh"
      },
      "source": [
        "model.compile(optimizer='SGD' , loss = 'binary_crossentropy' , metrics=['accuracy'])"
      ],
      "execution_count": null,
      "outputs": []
    },
    {
      "cell_type": "code",
      "metadata": {
        "colab": {
          "base_uri": "https://localhost:8080/"
        },
        "id": "MiMhSa6zVutV",
        "outputId": "255ccb9e-0231-4611-d854-f0e9275d52c9"
      },
      "source": [
        "history = model.fit(X_train , y_train, batch_size=32 , epochs=50 , validation_split=0.2)"
      ],
      "execution_count": null,
      "outputs": [
        {
          "output_type": "stream",
          "text": [
            "Epoch 1/50\n",
            "200/200 [==============================] - 1s 3ms/step - loss: 0.6771 - accuracy: 0.5633 - val_loss: 0.5266 - val_accuracy: 0.8037\n",
            "Epoch 2/50\n",
            "200/200 [==============================] - 0s 2ms/step - loss: 0.5161 - accuracy: 0.8058 - val_loss: 0.5054 - val_accuracy: 0.8037\n",
            "Epoch 3/50\n",
            "200/200 [==============================] - 0s 2ms/step - loss: 0.5175 - accuracy: 0.7974 - val_loss: 0.4996 - val_accuracy: 0.8037\n",
            "Epoch 4/50\n",
            "200/200 [==============================] - 0s 2ms/step - loss: 0.5047 - accuracy: 0.8022 - val_loss: 0.5016 - val_accuracy: 0.8037\n",
            "Epoch 5/50\n",
            "200/200 [==============================] - 0s 2ms/step - loss: 0.5172 - accuracy: 0.7958 - val_loss: 0.5000 - val_accuracy: 0.8037\n",
            "Epoch 6/50\n",
            "200/200 [==============================] - 0s 2ms/step - loss: 0.5213 - accuracy: 0.7911 - val_loss: 0.4974 - val_accuracy: 0.8037\n",
            "Epoch 7/50\n",
            "200/200 [==============================] - 0s 2ms/step - loss: 0.5113 - accuracy: 0.7973 - val_loss: 0.4974 - val_accuracy: 0.8037\n",
            "Epoch 8/50\n",
            "200/200 [==============================] - 0s 2ms/step - loss: 0.5045 - accuracy: 0.8022 - val_loss: 0.4977 - val_accuracy: 0.8037\n",
            "Epoch 9/50\n",
            "200/200 [==============================] - 0s 2ms/step - loss: 0.5048 - accuracy: 0.8031 - val_loss: 0.4964 - val_accuracy: 0.8037\n",
            "Epoch 10/50\n",
            "200/200 [==============================] - 0s 2ms/step - loss: 0.5165 - accuracy: 0.7923 - val_loss: 0.4967 - val_accuracy: 0.8037\n",
            "Epoch 11/50\n",
            "200/200 [==============================] - 0s 2ms/step - loss: 0.5015 - accuracy: 0.8032 - val_loss: 0.4962 - val_accuracy: 0.8037\n",
            "Epoch 12/50\n",
            "200/200 [==============================] - 0s 2ms/step - loss: 0.5116 - accuracy: 0.7962 - val_loss: 0.4957 - val_accuracy: 0.8037\n",
            "Epoch 13/50\n",
            "200/200 [==============================] - 0s 2ms/step - loss: 0.5025 - accuracy: 0.8020 - val_loss: 0.4955 - val_accuracy: 0.8037\n",
            "Epoch 14/50\n",
            "200/200 [==============================] - 0s 2ms/step - loss: 0.5166 - accuracy: 0.7913 - val_loss: 0.4943 - val_accuracy: 0.8037\n",
            "Epoch 15/50\n",
            "200/200 [==============================] - 0s 2ms/step - loss: 0.5066 - accuracy: 0.7976 - val_loss: 0.4949 - val_accuracy: 0.8037\n",
            "Epoch 16/50\n",
            "200/200 [==============================] - 0s 2ms/step - loss: 0.5108 - accuracy: 0.7955 - val_loss: 0.4948 - val_accuracy: 0.8037\n",
            "Epoch 17/50\n",
            "200/200 [==============================] - 0s 2ms/step - loss: 0.5123 - accuracy: 0.7934 - val_loss: 0.4939 - val_accuracy: 0.8037\n",
            "Epoch 18/50\n",
            "200/200 [==============================] - 0s 2ms/step - loss: 0.5075 - accuracy: 0.7977 - val_loss: 0.4937 - val_accuracy: 0.8037\n",
            "Epoch 19/50\n",
            "200/200 [==============================] - 0s 2ms/step - loss: 0.5061 - accuracy: 0.7980 - val_loss: 0.4938 - val_accuracy: 0.8037\n",
            "Epoch 20/50\n",
            "200/200 [==============================] - 0s 2ms/step - loss: 0.5013 - accuracy: 0.7999 - val_loss: 0.4936 - val_accuracy: 0.8037\n",
            "Epoch 21/50\n",
            "200/200 [==============================] - 0s 2ms/step - loss: 0.5110 - accuracy: 0.7946 - val_loss: 0.4936 - val_accuracy: 0.8037\n",
            "Epoch 22/50\n",
            "200/200 [==============================] - 0s 2ms/step - loss: 0.5070 - accuracy: 0.7939 - val_loss: 0.4929 - val_accuracy: 0.8037\n",
            "Epoch 23/50\n",
            "200/200 [==============================] - 0s 2ms/step - loss: 0.4942 - accuracy: 0.8068 - val_loss: 0.4929 - val_accuracy: 0.8037\n",
            "Epoch 24/50\n",
            "200/200 [==============================] - 0s 2ms/step - loss: 0.5151 - accuracy: 0.7894 - val_loss: 0.4926 - val_accuracy: 0.8037\n",
            "Epoch 25/50\n",
            "200/200 [==============================] - 0s 2ms/step - loss: 0.5051 - accuracy: 0.7983 - val_loss: 0.4925 - val_accuracy: 0.8037\n",
            "Epoch 26/50\n",
            "200/200 [==============================] - 0s 2ms/step - loss: 0.5072 - accuracy: 0.7953 - val_loss: 0.4925 - val_accuracy: 0.8037\n",
            "Epoch 27/50\n",
            "200/200 [==============================] - 0s 2ms/step - loss: 0.5088 - accuracy: 0.7959 - val_loss: 0.4924 - val_accuracy: 0.8037\n",
            "Epoch 28/50\n",
            "200/200 [==============================] - 0s 2ms/step - loss: 0.4921 - accuracy: 0.8055 - val_loss: 0.4922 - val_accuracy: 0.8037\n",
            "Epoch 29/50\n",
            "200/200 [==============================] - 0s 2ms/step - loss: 0.5102 - accuracy: 0.7917 - val_loss: 0.4921 - val_accuracy: 0.8037\n",
            "Epoch 30/50\n",
            "200/200 [==============================] - 0s 2ms/step - loss: 0.5129 - accuracy: 0.7906 - val_loss: 0.4912 - val_accuracy: 0.8037\n",
            "Epoch 31/50\n",
            "200/200 [==============================] - 0s 2ms/step - loss: 0.5094 - accuracy: 0.7929 - val_loss: 0.4909 - val_accuracy: 0.8037\n",
            "Epoch 32/50\n",
            "200/200 [==============================] - 0s 2ms/step - loss: 0.5120 - accuracy: 0.7909 - val_loss: 0.4911 - val_accuracy: 0.8037\n",
            "Epoch 33/50\n",
            "200/200 [==============================] - 0s 2ms/step - loss: 0.4970 - accuracy: 0.8012 - val_loss: 0.4911 - val_accuracy: 0.8037\n",
            "Epoch 34/50\n",
            "200/200 [==============================] - 0s 2ms/step - loss: 0.5014 - accuracy: 0.7996 - val_loss: 0.4915 - val_accuracy: 0.8037\n",
            "Epoch 35/50\n",
            "200/200 [==============================] - 0s 2ms/step - loss: 0.5115 - accuracy: 0.7941 - val_loss: 0.4914 - val_accuracy: 0.8037\n",
            "Epoch 36/50\n",
            "200/200 [==============================] - 0s 2ms/step - loss: 0.5040 - accuracy: 0.7976 - val_loss: 0.4908 - val_accuracy: 0.8037\n",
            "Epoch 37/50\n",
            "200/200 [==============================] - 0s 2ms/step - loss: 0.5021 - accuracy: 0.7982 - val_loss: 0.4898 - val_accuracy: 0.8037\n",
            "Epoch 38/50\n",
            "200/200 [==============================] - 0s 2ms/step - loss: 0.5080 - accuracy: 0.7939 - val_loss: 0.4901 - val_accuracy: 0.8037\n",
            "Epoch 39/50\n",
            "200/200 [==============================] - 0s 2ms/step - loss: 0.5018 - accuracy: 0.7995 - val_loss: 0.4897 - val_accuracy: 0.8037\n",
            "Epoch 40/50\n",
            "200/200 [==============================] - 0s 2ms/step - loss: 0.4980 - accuracy: 0.8014 - val_loss: 0.4897 - val_accuracy: 0.8037\n",
            "Epoch 41/50\n",
            "200/200 [==============================] - 0s 2ms/step - loss: 0.4998 - accuracy: 0.7989 - val_loss: 0.4895 - val_accuracy: 0.8037\n",
            "Epoch 42/50\n",
            "200/200 [==============================] - 0s 2ms/step - loss: 0.5121 - accuracy: 0.7903 - val_loss: 0.4890 - val_accuracy: 0.8037\n",
            "Epoch 43/50\n",
            "200/200 [==============================] - 0s 2ms/step - loss: 0.4995 - accuracy: 0.8021 - val_loss: 0.4893 - val_accuracy: 0.8037\n",
            "Epoch 44/50\n",
            "200/200 [==============================] - 0s 2ms/step - loss: 0.5110 - accuracy: 0.7917 - val_loss: 0.4884 - val_accuracy: 0.8037\n",
            "Epoch 45/50\n",
            "200/200 [==============================] - 0s 2ms/step - loss: 0.4992 - accuracy: 0.8001 - val_loss: 0.4878 - val_accuracy: 0.8037\n",
            "Epoch 46/50\n",
            "200/200 [==============================] - 0s 2ms/step - loss: 0.5013 - accuracy: 0.7972 - val_loss: 0.4872 - val_accuracy: 0.8037\n",
            "Epoch 47/50\n",
            "200/200 [==============================] - 0s 2ms/step - loss: 0.5116 - accuracy: 0.7910 - val_loss: 0.4873 - val_accuracy: 0.8037\n",
            "Epoch 48/50\n",
            "200/200 [==============================] - 0s 2ms/step - loss: 0.5000 - accuracy: 0.7981 - val_loss: 0.4873 - val_accuracy: 0.8037\n",
            "Epoch 49/50\n",
            "200/200 [==============================] - 0s 2ms/step - loss: 0.4978 - accuracy: 0.8003 - val_loss: 0.4869 - val_accuracy: 0.8037\n",
            "Epoch 50/50\n",
            "200/200 [==============================] - 0s 2ms/step - loss: 0.5046 - accuracy: 0.7957 - val_loss: 0.4869 - val_accuracy: 0.8037\n"
          ],
          "name": "stdout"
        }
      ]
    },
    {
      "cell_type": "code",
      "metadata": {
        "colab": {
          "base_uri": "https://localhost:8080/",
          "height": 609
        },
        "id": "dWOmKnKVWCon",
        "outputId": "7cab1dd2-4581-4a55-c6aa-a82bc03ac4ce"
      },
      "source": [
        "\n",
        "plt.figure(figsize=(15,10))\n",
        "plt.plot(history.history['accuracy'] , label=['Training '])\n",
        "plt.plot(history.history['val_accuracy'] , label=['validation'])\n",
        "plt.legend()"
      ],
      "execution_count": null,
      "outputs": [
        {
          "output_type": "execute_result",
          "data": {
            "text/plain": [
              "<matplotlib.legend.Legend at 0x7fed7b328f50>"
            ]
          },
          "metadata": {
            "tags": []
          },
          "execution_count": 68
        },
        {
          "output_type": "display_data",
          "data": {
            "image/png": "[encoded data removed]",
            "text/plain": [
              "<Figure size 1080x720 with 1 Axes>"
            ]
          },
          "metadata": {
            "tags": [],
            "needs_background": "light"
          }
        }
      ]
    },
    {
      "cell_type": "code",
      "metadata": {
        "colab": {
          "base_uri": "https://localhost:8080/"
        },
        "id": "Fr90B4xDXJaR",
        "outputId": "810fa3a6-6cf5-4b81-815f-352d7a92cca4"
      },
      "source": [
        "y_pred = model.predict(X_test)\n",
        "y_pred"
      ],
      "execution_count": null,
      "outputs": [
        {
          "output_type": "execute_result",
          "data": {
            "text/plain": [
              "array([[0.20759818],\n",
              "       [0.19379869],\n",
              "       [0.21364966],\n",
              "       ...,\n",
              "       [0.21116695],\n",
              "       [0.19986126],\n",
              "       [0.22744304]], dtype=float32)"
            ]
          },
          "metadata": {
            "tags": []
          },
          "execution_count": 69
        }
      ]
    },
    {
      "cell_type": "code",
      "metadata": {
        "id": "2kAiDGvgZb7x"
      },
      "source": [
        "y_pred = (y_pred > 0.5)"
      ],
      "execution_count": null,
      "outputs": []
    },
    {
      "cell_type": "code",
      "metadata": {
        "colab": {
          "base_uri": "https://localhost:8080/"
        },
        "id": "mSwBEbZBaQq2",
        "outputId": "917d922e-b6b6-425a-bdda-1529cff4f07a"
      },
      "source": [
        "from sklearn.metrics import accuracy_score\n",
        "accuracy_score(y_pred , y_test)"
      ],
      "execution_count": null,
      "outputs": [
        {
          "output_type": "execute_result",
          "data": {
            "text/plain": [
              "0.7885"
            ]
          },
          "metadata": {
            "tags": []
          },
          "execution_count": 71
        }
      ]
    }
  ]
}