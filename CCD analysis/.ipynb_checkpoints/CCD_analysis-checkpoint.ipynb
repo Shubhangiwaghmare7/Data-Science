{
 "cells": [
  {
   "cell_type": "code",
   "execution_count": 3,
   "id": "7cd1a92f",
   "metadata": {},
   "outputs": [],
   "source": [
    "coffe_items=['Toffee Latte','Vanilla Cappuccino','Toffee Cappuccino','Coconut Milk Latte','Cafe Latte','Cappuccino','Espresso','Classic Filter Coffee','Macchiato','Cafe Americano','Cafe Mocha','Inverted Cappuccino','Aztec Coffee','Ethiopian Coffee']"
   ]
  },
  {
   "cell_type": "code",
   "execution_count": 4,
   "id": "1b9d91fb",
   "metadata": {},
   "outputs": [
    {
     "data": {
      "text/plain": [
       "['Toffee Latte',\n",
       " 'Vanilla Cappuccino',\n",
       " 'Toffee Cappuccino',\n",
       " 'Coconut Milk Latte',\n",
       " 'Cafe Latte',\n",
       " 'Cappuccino',\n",
       " 'Espresso',\n",
       " 'Classic Filter Coffee',\n",
       " 'Macchiato',\n",
       " 'Cafe Americano',\n",
       " 'Cafe Mocha',\n",
       " 'Inverted Cappuccino',\n",
       " 'Aztec Coffee',\n",
       " 'Ethiopian Coffee']"
      ]
     },
     "execution_count": 4,
     "metadata": {},
     "output_type": "execute_result"
    }
   ],
   "source": [
    "coffe_items"
   ]
  },
  {
   "cell_type": "code",
   "execution_count": 5,
   "id": "0a1f4dd1",
   "metadata": {},
   "outputs": [],
   "source": [
    "order=[]\n",
    "def input_string(quant,name,quant1 ,name1):\n",
    "    x= \" i want {} {}.and {} {} from CCD\".format(quant,name,quant1 ,name1)\n",
    "    order.append(x)\n",
    "    return order"
   ]
  },
  {
   "cell_type": "code",
   "execution_count": 6,
   "id": "4a309267",
   "metadata": {},
   "outputs": [
    {
     "data": {
      "text/plain": [
       "[' i want 1 Cafe Americano.and 1 Vanilla Cappuccino from CCD']"
      ]
     },
     "execution_count": 6,
     "metadata": {},
     "output_type": "execute_result"
    }
   ],
   "source": [
    "input_string(1,'Cafe Americano',1,'Vanilla Cappuccino')"
   ]
  },
  {
   "cell_type": "code",
   "execution_count": 21,
   "id": "1e085eea",
   "metadata": {},
   "outputs": [],
   "source": [
    "from textblob import TextBlob"
   ]
  },
  {
   "cell_type": "code",
   "execution_count": 10,
   "id": "46e96aac",
   "metadata": {},
   "outputs": [
    {
     "data": {
      "text/html": [
       "<div>\n",
       "<style scoped>\n",
       "    .dataframe tbody tr th:only-of-type {\n",
       "        vertical-align: middle;\n",
       "    }\n",
       "\n",
       "    .dataframe tbody tr th {\n",
       "        vertical-align: top;\n",
       "    }\n",
       "\n",
       "    .dataframe thead th {\n",
       "        text-align: right;\n",
       "    }\n",
       "</style>\n",
       "<table border=\"1\" class=\"dataframe\">\n",
       "  <thead>\n",
       "    <tr style=\"text-align: right;\">\n",
       "      <th></th>\n",
       "      <th>text</th>\n",
       "    </tr>\n",
       "  </thead>\n",
       "  <tbody>\n",
       "    <tr>\n",
       "      <th>0</th>\n",
       "      <td>i want 1 Cafe Americano.and 1 Vanilla Cappucc...</td>\n",
       "    </tr>\n",
       "  </tbody>\n",
       "</table>\n",
       "</div>"
      ],
      "text/plain": [
       "                                                text\n",
       "0   i want 1 Cafe Americano.and 1 Vanilla Cappucc..."
      ]
     },
     "execution_count": 10,
     "metadata": {},
     "output_type": "execute_result"
    }
   ],
   "source": [
    "import pandas as pd\n",
    "df = pd.DataFrame(order,index=None,columns=['text'])\n",
    "df"
   ]
  },
  {
   "cell_type": "code",
   "execution_count": 17,
   "id": "e1b669ba",
   "metadata": {},
   "outputs": [],
   "source": [
    "data=pd.read_excel('ccd_combine.xlsx')"
   ]
  },
  {
   "cell_type": "code",
   "execution_count": 18,
   "id": "6035b99d",
   "metadata": {},
   "outputs": [
    {
     "data": {
      "text/html": [
       "<div>\n",
       "<style scoped>\n",
       "    .dataframe tbody tr th:only-of-type {\n",
       "        vertical-align: middle;\n",
       "    }\n",
       "\n",
       "    .dataframe tbody tr th {\n",
       "        vertical-align: top;\n",
       "    }\n",
       "\n",
       "    .dataframe thead th {\n",
       "        text-align: right;\n",
       "    }\n",
       "</style>\n",
       "<table border=\"1\" class=\"dataframe\">\n",
       "  <thead>\n",
       "    <tr style=\"text-align: right;\">\n",
       "      <th></th>\n",
       "      <th>Order_Strings</th>\n",
       "    </tr>\n",
       "  </thead>\n",
       "  <tbody>\n",
       "    <tr>\n",
       "      <th>0</th>\n",
       "      <td>i want 1 Americano  and 2 Cappuccino from CCD</td>\n",
       "    </tr>\n",
       "    <tr>\n",
       "      <th>1</th>\n",
       "      <td>i want 2 'Toffee Latte', and 3  'Espresso', fr...</td>\n",
       "    </tr>\n",
       "    <tr>\n",
       "      <th>2</th>\n",
       "      <td>i want 3  'Vanilla Cappuccino', and 1  'Classi...</td>\n",
       "    </tr>\n",
       "    <tr>\n",
       "      <th>3</th>\n",
       "      <td>i want 4  'Toffee Cappuccino', and 3  'Macchia...</td>\n",
       "    </tr>\n",
       "    <tr>\n",
       "      <th>4</th>\n",
       "      <td>i want 5  'Coconut Milk Latte', and 5  'Cafe A...</td>\n",
       "    </tr>\n",
       "  </tbody>\n",
       "</table>\n",
       "</div>"
      ],
      "text/plain": [
       "                                       Order_Strings\n",
       "0      i want 1 Americano  and 2 Cappuccino from CCD\n",
       "1  i want 2 'Toffee Latte', and 3  'Espresso', fr...\n",
       "2  i want 3  'Vanilla Cappuccino', and 1  'Classi...\n",
       "3  i want 4  'Toffee Cappuccino', and 3  'Macchia...\n",
       "4  i want 5  'Coconut Milk Latte', and 5  'Cafe A..."
      ]
     },
     "execution_count": 18,
     "metadata": {},
     "output_type": "execute_result"
    }
   ],
   "source": [
    "data.head()"
   ]
  },
  {
   "cell_type": "code",
   "execution_count": 23,
   "id": "8ad08fd9",
   "metadata": {},
   "outputs": [],
   "source": [
    "text=data['Order_Strings'][0]"
   ]
  },
  {
   "cell_type": "code",
   "execution_count": null,
   "id": "d0c696aa",
   "metadata": {},
   "outputs": [],
   "source": []
  },
  {
   "cell_type": "code",
   "execution_count": null,
   "id": "ebea6ee0",
   "metadata": {},
   "outputs": [],
   "source": []
  },
  {
   "cell_type": "code",
   "execution_count": null,
   "id": "9d7cb55a",
   "metadata": {},
   "outputs": [],
   "source": []
  },
  {
   "cell_type": "code",
   "execution_count": null,
   "id": "b057d2a8",
   "metadata": {},
   "outputs": [],
   "source": []
  },
  {
   "cell_type": "code",
   "execution_count": null,
   "id": "4907b043",
   "metadata": {},
   "outputs": [],
   "source": []
  },
  {
   "cell_type": "code",
   "execution_count": null,
   "id": "b12f851f",
   "metadata": {},
   "outputs": [],
   "source": []
  },
  {
   "cell_type": "code",
   "execution_count": null,
   "id": "ab25e981",
   "metadata": {},
   "outputs": [],
   "source": []
  }
 ],
 "metadata": {
  "kernelspec": {
   "display_name": "Python 3",
   "language": "python",
   "name": "python3"
  },
  "language_info": {
   "codemirror_mode": {
    "name": "ipython",
    "version": 3
   },
   "file_extension": ".py",
   "mimetype": "text/x-python",
   "name": "python",
   "nbconvert_exporter": "python",
   "pygments_lexer": "ipython3",
   "version": "3.8.5"
  }
 },
 "nbformat": 4,
 "nbformat_minor": 5
}
