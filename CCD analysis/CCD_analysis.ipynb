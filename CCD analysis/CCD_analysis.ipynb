{
 "cells": [
  {
   "cell_type": "code",
   "execution_count": 3,
   "id": "7cd1a92f",
   "metadata": {},
   "outputs": [],
   "source": [
    "coffe_items=['Toffee Latte','Vanilla Cappuccino','Toffee Cappuccino','Coconut Milk Latte','Cafe Latte','Cappuccino','Espresso','Classic Filter Coffee','Macchiato','Cafe Americano','Cafe Mocha','Inverted Cappuccino','Aztec Coffee','Ethiopian Coffee']"
   ]
  },
  {
   "cell_type": "code",
   "execution_count": 4,
   "id": "1b9d91fb",
   "metadata": {},
   "outputs": [
    {
     "data": {
      "text/plain": [
       "['Toffee Latte',\n",
       " 'Vanilla Cappuccino',\n",
       " 'Toffee Cappuccino',\n",
       " 'Coconut Milk Latte',\n",
       " 'Cafe Latte',\n",
       " 'Cappuccino',\n",
       " 'Espresso',\n",
       " 'Classic Filter Coffee',\n",
       " 'Macchiato',\n",
       " 'Cafe Americano',\n",
       " 'Cafe Mocha',\n",
       " 'Inverted Cappuccino',\n",
       " 'Aztec Coffee',\n",
       " 'Ethiopian Coffee']"
      ]
     },
     "execution_count": 4,
     "metadata": {},
     "output_type": "execute_result"
    }
   ],
   "source": [
    "coffe_items"
   ]
  },
  {
   "cell_type": "code",
   "execution_count": 5,
   "id": "0a1f4dd1",
   "metadata": {},
   "outputs": [],
   "source": [
    "order=[]\n",
    "def input_string(quant,name,quant1 ,name1):\n",
    "    x= \" i want {} {}.and {} {} from CCD\".format(quant,name,quant1 ,name1)\n",
    "    order.append(x)\n",
    "    return order"
   ]
  },
  {
   "cell_type": "code",
   "execution_count": 6,
   "id": "4a309267",
   "metadata": {},
   "outputs": [
    {
     "data": {
      "text/plain": [
       "[' i want 1 Cafe Americano.and 1 Vanilla Cappuccino from CCD']"
      ]
     },
     "execution_count": 6,
     "metadata": {},
     "output_type": "execute_result"
    }
   ],
   "source": [
    "input_string(1,'Cafe Americano',1,'Vanilla Cappuccino')"
   ]
  },
  {
   "cell_type": "code",
   "execution_count": 21,
   "id": "1e085eea",
   "metadata": {},
   "outputs": [],
   "source": [
    "from textblob import TextBlob"
   ]
  },
  {
   "cell_type": "code",
   "execution_count": 10,
   "id": "46e96aac",
   "metadata": {},
   "outputs": [
    {
     "data": {
      "text/html": [
       "<div>\n",
       "<style scoped>\n",
       "    .dataframe tbody tr th:only-of-type {\n",
       "        vertical-align: middle;\n",
       "    }\n",
       "\n",
       "    .dataframe tbody tr th {\n",
       "        vertical-align: top;\n",
       "    }\n",
       "\n",
       "    .dataframe thead th {\n",
       "        text-align: right;\n",
       "    }\n",
       "</style>\n",
       "<table border=\"1\" class=\"dataframe\">\n",
       "  <thead>\n",
       "    <tr style=\"text-align: right;\">\n",
       "      <th></th>\n",
       "      <th>text</th>\n",
       "    </tr>\n",
       "  </thead>\n",
       "  <tbody>\n",
       "    <tr>\n",
       "      <th>0</th>\n",
       "      <td>i want 1 Cafe Americano.and 1 Vanilla Cappucc...</td>\n",
       "    </tr>\n",
       "  </tbody>\n",
       "</table>\n",
       "</div>"
      ],
      "text/plain": [
       "                                                text\n",
       "0   i want 1 Cafe Americano.and 1 Vanilla Cappucc..."
      ]
     },
     "execution_count": 10,
     "metadata": {},
     "output_type": "execute_result"
    }
   ],
   "source": [
    "import pandas as pd\n",
    "df = pd.DataFrame(order,index=None,columns=['text'])\n",
    "df"
   ]
  },
  {
   "cell_type": "code",
   "execution_count": 17,
   "id": "e1b669ba",
   "metadata": {},
   "outputs": [],
   "source": [
    "data=pd.read_excel('ccd_combine.xlsx')"
   ]
  },
  {
   "cell_type": "code",
   "execution_count": 18,
   "id": "6035b99d",
   "metadata": {},
   "outputs": [
    {
     "data": {
      "text/html": [
       "<div>\n",
       "<style scoped>\n",
       "    .dataframe tbody tr th:only-of-type {\n",
       "        vertical-align: middle;\n",
       "    }\n",
       "\n",
       "    .dataframe tbody tr th {\n",
       "        vertical-align: top;\n",
       "    }\n",
       "\n",
       "    .dataframe thead th {\n",
       "        text-align: right;\n",
       "    }\n",
       "</style>\n",
       "<table border=\"1\" class=\"dataframe\">\n",
       "  <thead>\n",
       "    <tr style=\"text-align: right;\">\n",
       "      <th></th>\n",
       "      <th>Order_Strings</th>\n",
       "    </tr>\n",
       "  </thead>\n",
       "  <tbody>\n",
       "    <tr>\n",
       "      <th>0</th>\n",
       "      <td>i want 1 Americano  and 2 Cappuccino from CCD</td>\n",
       "    </tr>\n",
       "    <tr>\n",
       "      <th>1</th>\n",
       "      <td>i want 2 'Toffee Latte', and 3  'Espresso', fr...</td>\n",
       "    </tr>\n",
       "    <tr>\n",
       "      <th>2</th>\n",
       "      <td>i want 3  'Vanilla Cappuccino', and 1  'Classi...</td>\n",
       "    </tr>\n",
       "    <tr>\n",
       "      <th>3</th>\n",
       "      <td>i want 4  'Toffee Cappuccino', and 3  'Macchia...</td>\n",
       "    </tr>\n",
       "    <tr>\n",
       "      <th>4</th>\n",
       "      <td>i want 5  'Coconut Milk Latte', and 5  'Cafe A...</td>\n",
       "    </tr>\n",
       "  </tbody>\n",
       "</table>\n",
       "</div>"
      ],
      "text/plain": [
       "                                       Order_Strings\n",
       "0      i want 1 Americano  and 2 Cappuccino from CCD\n",
       "1  i want 2 'Toffee Latte', and 3  'Espresso', fr...\n",
       "2  i want 3  'Vanilla Cappuccino', and 1  'Classi...\n",
       "3  i want 4  'Toffee Cappuccino', and 3  'Macchia...\n",
       "4  i want 5  'Coconut Milk Latte', and 5  'Cafe A..."
      ]
     },
     "execution_count": 18,
     "metadata": {},
     "output_type": "execute_result"
    }
   ],
   "source": [
    "data.head()"
   ]
  },
  {
   "cell_type": "code",
   "execution_count": 24,
   "id": "8ad08fd9",
   "metadata": {},
   "outputs": [],
   "source": [
    "text=data['Order_Strings'][0]"
   ]
  },
  {
   "cell_type": "code",
   "execution_count": 32,
   "id": "d0c696aa",
   "metadata": {},
   "outputs": [],
   "source": [
    "train = [ ('i want 1 Americano  and 2 Cappuccino from CCD','Americano,Cappuccino'),\n",
    "('i want 2 Cappuccino and 3 Americano  from CCD', \"Cappuccino,Americano\"),\n",
    "('i want 3 FilterCoffee and 1 Cappuccino from CCD', 'FilterCoffee,Cappuccino'),\n",
    "('i want 4 VanillaCappuccino and 3 FilterCoffee from CCD','VanillaCappuccino,FilterCoffee'),\n",
    "('i want 5 Macchiato and 5 VanillaCappuccino from CCD', 'Macchiato,VanillaCappuccino'),\n",
    "('i want 6 Latte and 4 Macchiato from CCD', 'Latte,Macchiato'),\n",
    "('i want 7 Cappuccino and 2 Latte from CCD', 'Cappuccino,Latte'),\n",
    "('i want 8 Americano  and 1 Macchiato from CCD', 'Americano,Macchiato'),\n",
    "('i want 9 Cappuccino and 3 Latte from CCD', 'Cappuccino,Latte'),\n",
    "('i want 1 Americano  and 2 Cappuccino from CCD', 'Americano,Cappuccino'),\n",
    "('i want 5 Americano  and 20 Cappuccino from CCD','Americano,Cappuccino'),\n",
    "('i want 2 Cappuccino and 3 Americano  from CCD', \"Cappuccino,Americano\"),\n",
    "('i want 3 FilterCoffee and 10 Cappuccino from CCD', 'FilterCoffee,Cappuccino'),\n",
    "('i want 4 VanillaCappuccino and 3 FilterCoffee from CCD','VanillaCappuccino,FilterCoffee'),\n",
    "('i want 5 Macchiato and 5 VanillaCappuccino from CCD', 'Macchiato,VanillaCappuccino'),\n",
    "('i want 6 Latte and 4 Macchiato from CCD', 'Latte,Macchiato'),\n",
    "('i want 7 Cappuccino and 2 Latte from CCD', 'Cappuccino,Latte'),\n",
    "('i want 8 Americano  and 1 Macchiato from CCD', 'Americano,Macchiato'),\n",
    "('i want 9 Cappuccino and 2 Latte from CCD', 'Cappuccino,Latte'),\n",
    "('i want 10 Americano  and 2 Cappuccino from CCD', 'Americano,Cappuccino')    \n",
    "]\n",
    "test = [\n",
    "      ('i want 5 Cappuccino  and 20 Latte from CCD'),\n",
    "('i want 2 Cappuccino and 3 FilterCoffee  from CCD'),\n",
    "('i want 3 FilterCoffee and 10 Cappuccino from CCD'),\n",
    "('i want 4 Macchiato and 3 FilterCoffee from CCD'),\n",
    "('i want 3 Macchiato and 5 VanillaCappuccino from CCD'),\n",
    "('i want 1 Latte and 4 Macchiato from CCD'),\n",
    "('i want 7 Americano and 2 Latte from CCD'),\n",
    "('i want 3 VanillaCappuccino  and 1 Macchiato from CCD')\n",
    "]\n"
   ]
  },
  {
   "cell_type": "code",
   "execution_count": 33,
   "id": "ebea6ee0",
   "metadata": {},
   "outputs": [],
   "source": [
    "from textblob.classifiers import NaiveBayesClassifier\n",
    "cl=NaiveBayesClassifier(train)"
   ]
  },
  {
   "cell_type": "code",
   "execution_count": 35,
   "id": "9d7cb55a",
   "metadata": {},
   "outputs": [
    {
     "data": {
      "text/plain": [
       "'Macchiato,VanillaCappuccino'"
      ]
     },
     "execution_count": 35,
     "metadata": {},
     "output_type": "execute_result"
    }
   ],
   "source": [
    "cl.classify(test)"
   ]
  },
  {
   "cell_type": "code",
   "execution_count": null,
   "id": "b057d2a8",
   "metadata": {},
   "outputs": [],
   "source": []
  },
  {
   "cell_type": "code",
   "execution_count": null,
   "id": "4907b043",
   "metadata": {},
   "outputs": [],
   "source": []
  },
  {
   "cell_type": "code",
   "execution_count": null,
   "id": "b12f851f",
   "metadata": {},
   "outputs": [],
   "source": []
  },
  {
   "cell_type": "code",
   "execution_count": null,
   "id": "ab25e981",
   "metadata": {},
   "outputs": [],
   "source": []
  }
 ],
 "metadata": {
  "kernelspec": {
   "display_name": "Python 3",
   "language": "python",
   "name": "python3"
  },
  "language_info": {
   "codemirror_mode": {
    "name": "ipython",
    "version": 3
   },
   "file_extension": ".py",
   "mimetype": "text/x-python",
   "name": "python",
   "nbconvert_exporter": "python",
   "pygments_lexer": "ipython3",
   "version": "3.8.5"
  }
 },
 "nbformat": 4,
 "nbformat_minor": 5
}
